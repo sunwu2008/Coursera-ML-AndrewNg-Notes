{
  "nbformat": 4,
  "nbformat_minor": 0,
  "metadata": {
    "colab": {
      "provenance": [],
      "collapsed_sections": [
        "qX3I3TX5nv9k",
        "5XLegBHmzCy8",
        "u0y-YSta36vJ",
        "uV6PR_PFC0np",
        "2QTUJ7GpTd6z",
        "YwKA2a0pQa72",
        "ofeGrGAM-9d7",
        "57N9IDMwI_eS",
        "NSwhAiLK_Dh6",
        "XinV8nmAnmKN",
        "hhCGlNygnkU5",
        "H5FT-AxTd3Nf"
      ],
      "gpuType": "T4",
      "include_colab_link": true
    },
    "kernelspec": {
      "name": "python3",
      "display_name": "Python 3"
    },
    "language_info": {
      "name": "python"
    },
    "widgets": {
      "application/vnd.jupyter.widget-state+json": {
        "87706409227b4d94a2d303a3f6597fc8": {
          "model_module": "@jupyter-widgets/controls",
          "model_name": "HBoxModel",
          "model_module_version": "1.5.0",
          "state": {
            "_dom_classes": [],
            "_model_module": "@jupyter-widgets/controls",
            "_model_module_version": "1.5.0",
            "_model_name": "HBoxModel",
            "_view_count": null,
            "_view_module": "@jupyter-widgets/controls",
            "_view_module_version": "1.5.0",
            "_view_name": "HBoxView",
            "box_style": "",
            "children": [
              "IPY_MODEL_e0f5427d38e74917a3ce041c81b6c09c",
              "IPY_MODEL_16bca2e0641140a4af096ac545a205a3",
              "IPY_MODEL_3c67717035f0493f978b0aecf30d9f72"
            ],
            "layout": "IPY_MODEL_3351b3d677e54a16b87bda1008640faf"
          }
        },
        "e0f5427d38e74917a3ce041c81b6c09c": {
          "model_module": "@jupyter-widgets/controls",
          "model_name": "HTMLModel",
          "model_module_version": "1.5.0",
          "state": {
            "_dom_classes": [],
            "_model_module": "@jupyter-widgets/controls",
            "_model_module_version": "1.5.0",
            "_model_name": "HTMLModel",
            "_view_count": null,
            "_view_module": "@jupyter-widgets/controls",
            "_view_module_version": "1.5.0",
            "_view_name": "HTMLView",
            "description": "",
            "description_tooltip": null,
            "layout": "IPY_MODEL_2b7a4effaffa4cc8a66c8773ab940a46",
            "placeholder": "​",
            "style": "IPY_MODEL_7ea418f01382497e88514bf758a7fcc9",
            "value": "100%"
          }
        },
        "16bca2e0641140a4af096ac545a205a3": {
          "model_module": "@jupyter-widgets/controls",
          "model_name": "FloatProgressModel",
          "model_module_version": "1.5.0",
          "state": {
            "_dom_classes": [],
            "_model_module": "@jupyter-widgets/controls",
            "_model_module_version": "1.5.0",
            "_model_name": "FloatProgressModel",
            "_view_count": null,
            "_view_module": "@jupyter-widgets/controls",
            "_view_module_version": "1.5.0",
            "_view_name": "ProgressView",
            "bar_style": "success",
            "description": "",
            "description_tooltip": null,
            "layout": "IPY_MODEL_964b5d6c55954377abaf3156c2a263bf",
            "max": 5000,
            "min": 0,
            "orientation": "horizontal",
            "style": "IPY_MODEL_4f81b2e977844c46b63dcc538dfef6d5",
            "value": 5000
          }
        },
        "3c67717035f0493f978b0aecf30d9f72": {
          "model_module": "@jupyter-widgets/controls",
          "model_name": "HTMLModel",
          "model_module_version": "1.5.0",
          "state": {
            "_dom_classes": [],
            "_model_module": "@jupyter-widgets/controls",
            "_model_module_version": "1.5.0",
            "_model_name": "HTMLModel",
            "_view_count": null,
            "_view_module": "@jupyter-widgets/controls",
            "_view_module_version": "1.5.0",
            "_view_name": "HTMLView",
            "description": "",
            "description_tooltip": null,
            "layout": "IPY_MODEL_b4da4de21877428b92da8ce04e097b9b",
            "placeholder": "​",
            "style": "IPY_MODEL_258571937d1b44778e0b9dbdfb487ee9",
            "value": " 5000/5000 [00:18&lt;00:00, 347.20it/s]"
          }
        },
        "3351b3d677e54a16b87bda1008640faf": {
          "model_module": "@jupyter-widgets/base",
          "model_name": "LayoutModel",
          "model_module_version": "1.2.0",
          "state": {
            "_model_module": "@jupyter-widgets/base",
            "_model_module_version": "1.2.0",
            "_model_name": "LayoutModel",
            "_view_count": null,
            "_view_module": "@jupyter-widgets/base",
            "_view_module_version": "1.2.0",
            "_view_name": "LayoutView",
            "align_content": null,
            "align_items": null,
            "align_self": null,
            "border": null,
            "bottom": null,
            "display": null,
            "flex": null,
            "flex_flow": null,
            "grid_area": null,
            "grid_auto_columns": null,
            "grid_auto_flow": null,
            "grid_auto_rows": null,
            "grid_column": null,
            "grid_gap": null,
            "grid_row": null,
            "grid_template_areas": null,
            "grid_template_columns": null,
            "grid_template_rows": null,
            "height": null,
            "justify_content": null,
            "justify_items": null,
            "left": null,
            "margin": null,
            "max_height": null,
            "max_width": null,
            "min_height": null,
            "min_width": null,
            "object_fit": null,
            "object_position": null,
            "order": null,
            "overflow": null,
            "overflow_x": null,
            "overflow_y": null,
            "padding": null,
            "right": null,
            "top": null,
            "visibility": null,
            "width": null
          }
        },
        "2b7a4effaffa4cc8a66c8773ab940a46": {
          "model_module": "@jupyter-widgets/base",
          "model_name": "LayoutModel",
          "model_module_version": "1.2.0",
          "state": {
            "_model_module": "@jupyter-widgets/base",
            "_model_module_version": "1.2.0",
            "_model_name": "LayoutModel",
            "_view_count": null,
            "_view_module": "@jupyter-widgets/base",
            "_view_module_version": "1.2.0",
            "_view_name": "LayoutView",
            "align_content": null,
            "align_items": null,
            "align_self": null,
            "border": null,
            "bottom": null,
            "display": null,
            "flex": null,
            "flex_flow": null,
            "grid_area": null,
            "grid_auto_columns": null,
            "grid_auto_flow": null,
            "grid_auto_rows": null,
            "grid_column": null,
            "grid_gap": null,
            "grid_row": null,
            "grid_template_areas": null,
            "grid_template_columns": null,
            "grid_template_rows": null,
            "height": null,
            "justify_content": null,
            "justify_items": null,
            "left": null,
            "margin": null,
            "max_height": null,
            "max_width": null,
            "min_height": null,
            "min_width": null,
            "object_fit": null,
            "object_position": null,
            "order": null,
            "overflow": null,
            "overflow_x": null,
            "overflow_y": null,
            "padding": null,
            "right": null,
            "top": null,
            "visibility": null,
            "width": null
          }
        },
        "7ea418f01382497e88514bf758a7fcc9": {
          "model_module": "@jupyter-widgets/controls",
          "model_name": "DescriptionStyleModel",
          "model_module_version": "1.5.0",
          "state": {
            "_model_module": "@jupyter-widgets/controls",
            "_model_module_version": "1.5.0",
            "_model_name": "DescriptionStyleModel",
            "_view_count": null,
            "_view_module": "@jupyter-widgets/base",
            "_view_module_version": "1.2.0",
            "_view_name": "StyleView",
            "description_width": ""
          }
        },
        "964b5d6c55954377abaf3156c2a263bf": {
          "model_module": "@jupyter-widgets/base",
          "model_name": "LayoutModel",
          "model_module_version": "1.2.0",
          "state": {
            "_model_module": "@jupyter-widgets/base",
            "_model_module_version": "1.2.0",
            "_model_name": "LayoutModel",
            "_view_count": null,
            "_view_module": "@jupyter-widgets/base",
            "_view_module_version": "1.2.0",
            "_view_name": "LayoutView",
            "align_content": null,
            "align_items": null,
            "align_self": null,
            "border": null,
            "bottom": null,
            "display": null,
            "flex": null,
            "flex_flow": null,
            "grid_area": null,
            "grid_auto_columns": null,
            "grid_auto_flow": null,
            "grid_auto_rows": null,
            "grid_column": null,
            "grid_gap": null,
            "grid_row": null,
            "grid_template_areas": null,
            "grid_template_columns": null,
            "grid_template_rows": null,
            "height": null,
            "justify_content": null,
            "justify_items": null,
            "left": null,
            "margin": null,
            "max_height": null,
            "max_width": null,
            "min_height": null,
            "min_width": null,
            "object_fit": null,
            "object_position": null,
            "order": null,
            "overflow": null,
            "overflow_x": null,
            "overflow_y": null,
            "padding": null,
            "right": null,
            "top": null,
            "visibility": null,
            "width": null
          }
        },
        "4f81b2e977844c46b63dcc538dfef6d5": {
          "model_module": "@jupyter-widgets/controls",
          "model_name": "ProgressStyleModel",
          "model_module_version": "1.5.0",
          "state": {
            "_model_module": "@jupyter-widgets/controls",
            "_model_module_version": "1.5.0",
            "_model_name": "ProgressStyleModel",
            "_view_count": null,
            "_view_module": "@jupyter-widgets/base",
            "_view_module_version": "1.2.0",
            "_view_name": "StyleView",
            "bar_color": null,
            "description_width": ""
          }
        },
        "b4da4de21877428b92da8ce04e097b9b": {
          "model_module": "@jupyter-widgets/base",
          "model_name": "LayoutModel",
          "model_module_version": "1.2.0",
          "state": {
            "_model_module": "@jupyter-widgets/base",
            "_model_module_version": "1.2.0",
            "_model_name": "LayoutModel",
            "_view_count": null,
            "_view_module": "@jupyter-widgets/base",
            "_view_module_version": "1.2.0",
            "_view_name": "LayoutView",
            "align_content": null,
            "align_items": null,
            "align_self": null,
            "border": null,
            "bottom": null,
            "display": null,
            "flex": null,
            "flex_flow": null,
            "grid_area": null,
            "grid_auto_columns": null,
            "grid_auto_flow": null,
            "grid_auto_rows": null,
            "grid_column": null,
            "grid_gap": null,
            "grid_row": null,
            "grid_template_areas": null,
            "grid_template_columns": null,
            "grid_template_rows": null,
            "height": null,
            "justify_content": null,
            "justify_items": null,
            "left": null,
            "margin": null,
            "max_height": null,
            "max_width": null,
            "min_height": null,
            "min_width": null,
            "object_fit": null,
            "object_position": null,
            "order": null,
            "overflow": null,
            "overflow_x": null,
            "overflow_y": null,
            "padding": null,
            "right": null,
            "top": null,
            "visibility": null,
            "width": null
          }
        },
        "258571937d1b44778e0b9dbdfb487ee9": {
          "model_module": "@jupyter-widgets/controls",
          "model_name": "DescriptionStyleModel",
          "model_module_version": "1.5.0",
          "state": {
            "_model_module": "@jupyter-widgets/controls",
            "_model_module_version": "1.5.0",
            "_model_name": "DescriptionStyleModel",
            "_view_count": null,
            "_view_module": "@jupyter-widgets/base",
            "_view_module_version": "1.2.0",
            "_view_name": "StyleView",
            "description_width": ""
          }
        }
      }
    },
    "accelerator": "GPU"
  },
  "cells": [
    {
      "cell_type": "markdown",
      "metadata": {
        "id": "view-in-github",
        "colab_type": "text"
      },
      "source": [
        "<a href=\"https://colab.research.google.com/github/sunwu2008/Coursera-ML-AndrewNg-Notes/blob/master/build_a_tiny_large_model.ipynb\" target=\"_parent\"><img src=\"https://colab.research.google.com/assets/colab-badge.svg\" alt=\"Open In Colab\"/></a>"
      ]
    },
    {
      "cell_type": "markdown",
      "source": [
        "# A Tiny Large Model from Scratch\n",
        "\n",
        "A notebook that builds up the intuition behind Transformers, bit-by-bit, in [JAX](https://jax.readthedocs.io/en/latest/index.html) with [Penzai's](https://penzai.readthedocs.io/) named axes system. This notebook was developed for [CSC 2541H1: Large Models](https://www.cs.toronto.edu/~cmaddis/courses/csc2541_w25/) taught at UToronto by [Chris J. Maddison](https://www.cs.toronto.edu/~cmaddis/). It is inspired by Andrej Karpathy's [notebook](https://www.youtube.com/redirect?event=video_description&redir_token=QUFFLUhqbllONmg3WW9NOS1GODA5VVN5Q0tuWGhsUmthQXxBQ3Jtc0trUU5pM0JtUjZrWThNSXRMVE1lZ3ZncXljSV95UjJseXZuTE50VEUwbFVIVDRYcmhnNzh0eHBGNEE2Yk9wTE05WEh0YkhYMmVsbXlieTBqenNNcFlTYW9Ha29pMHJJb0U3MnJDcG0zbVJCWGFicmV2Yw&q=https%3A%2F%2Fcolab.research.google.com%2Fdrive%2F1JMLa53HDuA-i7ZBmqV7ZnA3c_fvtXnx-%3Fusp%3Dsharing&v=kCc8FmEb1nY).\n",
        "\n",
        "* **Lecture:** [Lecture 1 of CSC 2541H1: Large Models](https://www.cs.toronto.edu/~cmaddis/courses/csc2541_w25/lectures/lec1.pdf) provides important context behind what we mean by prediction."
      ],
      "metadata": {
        "id": "wJpXpmjEYC_T"
      }
    },
    {
      "cell_type": "markdown",
      "source": [
        "## Imports\n",
        "\n",
        "*    We will be computing with [JAX](https://jax.readthedocs.io/en/latest/index.html), which is a high-performance array computing library for Python that implements automatic differentiation.\n",
        "  * **If you haven't seen or used JAX before, you can think of it as Numpy with automatic differentiation functionality.**\n",
        "*    We're using [Penzai](https://penzai.readthedocs.io/) and [Treescope](https://treescope.readthedocs.io/) for named axis functionality and pretty array printing, respectively. These libraries were written by [Daniel Johnson](https://www.danieldjohnson.com/), a UofT graduate student."
      ],
      "metadata": {
        "id": "qX3I3TX5nv9k"
      }
    },
    {
      "cell_type": "code",
      "source": [
        "import traceback\n",
        "import numpy as np\n",
        "import jax\n",
        "import jax.numpy as jnp\n",
        "try:\n",
        "  from penzai import pz\n",
        "except ImportError:\n",
        "  !pip install penzai[notebook]\n",
        "  from penzai import pz\n",
        "import treescope\n",
        "from penzai.core.named_axes import wrap, nmap\n",
        "from tqdm.notebook import tqdm\n",
        "import matplotlib.pyplot as plt\n",
        "import humanize"
      ],
      "metadata": {
        "id": "FfK-QZjHn4wZ",
        "colab": {
          "base_uri": "https://localhost:8080/"
        },
        "outputId": "c117695d-0427-413d-ec28-21d083a5a81f"
      },
      "execution_count": null,
      "outputs": [
        {
          "output_type": "stream",
          "name": "stdout",
          "text": [
            "Collecting penzai[notebook]\n",
            "  Downloading penzai-0.2.4-py3-none-any.whl.metadata (9.1 kB)\n",
            "Requirement already satisfied: absl-py>=1.4.0 in /usr/local/lib/python3.11/dist-packages (from penzai[notebook]) (1.4.0)\n",
            "Requirement already satisfied: jax>=0.4.23 in /usr/local/lib/python3.11/dist-packages (from penzai[notebook]) (0.4.33)\n",
            "Requirement already satisfied: numpy>=1.25.2 in /usr/local/lib/python3.11/dist-packages (from penzai[notebook]) (1.26.4)\n",
            "Collecting ordered_set>=4.1.0 (from penzai[notebook])\n",
            "  Downloading ordered_set-4.1.0-py3-none-any.whl.metadata (5.3 kB)\n",
            "Requirement already satisfied: treescope>=0.1.3 in /usr/local/lib/python3.11/dist-packages (from penzai[notebook]) (0.1.9)\n",
            "Requirement already satisfied: typing_extensions>=4.2 in /usr/local/lib/python3.11/dist-packages (from penzai[notebook]) (4.12.2)\n",
            "Requirement already satisfied: ipython in /usr/local/lib/python3.11/dist-packages (from penzai[notebook]) (7.34.0)\n",
            "Requirement already satisfied: flax>=0.8.2 in /usr/local/lib/python3.11/dist-packages (from penzai[notebook]) (0.10.3)\n",
            "Requirement already satisfied: optax in /usr/local/lib/python3.11/dist-packages (from penzai[notebook]) (0.2.4)\n",
            "Requirement already satisfied: orbax-checkpoint in /usr/local/lib/python3.11/dist-packages (from penzai[notebook]) (0.6.4)\n",
            "Collecting palettable (from penzai[notebook])\n",
            "  Downloading palettable-3.3.3-py2.py3-none-any.whl.metadata (3.3 kB)\n",
            "Requirement already satisfied: msgpack in /usr/local/lib/python3.11/dist-packages (from flax>=0.8.2->penzai[notebook]) (1.1.0)\n",
            "Requirement already satisfied: tensorstore in /usr/local/lib/python3.11/dist-packages (from flax>=0.8.2->penzai[notebook]) (0.1.71)\n",
            "Requirement already satisfied: rich>=11.1 in /usr/local/lib/python3.11/dist-packages (from flax>=0.8.2->penzai[notebook]) (13.9.4)\n",
            "Requirement already satisfied: PyYAML>=5.4.1 in /usr/local/lib/python3.11/dist-packages (from flax>=0.8.2->penzai[notebook]) (6.0.2)\n",
            "Requirement already satisfied: jaxlib<=0.4.33,>=0.4.33 in /usr/local/lib/python3.11/dist-packages (from jax>=0.4.23->penzai[notebook]) (0.4.33)\n",
            "Requirement already satisfied: ml-dtypes>=0.2.0 in /usr/local/lib/python3.11/dist-packages (from jax>=0.4.23->penzai[notebook]) (0.4.1)\n",
            "Requirement already satisfied: opt-einsum in /usr/local/lib/python3.11/dist-packages (from jax>=0.4.23->penzai[notebook]) (3.4.0)\n",
            "Requirement already satisfied: scipy>=1.10 in /usr/local/lib/python3.11/dist-packages (from jax>=0.4.23->penzai[notebook]) (1.13.1)\n",
            "Requirement already satisfied: setuptools>=18.5 in /usr/local/lib/python3.11/dist-packages (from ipython->penzai[notebook]) (75.1.0)\n",
            "Collecting jedi>=0.16 (from ipython->penzai[notebook])\n",
            "  Downloading jedi-0.19.2-py2.py3-none-any.whl.metadata (22 kB)\n",
            "Requirement already satisfied: decorator in /usr/local/lib/python3.11/dist-packages (from ipython->penzai[notebook]) (4.4.2)\n",
            "Requirement already satisfied: pickleshare in /usr/local/lib/python3.11/dist-packages (from ipython->penzai[notebook]) (0.7.5)\n",
            "Requirement already satisfied: traitlets>=4.2 in /usr/local/lib/python3.11/dist-packages (from ipython->penzai[notebook]) (5.7.1)\n",
            "Requirement already satisfied: prompt-toolkit!=3.0.0,!=3.0.1,<3.1.0,>=2.0.0 in /usr/local/lib/python3.11/dist-packages (from ipython->penzai[notebook]) (3.0.50)\n",
            "Requirement already satisfied: pygments in /usr/local/lib/python3.11/dist-packages (from ipython->penzai[notebook]) (2.18.0)\n",
            "Requirement already satisfied: backcall in /usr/local/lib/python3.11/dist-packages (from ipython->penzai[notebook]) (0.2.0)\n",
            "Requirement already satisfied: matplotlib-inline in /usr/local/lib/python3.11/dist-packages (from ipython->penzai[notebook]) (0.1.7)\n",
            "Requirement already satisfied: pexpect>4.3 in /usr/local/lib/python3.11/dist-packages (from ipython->penzai[notebook]) (4.9.0)\n",
            "Requirement already satisfied: chex>=0.1.87 in /usr/local/lib/python3.11/dist-packages (from optax->penzai[notebook]) (0.1.88)\n",
            "Requirement already satisfied: etils[epy] in /usr/local/lib/python3.11/dist-packages (from optax->penzai[notebook]) (1.12.0)\n",
            "Requirement already satisfied: nest_asyncio in /usr/local/lib/python3.11/dist-packages (from orbax-checkpoint->penzai[notebook]) (1.6.0)\n",
            "Requirement already satisfied: protobuf in /usr/local/lib/python3.11/dist-packages (from orbax-checkpoint->penzai[notebook]) (4.25.6)\n",
            "Requirement already satisfied: humanize in /usr/local/lib/python3.11/dist-packages (from orbax-checkpoint->penzai[notebook]) (4.11.0)\n",
            "Requirement already satisfied: toolz>=0.9.0 in /usr/local/lib/python3.11/dist-packages (from chex>=0.1.87->optax->penzai[notebook]) (0.12.1)\n",
            "Requirement already satisfied: parso<0.9.0,>=0.8.4 in /usr/local/lib/python3.11/dist-packages (from jedi>=0.16->ipython->penzai[notebook]) (0.8.4)\n",
            "Requirement already satisfied: ptyprocess>=0.5 in /usr/local/lib/python3.11/dist-packages (from pexpect>4.3->ipython->penzai[notebook]) (0.7.0)\n",
            "Requirement already satisfied: wcwidth in /usr/local/lib/python3.11/dist-packages (from prompt-toolkit!=3.0.0,!=3.0.1,<3.1.0,>=2.0.0->ipython->penzai[notebook]) (0.2.13)\n",
            "Requirement already satisfied: markdown-it-py>=2.2.0 in /usr/local/lib/python3.11/dist-packages (from rich>=11.1->flax>=0.8.2->penzai[notebook]) (3.0.0)\n",
            "Requirement already satisfied: fsspec in /usr/local/lib/python3.11/dist-packages (from etils[epath,epy]->orbax-checkpoint->penzai[notebook]) (2024.10.0)\n",
            "Requirement already satisfied: importlib_resources in /usr/local/lib/python3.11/dist-packages (from etils[epath,epy]->orbax-checkpoint->penzai[notebook]) (6.5.2)\n",
            "Requirement already satisfied: zipp in /usr/local/lib/python3.11/dist-packages (from etils[epath,epy]->orbax-checkpoint->penzai[notebook]) (3.21.0)\n",
            "Requirement already satisfied: mdurl~=0.1 in /usr/local/lib/python3.11/dist-packages (from markdown-it-py>=2.2.0->rich>=11.1->flax>=0.8.2->penzai[notebook]) (0.1.2)\n",
            "Downloading ordered_set-4.1.0-py3-none-any.whl (7.6 kB)\n",
            "Downloading palettable-3.3.3-py2.py3-none-any.whl (332 kB)\n",
            "\u001b[2K   \u001b[90m━━━━━━━━━━━━━━━━━━━━━━━━━━━━━━━━━━━━━━━━\u001b[0m \u001b[32m332.3/332.3 kB\u001b[0m \u001b[31m10.8 MB/s\u001b[0m eta \u001b[36m0:00:00\u001b[0m\n",
            "\u001b[?25hDownloading penzai-0.2.4-py3-none-any.whl (317 kB)\n",
            "\u001b[2K   \u001b[90m━━━━━━━━━━━━━━━━━━━━━━━━━━━━━━━━━━━━━━━━\u001b[0m \u001b[32m317.8/317.8 kB\u001b[0m \u001b[31m22.2 MB/s\u001b[0m eta \u001b[36m0:00:00\u001b[0m\n",
            "\u001b[?25hDownloading jedi-0.19.2-py2.py3-none-any.whl (1.6 MB)\n",
            "\u001b[2K   \u001b[90m━━━━━━━━━━━━━━━━━━━━━━━━━━━━━━━━━━━━━━━━\u001b[0m \u001b[32m1.6/1.6 MB\u001b[0m \u001b[31m32.1 MB/s\u001b[0m eta \u001b[36m0:00:00\u001b[0m\n",
            "\u001b[?25hInstalling collected packages: palettable, ordered_set, jedi, penzai\n",
            "Successfully installed jedi-0.19.2 ordered_set-4.1.0 palettable-3.3.3 penzai-0.2.4\n"
          ]
        }
      ]
    },
    {
      "cell_type": "code",
      "source": [
        "# initialize the visualizer\n",
        "treescope.basic_interactive_setup(autovisualize_arrays=True)"
      ],
      "metadata": {
        "id": "20rG8kLo1aWJ"
      },
      "execution_count": null,
      "outputs": []
    },
    {
      "cell_type": "markdown",
      "source": [
        "## Raw Text Data\n",
        "\n",
        "Data starts as bits collected from the internet. In our case, we will be working with subsets of the [Tiny Stories](https://arxiv.org/abs/2305.07759) training and validation sets.\n",
        "  *    Tiny Stories is a synthetic dataset of short stories that only contain words that a typical 3 to 4-year-olds usually understand, generated by GPT-3.5 and GPT-4.\n",
        "  *    Tiny Stories comes with a training / validation split, but typically, if you're really starting from scratch, you will need to make your own split."
      ],
      "metadata": {
        "id": "5XLegBHmzCy8"
      }
    },
    {
      "cell_type": "markdown",
      "source": [
        "* Let's begin by downloading and inspecting the data."
      ],
      "metadata": {
        "id": "o4bDJXnEgXxx"
      }
    },
    {
      "cell_type": "code",
      "execution_count": null,
      "metadata": {
        "colab": {
          "base_uri": "https://localhost:8080/"
        },
        "id": "h5hjCcLDr2WC",
        "outputId": "e552eec1-b8ad-44ce-e4b0-7e5ffa2e94a6",
        "collapsed": true
      },
      "outputs": [
        {
          "output_type": "stream",
          "name": "stdout",
          "text": [
            "--2025-02-23 21:16:09--  https://www.cs.toronto.edu/~cmaddis/files/TinyStories-train-subset.txt\n",
            "Resolving www.cs.toronto.edu (www.cs.toronto.edu)... 128.100.3.30\n",
            "Connecting to www.cs.toronto.edu (www.cs.toronto.edu)|128.100.3.30|:443... connected.\n",
            "HTTP request sent, awaiting response... 200 OK\n",
            "Length: 1020038 (996K) [text/plain]\n",
            "Saving to: ‘train.txt’\n",
            "\n",
            "train.txt           100%[===================>] 996.13K  2.53MB/s    in 0.4s    \n",
            "\n",
            "2025-02-23 21:16:09 (2.53 MB/s) - ‘train.txt’ saved [1020038/1020038]\n",
            "\n",
            "--2025-02-23 21:16:10--  https://www.cs.toronto.edu/~cmaddis/files/TinyStories-valid-subset.txt\n",
            "Resolving www.cs.toronto.edu (www.cs.toronto.edu)... 128.100.3.30\n",
            "Connecting to www.cs.toronto.edu (www.cs.toronto.edu)|128.100.3.30|:443... connected.\n",
            "HTTP request sent, awaiting response... 200 OK\n",
            "Length: 114692 (112K) [text/plain]\n",
            "Saving to: ‘valid.txt’\n",
            "\n",
            "valid.txt           100%[===================>] 112.00K   592KB/s    in 0.2s    \n",
            "\n",
            "2025-02-23 21:16:10 (592 KB/s) - ‘valid.txt’ saved [114692/114692]\n",
            "\n"
          ]
        }
      ],
      "source": [
        "# Let's download the data and load it into memory\n",
        "!wget -O train.txt https://www.cs.toronto.edu/~cmaddis/files/TinyStories-train-subset.txt\n",
        "!wget -O valid.txt https://www.cs.toronto.edu/~cmaddis/files/TinyStories-valid-subset.txt\n",
        "\n",
        "# this loads the data into memory, split into a list of stories (or documents)\n",
        "with open('train.txt', 'r') as f:\n",
        "  train = f.read()\n",
        "\n",
        "with open('valid.txt', 'r') as f:\n",
        "  val = f.read()"
      ]
    },
    {
      "cell_type": "code",
      "source": [
        "# strings are sequences of characters\n",
        "print(\"length of training dataset in characters: \", humanize.intword(len(train)))\n",
        "print(\"length of validation dataset in characters: \", humanize.intword(len(val)))\n",
        "\n",
        "# each character represented in UTF-8 takes up (approx) 8 bits\n",
        "print(\"\\nlength of training dataset in bits (approx): \", humanize.intword(len(train)*8))\n",
        "print(\"length of validation dataset in bits (approx): \", humanize.intword(len(val)*8))"
      ],
      "metadata": {
        "colab": {
          "base_uri": "https://localhost:8080/"
        },
        "id": "6xWI_VyAsN8F",
        "outputId": "fa3c4ec3-eab0-4f2c-89b2-a10920bad52f",
        "collapsed": true
      },
      "execution_count": null,
      "outputs": [
        {
          "output_type": "stream",
          "name": "stdout",
          "text": [
            "length of training dataset in characters:  1.0 million\n",
            "length of validation dataset in characters:  114.7 thousand\n",
            "\n",
            "length of training dataset in bits (approx):  8.2 million\n",
            "length of validation dataset in bits (approx):  917.5 thousand\n"
          ]
        }
      ]
    },
    {
      "cell_type": "code",
      "source": [
        "# let's look at the first story\n",
        "first_story = train.split(\"<|endoftext|>\")[0]\n",
        "print(first_story)"
      ],
      "metadata": {
        "colab": {
          "base_uri": "https://localhost:8080/"
        },
        "id": "2c5V0FvqseE0",
        "outputId": "cacfa8bf-71dc-439d-9fac-b0bffdea84b0"
      },
      "execution_count": null,
      "outputs": [
        {
          "output_type": "stream",
          "name": "stdout",
          "text": [
            "One day, a little girl named Lily found a needle in her room. She knew it was difficult to play with it because it was sharp. Lily wanted to share the needle with her mom, so she could sew a button on her shirt.\n",
            "Lily went to her mom and said, \"Mom, I found this needle. Can you share it with me and sew my shirt?\" Her mom smiled and said, \"Yes, Lily, we can share the needle and fix your shirt.\"\n",
            "Together, they shared the needle and sewed the button on Lily's shirt. It was not difficult for them because they were sharing and helping each other. After they finished, Lily thanked her mom for sharing the needle and fixing her shirt. They both felt happy because they had shared and worked together.\n",
            "\n"
          ]
        }
      ]
    },
    {
      "cell_type": "markdown",
      "source": [
        "* Our goal will be to build a tiny stories predictor\n",
        "* The predictors that we've been studying are distributions over discrete outcomes. To build a distribution, you need to know the the complete set of possible outcomes\n",
        "* **Our predictors will predict characters, one at a time, so we need to know the total set of characters**\n"
      ],
      "metadata": {
        "id": "FXXIBIMxgVvw"
      }
    },
    {
      "cell_type": "code",
      "source": [
        "# here are all the unique characters that occur in this text\n",
        "ALPHABET = sorted(list(set(train+val)))\n",
        "ALPHABET_SIZE = len(ALPHABET)\n",
        "print(f\"There are {ALPHABET_SIZE} unique characters in this data set.\")\n",
        "print(f\"Characters: {repr(''.join(ALPHABET))}\")"
      ],
      "metadata": {
        "colab": {
          "base_uri": "https://localhost:8080/"
        },
        "id": "0e-Rbyr8sfM8",
        "outputId": "fb03cc79-6c53-4f37-c58e-80c74e7b7c11"
      },
      "execution_count": null,
      "outputs": [
        {
          "output_type": "stream",
          "name": "stdout",
          "text": [
            "There are 79 unique characters in this data set.\n",
            "Characters: '\\n !\"$\\',-.012358:;<>?ABCDEFGHIJKLMNOPQRSTUVWXYZabcdefghijklmnopqrstuvwxyz|–—‘’“”'\n"
          ]
        }
      ]
    },
    {
      "cell_type": "markdown",
      "source": [
        "## Tokenization\n",
        "\n",
        "Predictors are defined, built, and studied using numbers. So, we need a numerical representation for text that allows us to build a predictor.\n",
        "\n",
        "* Tokenizers are functions that take sequences of characters and convert them into sequences of numbers\n",
        "* Tokenizers are invertible operations\n",
        "* There are many different types of tokenizers, see, *e.g.*, [HuggingFace Tokenizers](https://huggingface.co/docs/tokenizers/en/index)\n",
        "* We will be using the simplest tokenizer, which is a character-level tokenizer\n",
        "\n",
        "When we build predictors, formally, they will be *token predictors*"
      ],
      "metadata": {
        "id": "u0y-YSta36vJ"
      }
    },
    {
      "cell_type": "markdown",
      "source": [
        "* Character-level tokenization first creates a mapping from characters to integers\n",
        "* Encoding strings now consists of iteratively mapping each character, in order\n",
        "* Decoding is the reverse operation, iteratively mapping each integer to a character, according to the inverse map"
      ],
      "metadata": {
        "id": "Ml9hZSxJlOe3"
      }
    },
    {
      "cell_type": "code",
      "source": [
        "# create a mapping from characters to integers\n",
        "ctoi = { ch:i for i,ch in enumerate(ALPHABET) }\n",
        "itoc = { i:ch for i,ch in enumerate(ALPHABET) } # inverse map\n",
        "ENCODE = lambda s: [ctoi[c] for c in s] # encoder: take a string, output a list of integers\n",
        "DECODE = lambda l: ''.join([itoc[i] for i in l]) # decoder: take a list of integers, output a string"
      ],
      "metadata": {
        "id": "Yw1LKNCgwjj1"
      },
      "execution_count": null,
      "outputs": []
    },
    {
      "cell_type": "markdown",
      "source": [
        "* Encoded strings are **sequences of tokens**"
      ],
      "metadata": {
        "id": "k28uq1xAmK7G"
      }
    },
    {
      "cell_type": "code",
      "source": [
        "string = \"a tiny large model\"\n",
        "print(f\"A string: {repr(string)}\")\n",
        "print(f\"Its sequence of tokens: {ENCODE(string)}\")\n",
        "print(f\"Encode & decode are inverses: {repr(DECODE(ENCODE(string)))}\")"
      ],
      "metadata": {
        "colab": {
          "base_uri": "https://localhost:8080/"
        },
        "id": "-qQyZf9tAVRr",
        "outputId": "e1c2e334-e841-4ab2-f07b-47345b94eb01"
      },
      "execution_count": null,
      "outputs": [
        {
          "output_type": "stream",
          "name": "stdout",
          "text": [
            "A string: 'a tiny large model'\n",
            "Its sequence of tokens: [46, 1, 65, 54, 59, 70, 1, 57, 46, 63, 52, 50, 1, 58, 60, 49, 50, 57]\n",
            "Encode & decode are inverses: 'a tiny large model'\n"
          ]
        }
      ]
    },
    {
      "cell_type": "markdown",
      "source": [
        "* Let's encode the whole training and validation sets for convenience"
      ],
      "metadata": {
        "id": "V1NFuOuElvY-"
      }
    },
    {
      "cell_type": "code",
      "source": [
        "TRAIN_TOKENS = np.array(ENCODE(train), dtype=np.int32)\n",
        "VAL_TOKENS = np.array(ENCODE(val), dtype=np.int32)\n",
        "print(f\"Train set has {TRAIN_TOKENS.shape[0]} tokens\")\n",
        "print(\"The story we looked at earlier, as will be seen by our predictor:\")\n",
        "print(TRAIN_TOKENS[:len(first_story+\"<|endoftext|>\")]) # the story we looked at earier"
      ],
      "metadata": {
        "colab": {
          "base_uri": "https://localhost:8080/"
        },
        "id": "YJb0OXPwzvqg",
        "outputId": "7e9b2f69-e886-48b4-a44e-3058c00685e5"
      },
      "execution_count": null,
      "outputs": [
        {
          "output_type": "stream",
          "name": "stdout",
          "text": [
            "Train set has 1019132 tokens\n",
            "The story we looked at earlier, as will be seen by our predictor:\n",
            "[34 59 50  1 49 46 70  6  1 46  1 57 54 65 65 57 50  1 52 54 63 57  1 59\n",
            " 46 58 50 49  1 31 54 57 70  1 51 60 66 59 49  1 46  1 59 50 50 49 57 50\n",
            "  1 54 59  1 53 50 63  1 63 60 60 58  8  1 38 53 50  1 56 59 50 68  1 54\n",
            " 65  1 68 46 64  1 49 54 51 51 54 48 66 57 65  1 65 60  1 61 57 46 70  1\n",
            " 68 54 65 53  1 54 65  1 47 50 48 46 66 64 50  1 54 65  1 68 46 64  1 64\n",
            " 53 46 63 61  8  1 31 54 57 70  1 68 46 59 65 50 49  1 65 60  1 64 53 46\n",
            " 63 50  1 65 53 50  1 59 50 50 49 57 50  1 68 54 65 53  1 53 50 63  1 58\n",
            " 60 58  6  1 64 60  1 64 53 50  1 48 60 66 57 49  1 64 50 68  1 46  1 47\n",
            " 66 65 65 60 59  1 60 59  1 53 50 63  1 64 53 54 63 65  8  0 31 54 57 70\n",
            "  1 68 50 59 65  1 65 60  1 53 50 63  1 58 60 58  1 46 59 49  1 64 46 54\n",
            " 49  6  1  3 32 60 58  6  1 28  1 51 60 66 59 49  1 65 53 54 64  1 59 50\n",
            " 50 49 57 50  8  1 22 46 59  1 70 60 66  1 64 53 46 63 50  1 54 65  1 68\n",
            " 54 65 53  1 58 50  1 46 59 49  1 64 50 68  1 58 70  1 64 53 54 63 65 19\n",
            "  3  1 27 50 63  1 58 60 58  1 64 58 54 57 50 49  1 46 59 49  1 64 46 54\n",
            " 49  6  1  3 44 50 64  6  1 31 54 57 70  6  1 68 50  1 48 46 59  1 64 53\n",
            " 46 63 50  1 65 53 50  1 59 50 50 49 57 50  1 46 59 49  1 51 54 69  1 70\n",
            " 60 66 63  1 64 53 54 63 65  8  3  0 39 60 52 50 65 53 50 63  6  1 65 53\n",
            " 50 70  1 64 53 46 63 50 49  1 65 53 50  1 59 50 50 49 57 50  1 46 59 49\n",
            "  1 64 50 68 50 49  1 65 53 50  1 47 66 65 65 60 59  1 60 59  1 31 54 57\n",
            " 70  5 64  1 64 53 54 63 65  8  1 28 65  1 68 46 64  1 59 60 65  1 49 54\n",
            " 51 51 54 48 66 57 65  1 51 60 63  1 65 53 50 58  1 47 50 48 46 66 64 50\n",
            "  1 65 53 50 70  1 68 50 63 50  1 64 53 46 63 54 59 52  1 46 59 49  1 53\n",
            " 50 57 61 54 59 52  1 50 46 48 53  1 60 65 53 50 63  8  1 20 51 65 50 63\n",
            "  1 65 53 50 70  1 51 54 59 54 64 53 50 49  6  1 31 54 57 70  1 65 53 46\n",
            " 59 56 50 49  1 53 50 63  1 58 60 58  1 51 60 63  1 64 53 46 63 54 59 52\n",
            "  1 65 53 50  1 59 50 50 49 57 50  1 46 59 49  1 51 54 69 54 59 52  1 53\n",
            " 50 63  1 64 53 54 63 65  8  1 39 53 50 70  1 47 60 65 53  1 51 50 57 65\n",
            "  1 53 46 61 61 70  1 47 50 48 46 66 64 50  1 65 53 50 70  1 53 46 49  1\n",
            " 64 53 46 63 50 49  1 46 59 49  1 68 60 63 56 50 49  1 65 60 52 50 65 53\n",
            " 50 63  8  0 17 72 50 59 49 60 51 65 50 69 65 72 18]\n"
          ]
        }
      ]
    },
    {
      "cell_type": "markdown",
      "source": [
        "## Contexts and Batching\n",
        "\n",
        "Our token predictors will be conditional predictors, using the language on Lec 1.\n",
        "\n",
        "* There are a number of different conditional distributions that we could choose to model\n",
        "* We will model a sequence of tokens given one initial token\n",
        "* We can decompose distributions over many tokens into a sequence of next token conditional distributions, using what we know from probability. For example, if $x_i \\in \\mathbb{N}$ is a sequence of tokens, then\n",
        "\n",
        "$$p(x_1, x_2, x_3 | x_0) = p(x_1 | x_0) p(x_2 | x_0, x_1)p(x_3 | x_0, x_1, x_2)$$\n",
        "\n",
        "* For this reason, we focus on *next-token prediction*.\n"
      ],
      "metadata": {
        "id": "uV6PR_PFC0np"
      }
    },
    {
      "cell_type": "markdown",
      "source": [
        "We predict the next token by conditioning on a *context window*, which is the sequence of tokens that just precede it.\n",
        "\n",
        "* We would love to learn models with infinitely long context windows\n",
        "* But the cost of computing predictors will scale with the context length\n",
        "* So, in practice, we fix a maximum context length ahead of time and train predictors that condition on contexts of at most that length\n",
        "* That is, if $T$ is the maximum context length and $x_0, \\ldots, x_T$ is a random subsequence of the data, we want to model $p(x_1, \\ldots, x_T | x_0)$, which we will do by modeling the sequence of next token conditionals using the following decomposition:\n",
        "\n",
        "$$p(x_1, \\ldots, x_T | x_0) = p(x_1 | x_0) p(x_2 | x_0, x_1)\\ldots p(x_T | x_0, \\ldots, x_{T-1})$$\n",
        "\n",
        "\n",
        "Let's look at the first few context windows in our training set."
      ],
      "metadata": {
        "id": "QtaBevnIxL_J"
      }
    },
    {
      "cell_type": "code",
      "source": [
        "max_context_len = 8\n",
        "print(f\"The first {max_context_len} context windows of the training set:\")\n",
        "for t in range(max_context_len):\n",
        "  context = TRAIN_TOKENS[:t+1]\n",
        "  print(f\"The {humanize.ordinal(t+1)} context window of the training data is: {context}\")"
      ],
      "metadata": {
        "colab": {
          "base_uri": "https://localhost:8080/",
          "height": 221
        },
        "id": "TD5Bj8Y6IAD4",
        "outputId": "85709ef2-e27b-4d4c-b4e5-dec7e579058b"
      },
      "execution_count": null,
      "outputs": [
        {
          "output_type": "stream",
          "name": "stdout",
          "text": [
            "The first 8 context windows of the training set:\n"
          ]
        },
        {
          "output_type": "error",
          "ename": "NameError",
          "evalue": "name 'TRAIN_TOKENS' is not defined",
          "traceback": [
            "\u001b[0;31m---------------------------------------------------------------------------\u001b[0m",
            "\u001b[0;31mNameError\u001b[0m                                 Traceback (most recent call last)",
            "\u001b[0;32m<ipython-input-1-b3c7bf3f2278>\u001b[0m in \u001b[0;36m<cell line: 0>\u001b[0;34m()\u001b[0m\n\u001b[1;32m      2\u001b[0m \u001b[0mprint\u001b[0m\u001b[0;34m(\u001b[0m\u001b[0;34mf\"The first {max_context_len} context windows of the training set:\"\u001b[0m\u001b[0;34m)\u001b[0m\u001b[0;34m\u001b[0m\u001b[0;34m\u001b[0m\u001b[0m\n\u001b[1;32m      3\u001b[0m \u001b[0;32mfor\u001b[0m \u001b[0mt\u001b[0m \u001b[0;32min\u001b[0m \u001b[0mrange\u001b[0m\u001b[0;34m(\u001b[0m\u001b[0mmax_context_len\u001b[0m\u001b[0;34m)\u001b[0m\u001b[0;34m:\u001b[0m\u001b[0;34m\u001b[0m\u001b[0;34m\u001b[0m\u001b[0m\n\u001b[0;32m----> 4\u001b[0;31m   \u001b[0mcontext\u001b[0m \u001b[0;34m=\u001b[0m \u001b[0mTRAIN_TOKENS\u001b[0m\u001b[0;34m[\u001b[0m\u001b[0;34m:\u001b[0m\u001b[0mt\u001b[0m\u001b[0;34m+\u001b[0m\u001b[0;36m1\u001b[0m\u001b[0;34m]\u001b[0m\u001b[0;34m\u001b[0m\u001b[0;34m\u001b[0m\u001b[0m\n\u001b[0m\u001b[1;32m      5\u001b[0m   \u001b[0mprint\u001b[0m\u001b[0;34m(\u001b[0m\u001b[0;34mf\"The {humanize.ordinal(t+1)} context window of the training data is: {context}\"\u001b[0m\u001b[0;34m)\u001b[0m\u001b[0;34m\u001b[0m\u001b[0;34m\u001b[0m\u001b[0m\n",
            "\u001b[0;31mNameError\u001b[0m: name 'TRAIN_TOKENS' is not defined"
          ]
        }
      ]
    },
    {
      "cell_type": "markdown",
      "source": [
        "* The conditional predictors that we're studying are functions that map inputs to probability distributions\n",
        "* We optimize their parameters so that the output distributions minimizes the cross entropy to the target outcomes\n",
        "* In the case of next token prediction, the targets are the next tokens and the inputs are the context windows"
      ],
      "metadata": {
        "id": "YS6iGN1rscXN"
      }
    },
    {
      "cell_type": "code",
      "source": [
        "print('Recall: we want to model p(x[1:max_context_len+1]|x[0]).')\n",
        "print('Recall: we will do this by modeling p(x[i]|x[0:i]) for i in range(1, max_context_len+1).\\n')\n",
        "print('Thus, returning to our data, we want to build predictors for each of the following prediction problems.')\n",
        "max_context_len = 8\n",
        "for t in range(max_context_len):\n",
        "  x = TRAIN_TOKENS[:t+1]\n",
        "  y = TRAIN_TOKENS[t+1]\n",
        "  print(f\"From the {humanize.ordinal(t+1)} context x={x} predict target y={y}\")\n",
        "print('We will train a predictor for each of these.')"
      ],
      "metadata": {
        "id": "JmONnROktT6b"
      },
      "execution_count": null,
      "outputs": []
    },
    {
      "cell_type": "markdown",
      "source": [
        "* We can efficiently store all of the prediction problems into two arrays.\n",
        "* Store the context windows into a single input array `X` and all of the next-token targets into a single output array `Y`."
      ],
      "metadata": {
        "id": "u5B0vBjctiMT"
      }
    },
    {
      "cell_type": "code",
      "source": [
        "max_context_len = 8\n",
        "X = TRAIN_TOKENS[:max_context_len]\n",
        "Y = TRAIN_TOKENS[1:max_context_len+1]\n",
        "print(f\"Y={Y}\\nX={X}\")\n",
        "print(\"Notice: X[:i] is the ith context window for i in range(1,max_context_len+1)\")\n",
        "print(\"Notice: X[:i]'s next token is at the index in Y[i]\")"
      ],
      "metadata": {
        "id": "9GhO3E_NrkaB"
      },
      "execution_count": null,
      "outputs": []
    },
    {
      "cell_type": "markdown",
      "source": [
        "* To take advantage of GPU's parallel computation architecture, we will train on *batches* of data\n",
        "* A batch of data is a sequence of (input, output) subsequences of the data\n",
        "  * There are many different batching strategies\n",
        "  * The choice of which batching strategy to use depends on your hardware constraints and statistical considerations\n",
        "  * We will get them by randomly picking a position in the training set and pulling `max_context_len` subsequences representing the input and output\n",
        "  * Recall: the output sequence is offset by 1 from the input sequence so that it represents the next tokens for every context window\n",
        "* Let's write a batching function"
      ],
      "metadata": {
        "id": "wrtnks910lnT"
      }
    },
    {
      "cell_type": "code",
      "source": [
        "np.random.seed(2541)\n",
        "\n",
        "def get_batch(batch_size, max_context_len, split):\n",
        "  # generate a small batch of data of inputs x and targets y\n",
        "  data = TRAIN_TOKENS if split == \"train\" else VAL_TOKENS\n",
        "  ix = np.random.randint(0, len(data) - max_context_len, (batch_size,))\n",
        "  X = np.stack([data[i:i+max_context_len] for i in ix])\n",
        "  Y = np.stack([data[i+1:i+max_context_len+1] for i in ix])\n",
        "  return X, Y\n",
        "\n",
        "batch_size = 4 # how many independent sequences will we process in parallel?\n",
        "max_context_len = 8 # what is the maximum context length for predictions?\n",
        "XB, YB = get_batch(batch_size, max_context_len, \"train\")\n",
        "print('inputs:')\n",
        "print(XB.shape)\n",
        "print(XB)\n",
        "print('targets:')\n",
        "print(YB.shape)\n",
        "print(YB)\n",
        "print('This is what the Transformer sees.')\n",
        "print('We will learn predictors from the input to the output.')"
      ],
      "metadata": {
        "id": "Q3k1Czf7LuA9"
      },
      "execution_count": null,
      "outputs": []
    },
    {
      "cell_type": "markdown",
      "source": [
        "## Penzai Named Arrays\n",
        "\n",
        "We'll be using named arrays, which assign string names to axes. This is because named axes can make it easier to keep track of the various dimensions of the tensors in Transformer computations, and they allow us to focus on the axes in tensors that are \"interacting\".\n",
        "\n",
        "To do this, we'll be using [Penzai](https://penzai.readthedocs.io/). Penzai was written by my PhD student, [Daniel Johnson](https://www.danieldjohnson.com/)! You can read more about the library's named array functionality [here](https://penzai.readthedocs.io/en/stable/notebooks/named_axes.html)."
      ],
      "metadata": {
        "id": "2QTUJ7GpTd6z"
      }
    },
    {
      "cell_type": "markdown",
      "source": [
        "### NamedArray\n",
        "\n",
        "The primary object in Penzai's named axis system is the `NamedArray`. A NamedArray wraps an ordinary jax.Array, but assigns names to (a subset of) its axes. These names are local to each array.\n",
        "\n",
        "You can convert a regular array to a NamedArray by calling `wrap`. A named array has both a `positional_shape` and a `named_shape`:\n",
        "\n",
        "*   **Named shapes are ordered Python dictionaries.**\n",
        "*   **Positional shapes are tuples.**"
      ],
      "metadata": {
        "id": "7C7khr9g7Gwm"
      }
    },
    {
      "cell_type": "code",
      "execution_count": null,
      "metadata": {
        "id": "iwZaOgIJYp6a",
        "colab": {
          "base_uri": "https://localhost:8080/"
        },
        "outputId": "9855c77d-cb1d-4aed-c97c-bdaf9cd43ccb"
      },
      "outputs": [
        {
          "output_type": "stream",
          "name": "stdout",
          "text": [
            "named_array = wrap(array) creates an array with only positional shape:\n",
            "\n",
            "\tnamed_array.positional_shape is (3, 4)\n",
            "\tnamed_array.named_shape is {}\n",
            "\n",
            "named_array = wrap(array, 'foo', 'bar') creates an array with a named shape:\n",
            "\n",
            "\tnamed_array.positional_shape is ()\n",
            "\tnamed_array.named_shape is {'foo': 3, 'bar': 4}\n"
          ]
        }
      ],
      "source": [
        "# Start with an array (this can be either a numpy.ndarray or a jax.Array)\n",
        "array = np.array([[0., 1., 2., 3.],\n",
        "                  [4., 5., 6., 7.],\n",
        "                  [8., 9., 10., 11.]])\n",
        "\n",
        "# Wrap it to make a NamedArray (the underlying array data will be stored in a jax.Array)\n",
        "named_array = wrap(array)\n",
        "print(\"named_array = wrap(array) creates an array with only positional shape:\\n\")\n",
        "print(f\"\\tnamed_array.positional_shape is {named_array.positional_shape}\")\n",
        "print(f\"\\tnamed_array.named_shape is {named_array.named_shape}\")\n",
        "\n",
        "# Wrap it to make a NamedArray\n",
        "named_array = wrap(array, \"foo\", \"bar\")\n",
        "print(\"\\nnamed_array = wrap(array, 'foo', 'bar') creates an array with a named shape:\\n\")\n",
        "print(f\"\\tnamed_array.positional_shape is {named_array.positional_shape}\")\n",
        "print(f\"\\tnamed_array.named_shape is {named_array.named_shape}\")"
      ]
    },
    {
      "cell_type": "markdown",
      "metadata": {
        "id": "9MQuRQgthXok"
      },
      "source": [
        "Penzai's NamedArray conventions are designed to use JAX operations in their original form along positional axes, while vectorizing over named axes. For example,"
      ]
    },
    {
      "cell_type": "code",
      "source": [
        "array = np.array([[0., 1., 2., 3.],\n",
        "                  [4., 5., 6., 7.],\n",
        "                  [8., 9., 10., 11.]])\n",
        "\n",
        "print(wrap(array, \"foo\", \"bar\").sum())\n",
        "print(wrap(array).sum())"
      ],
      "metadata": {
        "colab": {
          "base_uri": "https://localhost:8080/"
        },
        "id": "mfMuuFSKHnRy",
        "outputId": "b326f262-48e7-48da-f69a-78fb6bd5bbb5"
      },
      "execution_count": null,
      "outputs": [
        {
          "output_type": "stream",
          "name": "stdout",
          "text": [
            "<NamedArray float32(| foo:3, bar:4) ≈5.5 ±3.5 [≥0.0, ≤1.1e+01] zero:1 nonzero:11 (wrapping jax.Array)>\n",
            "<NamedArray Array(66., dtype=float32) (wrapping jax.Array)>\n"
          ]
        }
      ]
    },
    {
      "cell_type": "markdown",
      "source": [
        "### Tagging and untagging axes\n",
        "\n",
        "Because by convention we apply JAX operations over positional axes, we need to be able to dynamically specify which axes we want to be positional for any given operation.\n",
        "\n",
        "* Axes are converted between being named or positional by tagging and untagging.\n",
        "* An axis is named by `tag` and made positional by `untag`.\n",
        "* When tagging multiple positional axes: the first axis is tagged with the first name, the second axis is tagged with the second name, etc."
      ],
      "metadata": {
        "id": "SSLYIJ18F4es"
      }
    },
    {
      "cell_type": "code",
      "execution_count": null,
      "metadata": {
        "id": "VrwHyVHTZEdK",
        "colab": {
          "base_uri": "https://localhost:8080/"
        },
        "outputId": "f961d20f-18b6-45ef-da78-6d4171d171d3"
      },
      "outputs": [
        {
          "output_type": "stream",
          "name": "stdout",
          "text": [
            "start with named_array = wrap(array)\n",
            "\tnamed_array.positional_shape is (3, 4)\n",
            "\tnamed_array.named_shape is {}\n",
            "\n",
            "if we tag the axes, named_array = named_array.tag('foo', 'bar')\n",
            "\tnamed_array.positional_shape is ()\n",
            "\tnamed_array.named_shape is {'foo': 3, 'bar': 4}\n"
          ]
        }
      ],
      "source": [
        "# Let's start by making a wrapped array (which is fully positional at first)\n",
        "array = np.array([[0., 1., 2., 3.],\n",
        "                  [4., 5., 6., 7.],\n",
        "                  [8., 9., 10., 11.]])\n",
        "named_array = wrap(array)\n",
        "print(f\"start with named_array = wrap(array)\")\n",
        "print(f\"\\tnamed_array.positional_shape is {named_array.positional_shape}\")\n",
        "print(f\"\\tnamed_array.named_shape is {named_array.named_shape}\")\n",
        "\n",
        "# tag converts positional axes to named axes\n",
        "# This returns a new NamedArray, with names bound to those axes\n",
        "named_array = named_array.tag(\"foo\", \"bar\")\n",
        "print(f\"\\nif we tag the axes, named_array = named_array.tag('foo', 'bar')\")\n",
        "print(f\"\\tnamed_array.positional_shape is {named_array.positional_shape}\")\n",
        "print(f\"\\tnamed_array.named_shape is {named_array.named_shape}\")"
      ]
    },
    {
      "cell_type": "markdown",
      "metadata": {
        "id": "-yl9k8d1h5bE"
      },
      "source": [
        "* You can `untag` individual named axes.\n",
        "* Untagging is intended as a temporary change to allow JAX operations to act on a subset of axes.\n",
        "* You cannot untag an axis in a NamedArray that already has positional axes."
      ]
    },
    {
      "cell_type": "code",
      "execution_count": null,
      "metadata": {
        "id": "sCbnTlngZKUa",
        "colab": {
          "base_uri": "https://localhost:8080/"
        },
        "outputId": "6b3e274b-444b-4181-9664-fa14489bab48"
      },
      "outputs": [
        {
          "output_type": "stream",
          "name": "stdout",
          "text": [
            "start with named_array = wrap(array, 'foo', 'bar')\n",
            "\tnamed_array.positional_shape is ()\n",
            "\tnamed_array.named_shape is {'foo': 3, 'bar': 4}\n",
            "\n",
            "if we untag an axis, named_array = named_array.untag('bar')\n",
            "\tnamed_array.positional_shape is (4,)\n",
            "\tnamed_array.named_shape is {'foo': 3}\n"
          ]
        }
      ],
      "source": [
        "array = np.array([[0., 1., 2., 3.],\n",
        "                  [4., 5., 6., 7.],\n",
        "                  [8., 9., 10., 11.]])\n",
        "named_array = wrap(array, 'foo', 'bar')\n",
        "print(f\"start with named_array = wrap(array, 'foo', 'bar')\")\n",
        "print(f\"\\tnamed_array.positional_shape is {named_array.positional_shape}\")\n",
        "print(f\"\\tnamed_array.named_shape is {named_array.named_shape}\")\n",
        "\n",
        "# untag converts named axes to positional axes\n",
        "# This returns a new NamedArray, with names unbound to those axes\n",
        "named_array = named_array.untag(\"bar\")\n",
        "print(f\"\\nif we untag an axis, named_array = named_array.untag('bar')\")\n",
        "print(f\"\\tnamed_array.positional_shape is {named_array.positional_shape}\")\n",
        "print(f\"\\tnamed_array.named_shape is {named_array.named_shape}\")"
      ]
    },
    {
      "cell_type": "markdown",
      "metadata": {
        "id": "wo8mi4TmkyyH"
      },
      "source": [
        " We will also use [Treescope](https://treescope.readthedocs.io/), Penzai's array autovisualizer that will automatically show the values inside a NamedArray."
      ]
    },
    {
      "cell_type": "code",
      "execution_count": null,
      "metadata": {
        "id": "G5qNy7N9kMlU",
        "colab": {
          "base_uri": "https://localhost:8080/"
        },
        "outputId": "9d214c63-741a-4da9-8ee6-acb57db5c851"
      },
      "outputs": [
        {
          "output_type": "display_data",
          "data": {
            "text/html": [
              "<script> (()=>{ if (customElements.get('treescope-container') === undefined) { class TreescopeContainer extends HTMLElement { constructor() { super(); this.attachShadow({mode: \"open\"}); this.defns = {}; this.state = {}; } } customElements.define(\"treescope-container\", TreescopeContainer); } if (customElements.get('treescope-run-here') === undefined) { class RunHere extends HTMLElement { constructor() { super() } connectedCallback() { const run = child => { const fn = new Function(child.textContent); child.textContent = \"\"; fn.call(this); this.remove(); }; const child = this.querySelector(\"script\"); if (child) { run(child); } else { new MutationObserver(()=>{ run(this.querySelector(\"script\")); }).observe(this, {childList: true}); } } } customElements.define(\"treescope-run-here\", RunHere); } })(); </script> <treescope-container class=\"treescope_out_33db63f428d64ff59891b8513a1aadea\" style=\"display:block\"></treescope-container> <treescope-run-here><script type=\"application/octet-stream\"> const root = ( Array.from(document.getElementsByClassName( \"treescope_out_33db63f428d64ff59891b8513a1aadea\")) .filter((elt) => !elt.dataset.setup) )[0]; root.dataset.setup = 1; const msg = document.createElement(\"span\"); msg.style = \"color: #cccccc; font-family: monospace;\"; msg.textContent = \"(Loading...)\"; root.state.loadingMsg = msg; root.shadowRoot.appendChild(msg); root.state.chain = new Promise((resolve, reject) => { const observer = new IntersectionObserver((entries) => { for (const entry of entries) { if (entry.isIntersecting) { resolve(); observer.disconnect(); return; } } }, {rootMargin: \"1000px\"}); window.setTimeout(() => { observer.observe(root); }, 0); }); root.state.deferring = false; const _insertNode = (node) => { for (let oldScript of node.querySelectorAll(\"script\")) { let newScript = document.createElement(\"script\"); newScript.type = oldScript.type; newScript.textContent = oldScript.textContent; oldScript.parentNode.replaceChild(newScript, oldScript); } if (root.state.loadingMsg) { root.state.loadingMsg.remove(); root.state.loadingMsg = null; } root.shadowRoot.appendChild(node); }; root.defns.insertContent = ((contentNode, compressed) => { if (compressed) { root.state.deferring = true; } if (root.state.deferring) { root.state.chain = (async () => { await root.state.chain; if (compressed) { const encoded = contentNode.textContent; const blob = new Blob([ Uint8Array.from(atob(encoded), (m) => m.codePointAt(0)) ]); const reader = blob.stream().pipeThrough( new DecompressionStream(\"deflate\") ).pipeThrough( new TextDecoderStream(\"utf-8\") ).getReader(); const parts = []; while (true) { const step = await reader.read(); if (step.done) { break; } parts.push(step.value); } const tpl = document.createElement('template'); tpl.innerHTML = parts.join(\"\"); _insertNode(tpl.content); } else { _insertNode(contentNode.content); } })(); } else { _insertNode(contentNode.content); } }); </script></treescope-run-here><div style=\"display:none\"> <script type=\"application/octet-stream\" >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</script> <treescope-run-here><script type=\"application/octet-stream\"> const root = ( Array.from(document.getElementsByClassName( \"treescope_out_33db63f428d64ff59891b8513a1aadea\")) .filter((elt) => !elt.dataset['step0']) )[0]; root.dataset['step0'] = 1; root.defns.insertContent( this.parentNode.querySelector('script[type=\"application/octet-stream\"]'), true ); this.parentNode.remove(); </script></treescope-run-here> </div>"
            ],
            "text/plain": [
              "<IPython.core.display.HTML object>"
            ]
          },
          "metadata": {}
        },
        {
          "output_type": "display_data",
          "data": {
            "text/html": [
              "<div style=\"display:none\"> <script type=\"application/octet-stream\" >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</script> <treescope-run-here><script type=\"application/octet-stream\"> const root = ( Array.from(document.getElementsByClassName( \"treescope_out_33db63f428d64ff59891b8513a1aadea\")) .filter((elt) => !elt.dataset['step1']) )[0]; root.dataset['step1'] = 1; root.defns.insertContent( this.parentNode.querySelector('script[type=\"application/octet-stream\"]'), true ); this.parentNode.remove(); </script></treescope-run-here> </div>"
            ],
            "text/plain": [
              "<IPython.core.display.HTML object>"
            ]
          },
          "metadata": {}
        },
        {
          "output_type": "execute_result",
          "data": {
            "text/html": [
              "<treescope-run-here><script type=\"application/octet-stream\"> const root = ( Array.from(document.getElementsByClassName( \"treescope_out_33db63f428d64ff59891b8513a1aadea\")) .filter((elt) => !elt.dataset.stolen) )[0]; root.dataset.stolen = 1; const temp = document.createElement(\"div\"); temp.style = \"height: 1px; width: 1px;\"; root.parentNode.insertBefore(temp, root); this.parentNode.replaceChild(root, this); temp.remove(); root.style.paddingTop = \"1px\"; </script></treescope-run-here>"
            ],
            "text/plain": [
              "<NamedArray float32(| foo:3, bar:4) ≈5.5 ±3.5 [≥0.0, ≤1.1e+01] zero:1 nonzero:11 (wrapping jax.Array)\n",
              "  <Arrayviz rendering>\n",
              "| Device: GPU 0>"
            ]
          },
          "metadata": {},
          "execution_count": 18
        }
      ],
      "source": [
        "array = np.array([[0., 1., 2., 3.],\n",
        "                  [4., 5., 6., 7.],\n",
        "                  [8., 9., 10., 11.]])\n",
        "named_array = wrap(array, 'foo', 'bar')\n",
        "named_array"
      ]
    },
    {
      "cell_type": "markdown",
      "metadata": {
        "id": "v1Lhws6VPrUd"
      },
      "source": [
        "In this case, automatic array visualization shows you the named axes:"
      ]
    },
    {
      "cell_type": "code",
      "execution_count": null,
      "metadata": {
        "id": "2w-gz_b6k6cI",
        "colab": {
          "base_uri": "https://localhost:8080/"
        },
        "outputId": "95d9bbc2-33dd-4f5c-bbd0-1dc5dabdd47e"
      },
      "outputs": [
        {
          "output_type": "display_data",
          "data": {
            "text/html": [
              "<script> (()=>{ if (customElements.get('treescope-container') === undefined) { class TreescopeContainer extends HTMLElement { constructor() { super(); this.attachShadow({mode: \"open\"}); this.defns = {}; this.state = {}; } } customElements.define(\"treescope-container\", TreescopeContainer); } if (customElements.get('treescope-run-here') === undefined) { class RunHere extends HTMLElement { constructor() { super() } connectedCallback() { const run = child => { const fn = new Function(child.textContent); child.textContent = \"\"; fn.call(this); this.remove(); }; const child = this.querySelector(\"script\"); if (child) { run(child); } else { new MutationObserver(()=>{ run(this.querySelector(\"script\")); }).observe(this, {childList: true}); } } } customElements.define(\"treescope-run-here\", RunHere); } })(); </script> <treescope-container class=\"treescope_out_1f6ed570bcc646ef91bbca3dd2077661\" style=\"display:block\"></treescope-container> <treescope-run-here><script type=\"application/octet-stream\"> const root = ( Array.from(document.getElementsByClassName( \"treescope_out_1f6ed570bcc646ef91bbca3dd2077661\")) .filter((elt) => !elt.dataset.setup) )[0]; root.dataset.setup = 1; const msg = document.createElement(\"span\"); msg.style = \"color: #cccccc; font-family: monospace;\"; msg.textContent = \"(Loading...)\"; root.state.loadingMsg = msg; root.shadowRoot.appendChild(msg); root.state.chain = new Promise((resolve, reject) => { const observer = new IntersectionObserver((entries) => { for (const entry of entries) { if (entry.isIntersecting) { resolve(); observer.disconnect(); return; } } }, {rootMargin: \"1000px\"}); window.setTimeout(() => { observer.observe(root); }, 0); }); root.state.deferring = false; const _insertNode = (node) => { for (let oldScript of node.querySelectorAll(\"script\")) { let newScript = document.createElement(\"script\"); newScript.type = oldScript.type; newScript.textContent = oldScript.textContent; oldScript.parentNode.replaceChild(newScript, oldScript); } if (root.state.loadingMsg) { root.state.loadingMsg.remove(); root.state.loadingMsg = null; } root.shadowRoot.appendChild(node); }; root.defns.insertContent = ((contentNode, compressed) => { if (compressed) { root.state.deferring = true; } if (root.state.deferring) { root.state.chain = (async () => { await root.state.chain; if (compressed) { const encoded = contentNode.textContent; const blob = new Blob([ Uint8Array.from(atob(encoded), (m) => m.codePointAt(0)) ]); const reader = blob.stream().pipeThrough( new DecompressionStream(\"deflate\") ).pipeThrough( new TextDecoderStream(\"utf-8\") ).getReader(); const parts = []; while (true) { const step = await reader.read(); if (step.done) { break; } parts.push(step.value); } const tpl = document.createElement('template'); tpl.innerHTML = parts.join(\"\"); _insertNode(tpl.content); } else { _insertNode(contentNode.content); } })(); } else { _insertNode(contentNode.content); } }); </script></treescope-run-here><div style=\"display:none\"> <script type=\"application/octet-stream\" >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</script> <treescope-run-here><script type=\"application/octet-stream\"> const root = ( Array.from(document.getElementsByClassName( \"treescope_out_1f6ed570bcc646ef91bbca3dd2077661\")) .filter((elt) => !elt.dataset['step0']) )[0]; root.dataset['step0'] = 1; root.defns.insertContent( this.parentNode.querySelector('script[type=\"application/octet-stream\"]'), true ); this.parentNode.remove(); </script></treescope-run-here> </div>"
            ],
            "text/plain": [
              "<IPython.core.display.HTML object>"
            ]
          },
          "metadata": {}
        },
        {
          "output_type": "display_data",
          "data": {
            "text/html": [
              "<div style=\"display:none\"> <script type=\"application/octet-stream\" >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</script> <treescope-run-here><script type=\"application/octet-stream\"> const root = ( Array.from(document.getElementsByClassName( \"treescope_out_1f6ed570bcc646ef91bbca3dd2077661\")) .filter((elt) => !elt.dataset['step1']) )[0]; root.dataset['step1'] = 1; root.defns.insertContent( this.parentNode.querySelector('script[type=\"application/octet-stream\"]'), true ); this.parentNode.remove(); </script></treescope-run-here> </div>"
            ],
            "text/plain": [
              "<IPython.core.display.HTML object>"
            ]
          },
          "metadata": {}
        },
        {
          "output_type": "execute_result",
          "data": {
            "text/html": [
              "<treescope-run-here><script type=\"application/octet-stream\"> const root = ( Array.from(document.getElementsByClassName( \"treescope_out_1f6ed570bcc646ef91bbca3dd2077661\")) .filter((elt) => !elt.dataset.stolen) )[0]; root.dataset.stolen = 1; const temp = document.createElement(\"div\"); temp.style = \"height: 1px; width: 1px;\"; root.parentNode.insertBefore(temp, root); this.parentNode.replaceChild(root, this); temp.remove(); root.style.paddingTop = \"1px\"; </script></treescope-run-here>"
            ],
            "text/plain": [
              "<NamedArrayView float32(3, 4 |) ≈5.5 ±3.5 [≥0.0, ≤1.1e+01] zero:1 nonzero:11 (wrapping jax.Array)\n",
              "  <Arrayviz rendering>\n",
              "| Device: GPU 0>"
            ]
          },
          "metadata": {},
          "execution_count": 19
        }
      ],
      "source": [
        "named_array.untag(\"foo\", \"bar\") # array with only positional shape"
      ]
    },
    {
      "cell_type": "code",
      "execution_count": null,
      "metadata": {
        "id": "HThHrYZGk99Y",
        "colab": {
          "base_uri": "https://localhost:8080/"
        },
        "outputId": "5412690f-c43e-4f58-a819-37b526a3fc76"
      },
      "outputs": [
        {
          "output_type": "display_data",
          "data": {
            "text/html": [
              "<script> (()=>{ if (customElements.get('treescope-container') === undefined) { class TreescopeContainer extends HTMLElement { constructor() { super(); this.attachShadow({mode: \"open\"}); this.defns = {}; this.state = {}; } } customElements.define(\"treescope-container\", TreescopeContainer); } if (customElements.get('treescope-run-here') === undefined) { class RunHere extends HTMLElement { constructor() { super() } connectedCallback() { const run = child => { const fn = new Function(child.textContent); child.textContent = \"\"; fn.call(this); this.remove(); }; const child = this.querySelector(\"script\"); if (child) { run(child); } else { new MutationObserver(()=>{ run(this.querySelector(\"script\")); }).observe(this, {childList: true}); } } } customElements.define(\"treescope-run-here\", RunHere); } })(); </script> <treescope-container class=\"treescope_out_0a6f7ad2e0a447eaa9526c8ff3ce020b\" style=\"display:block\"></treescope-container> <treescope-run-here><script type=\"application/octet-stream\"> const root = ( Array.from(document.getElementsByClassName( \"treescope_out_0a6f7ad2e0a447eaa9526c8ff3ce020b\")) .filter((elt) => !elt.dataset.setup) )[0]; root.dataset.setup = 1; const msg = document.createElement(\"span\"); msg.style = \"color: #cccccc; font-family: monospace;\"; msg.textContent = \"(Loading...)\"; root.state.loadingMsg = msg; root.shadowRoot.appendChild(msg); root.state.chain = new Promise((resolve, reject) => { const observer = new IntersectionObserver((entries) => { for (const entry of entries) { if (entry.isIntersecting) { resolve(); observer.disconnect(); return; } } }, {rootMargin: \"1000px\"}); window.setTimeout(() => { observer.observe(root); }, 0); }); root.state.deferring = false; const _insertNode = (node) => { for (let oldScript of node.querySelectorAll(\"script\")) { let newScript = document.createElement(\"script\"); newScript.type = oldScript.type; newScript.textContent = oldScript.textContent; oldScript.parentNode.replaceChild(newScript, oldScript); } if (root.state.loadingMsg) { root.state.loadingMsg.remove(); root.state.loadingMsg = null; } root.shadowRoot.appendChild(node); }; root.defns.insertContent = ((contentNode, compressed) => { if (compressed) { root.state.deferring = true; } if (root.state.deferring) { root.state.chain = (async () => { await root.state.chain; if (compressed) { const encoded = contentNode.textContent; const blob = new Blob([ Uint8Array.from(atob(encoded), (m) => m.codePointAt(0)) ]); const reader = blob.stream().pipeThrough( new DecompressionStream(\"deflate\") ).pipeThrough( new TextDecoderStream(\"utf-8\") ).getReader(); const parts = []; while (true) { const step = await reader.read(); if (step.done) { break; } parts.push(step.value); } const tpl = document.createElement('template'); tpl.innerHTML = parts.join(\"\"); _insertNode(tpl.content); } else { _insertNode(contentNode.content); } })(); } else { _insertNode(contentNode.content); } }); </script></treescope-run-here><div style=\"display:none\"> <script type=\"application/octet-stream\" >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</script> <treescope-run-here><script type=\"application/octet-stream\"> const root = ( Array.from(document.getElementsByClassName( \"treescope_out_0a6f7ad2e0a447eaa9526c8ff3ce020b\")) .filter((elt) => !elt.dataset['step0']) )[0]; root.dataset['step0'] = 1; root.defns.insertContent( this.parentNode.querySelector('script[type=\"application/octet-stream\"]'), true ); this.parentNode.remove(); </script></treescope-run-here> </div>"
            ],
            "text/plain": [
              "<IPython.core.display.HTML object>"
            ]
          },
          "metadata": {}
        },
        {
          "output_type": "display_data",
          "data": {
            "text/html": [
              "<div style=\"display:none\"> <script type=\"application/octet-stream\" >eNrtfet64zaS6H8/BeJ0QimW1KItW7Zle76+JJPezaWney6b49XnpkhIZjdFakjKluPR/5332H2AfYXzKPMkpwoXEgBBSnZ3Zs73JU7HJoGqQqGqABQKF54F4Q3J8ruInu8GYbaIvLtTEicx3SVhcL47TdKrgE5pmtLgajg49vvB8fBoMJwMDlx6HBz3D07o5HBw5A8G9GT34ixbeDH8RnoXPS9Nvbub8OcrP4lzL4xpSu7J7XWY0y7A+RQLSudeNCJrYgPuhfE0AZQppHSn3jyMgLd5EicMe0T8JErSU/K5x35GZO6lszDuTpI8T+anpN/bP6TzkV7iIqXNxYXxYplf5ncLEEjqxTO6OwYWbmiah74Xdb0onMXARRgEEVCahlFOgYcZUMsgn7bcNkmgqDC/a/V7h+0HF3Z6ndwwQVVJP4xevJxPaAoE4yRvnU4Tf5m1gewkSQOadlMvCJfZKTlYrD6OJH9mTCN5qZMh+xmJ4k6Ju1iRLInCoMxqKLWXASRNM9NemrTHWMjDBeBohjwiiyQL8zABtXkT4GGZQ9rE8z/M0mQZB13BMivIxvAkAlig4gVBGM+4XfnXSDaMQUNdekPjPJOF3YZBfn0K2su7yBxkjQhyNo2S21NyE2bhBA2nWq2fu2Ec0BWU3O/3m2s5SVZb1jJZdbNrL8Ci++w/rBarUEck7EOCqLq9QgVfJw1s+VHofwi83HuIxqLEQ4lezWmWeTOqWI9s0euzp7wvOctTSjM/WdBuuoy71zSFtMxPw0VOmG063mIBPHgogaeJn9O8mwGON3cudvAHis1yIrkg56TVapPzC3K/Qwj8my5jH1FJQDOahtDKf6Z/Amkct7DRAAAhKc2XaUxY6jOk05umybzl5ckEgDqkNWcE5z0/CehrFOWzvNVvt0eAvd6pL+YbEEN+sF8WxFmd3OU0Az4fVZ4kMkXaSCWmt0QUxGi1GPneZDmFvl2giApynE1cv4r/KTyzYh7EMWc5ojl5gcY09xZvfv/8JVjmyKzNjOYvwBjDeJksMwbcuvGiJe1wMwRMRJM1RIoTL6NXrDV0SDKdZjTnfIRTwlHJ2TnpSwyiwEN1+iORyjHLlDWhUUYVIhfnxK0honLWi2g8y69Jl+xXSLs9nbgkxkXs51lBkRf5FWnZSbvtkY2P7738ugdyB5kVxNoVLspyviCu4EfRdGpU6LIsYnzZHyNTLrDAybXJniBP6pDIHnEFoqodXtisqTD3sYW59sImTYXtP7awfbMwYf+XaYfMOmQytjfauxhcJ/9Z6mdhfP2GAvWWKO8DvWN9/p+F2Ufh4nsPbDv1br8PY/4X3wWJ33sLaZYF9Sz3YDx7i/5JIIpoAUbuLUsLRsv+LMy+CWMYGFos629/4yYEQ1Vr1SZPEYGcEZd2ByVeUcGVtCzDmgsARisDzwyJfcWIfVXA4A8DiJJZq1rqnsD+a5qDUsTbIrltrThAh+y324VtrxUrLtq+JkdyrvUBmM/laWQY4keL4fKvrawJz8naODMhi1prGbIXZVqWUHNv1ZJ6Fwy1RzU1PSsgCi7/RX94swNtYZsh5zuG5ulq0SpMQJcBNMPSvMF2CjBZtUL1RRkgKlnSU96QdbE8NQTHBw8QLPS1gGtrMkXTw9YxUkxHYhmmUxCDFuP2dRMoulds6guKvSxaO4y7TY31qaApaYmWJYlYR5OP1lZp9FKS5avNVE1CKNeAxsk8jMHHSAsbDuOWYgK2ahtdnxABY0Hp7TobqMiGguia2jSmDN3pDFsVKIS/ldoUcuUQWxkF8uQtOtJv8xQ8bj7W675bMYjIoUsbYt6ls0nryX26Jk/uZ/hrsm6/sw436N+nXgZu1exxJSoQOB2JYVZzBxC9fXf/CNpnCl10b+ge7sPzDJ/7w318npSdVIl2Qdz941L2ojIOmwA5VpOWIGwS42gCNSoK8/PotZfDhCkGHwj0Af/uOjBNZEnFQAlKbqGZhszhgz9nEkQ4WZC2t9c2PLQ0uQV4AXgZjqWBFOTec3LvgRzAFqTeq6TE4JPcXr4fq6lQSL7qIf9vqJ+30Lt4D7zDn7BD3I7i85UWua6YFmc0CGdhzpzn12k491JU1SWDdT6fsh+nA4/udDicDNjjdDqc9il73Pe9/r7PHoOj/eH+MXs8GRwNJwF7PPYPjwYTpyMI0oPh0N9nORN/EuzzR3c4of7UARgmJpOvtxRSAp2z4RT/Y9ge9Yf0WHA2mQwFD8fB9NgTqSfHJ0fs0T+c9IND/jg48U8GBWfT4eQo4OwEk2ByzNk/oYFHDwvOdgrufBpFb2EWBSwNRzzDmLTAzGQazipzlgB6nB9j+gLwZQ/HbA+UzKYtHSKmMGEGPVsYlHMZTrBTdOjSIIRzxqAVKxQGwpowcOkkHyL/unV4+AUGDdrOaMdiSFAUNMQh44Y/4L/2qJnmsG/QrDQsQRed4II2f7ks7PSy3yHlv3FHy3BZqlvN+CQY43ZlHqcLvYcRChgGoMp+MeF0zCbvC7df814qpCSUNtqE2Q/eD3zy2FYbekXiasf3UPVZyOGgsH94yOQBf9sK5UcpEUTsKiJ2x+r4W6uWQjFuRZXNWHVljduGC15OzUGHr0APMJG50wTNNYiqArlYAgswH++Qiu6qIrUN059KXY0j88drjovYfbh6HpdlLatZc91Hqa7/q1BdKVGbEuqaT3N7bG6q7oZGZ6pIDFwBTnzFGCa6vJHu70i4C4yCGX7PY9vpQ9X9UIU/WuWPVnpjA9uU6Srtz30QZn3mWPU6y9ZbqPOM9B+szv6vT539Jrn3H63OB5O1qFNVXem2SAW3dd0Wc/yH+x7WAisktDz80U3AYk2SU8WkNNWtH20vxixrkyNJnIUHk4VcRIedSvjtozxKvVXJ7EvW145Vt1OAAD9LYAOGVhr85n1+eu/THAhr4iY2GRVhmw6L23SUwM3DVbC1cbK59ySptUucxL720jx7fvcSQYuJOZOLOuFC+Q3H1RRQ236HHNhzQLCHGyGOBMQA/x6AAW2EPBSQDGPwGIwD/Hv4cZjw9wjtpZx9qjHmML7BeTwIdOqBltTGyr3gL4hLPjPikaX3VGDn6ZJusMKYzrw8vKHFEuJZucIpYebeDNztZaAtQZg+mxKvwVXfAqeH/THritu9bBGFectxDFePI8nFyrOKYYkcm9OAoFcLhIUyTbxLjfBY7eNRyouU7ZC4SumCenl2lUxxtXoZRdo4bgn8aWRHZG8vNMc80cKzHLjpkCwMqOBBcMlZVgKCFRkC4A9sm46QDsC2deBCcqzrrlbG5KnarViCa1xkBltkO1HVjNdN5Ypg40NKZaBGsVb/gPWFFe+gHEGEcspRpKIt9bnWQzCcIdme2s1eS3UUrbhKdYOf0q9fGtW7tPt+5STPmmFxCMc11bUoWK2/teNR3SI12MWBf/M0PqWnYd0rsrUYthdvzVIKuhF8Ke5ZHLyKg9CnWcuMZIc8HR8ysBOGamxAkh36pegSWCcs15IAiUBPYMOWlgU5lw76Mc6YeTIw6tDUixzV2FgZvcUyu5YIjFHHGnuqkjQ9dsl6sWlGVPNSoHqrMHPGY33gk8DnREBlH8LFFeuHHGOpR2H33ZN7C/j6VE+mcQCJ7+yzcVHw2UPL5Xg2qptwSNdWFu5MwvWqZr630QdXnrloVlkQqbLHEB9QI6c197IPNCDJMm87j2LzKkqSD8tFhVu5fkO+/JJ8JnDDWZykOEFkvWWDdur5qlaHm2q2nGQ5+Gis7RYmyHm7YmvVztiYLkpOddS6mWOFw2X8IU5uY429Gq9BwVMLqxuXtpE9NkGb6NG7szfbHqLY2+zF5qZT0HxMC6ja1YPUxos0WN9Waxt11txCavS1rpuIqMWd/e7CMSYVSUR7NE2TtOX8ifOi9v2OGEesO7vELgBewPskjOXcQ9tg+gyU/HZB/coq7RU4f97dn+I8jP7MN3y3AoqxP7Y9uUM8BiZlp4xfbHt4CKPO3Y+TjKY3bPOO2AdL04wyPJnVaoGPm4Y0KzYyS32J9Mv+uBcqiG+weDDAfnX0EVuxv/fSD7jt/pwo/Pb+uqTp3VvwZ/08SZ9FUcsxt26roueVa6nLEnIqRCNsMEZhugkBSC+l8+SGtto2U65KqBeEGVQiRt/DVGaH3K+LvcJQjSx/FsPEARn8JvXmVNkEXkM84Q+q/qQrY9/ZPVmGUfBM7DP/JpwtU0P5PouWyFpvMhWdwattqessqqb5QP6k8zRNeBAbAz34pu52Zbvqn3sZPRqUQEpiBfYlDxVpoCxNhWTj1vcwNJmUjQwVB08gYNAgYNvQBbySqMKuZPNVQMs0FfLOAnlnhcwiGAMCC7iRoeLoUbQSxTd2gihebriCnvA1TXEbSImgJRuSXNJvmI+N6w+vFAdYk2od0Gin7KewGTN9ldutVJXCaDnlxwyUkZIB8D7FPPSgWEl1F4VBOIw3kuWnEmqJSsz8Gucm2K9+zceHZZwtF4skzcENCtjI365uV2d2d4XOkl4oPydiWGVbFVohuSTCSa7YCo8J/jJNobfWEzO6YJOYvjqLMUJJxV7d0mR7MvhwZya1jT1mWAAfN0X5Zey/4AdZ3ZPvxc5+xr+WuDbrqdc4T3IvepFEmVHvJPoLHpRi9XTHZQavDki1Mo0zBFCpt3UfXQYAgFMCK6EzEcfEHbmQ0wPvCXwq9shcLAlWcsRFVromat3K56+A5B4TMZSFO/1j7RhFUXNOrcDTDK6Q3Jvk1pAcWO63NJxd5xXR3W0ruruHiO7uI0R31yw6UbnyeYPoyqorskPEdo0piiHHx7jaW+yBf2TeLRZ6v66Xj9FZbyEkA0ORVLXwSyanGLyPsXIGaMfk2vdg5papS3etIPGXc2h4PT+lXk6/jii+tRwO6hTHqNhrjx1ExL3fpWnukX08HiF3H2rg10yyBTzThx1eEeoLhovrpHSVa7wKqmIVFXJbzn7AWLR0EmLHNTub8u9iY7YWJy5j9uB+4vCGKtRdI2UVRI6cb8oN8GrIuWnpyro/z4oieNa9V7HPHwqswM+V4wDK5v7K7nCxu9/cGV5ZX+Z7YtgJkGeTzFZikalvTCgQvVUDIsusMGxX1DmXb3Uto6IGsaGdbTlGgeCWe9y8bQrHvn4vHEi2Af57SbLheFP5Y+O7g6V2ShF2SqF0SL/nHrZH21ZH4wkT9/AA39PyXN7GYLhYL8NDQhbTCWOLCh9iZ/zw0Vw9qLOpUv3e4RYaadBwF6vDNIyc8rcNQZgdy+kOcN5fmScolbAu64BhTmn0wNp5i4LE3rk6Q1A74q+aO+qRyaGYQpTjieKOoAXyvqlv7Km4K+HvmuFFN1YO/QSPVUcUeucUDy3dK+snwivgsEVqLbj2qEwQAJ85zpeFvMZVo5OBxnPNGxYdAPkdW78hp+Szz8rsGnqWnexqBMEYWx6ww32nsm6n2ahmg/ZH7kwFN17s0xfJMs5V23usUyU8Imlb4N/sKcotHBxMLf0cBiYdIh221qo1h00337JHUPm4OFccNVwurqzDGq+6bKrV0KtpyE7nvbuRd2iaGncmLZQZUGnVCK3djF+z8Gy8TsDf+lC/dLw2ulvDds4LcVj3IxilVcpSxw2yU921ofUDq3qzfcwkis1/GkwWu6i983JOU2uvtda6arZWFOdKt9VVk61qL6sNdrpqstJaG11ZbXRVb2MoJLRQu5TaTchW89zaXDT3dWUa5arJKHdqS6gbrPU/li68F4Ux/YuYlLijBsAsT5MPtGYxv47yC2+BwNlfl15KN0L/W8JcLWeOC7zOLzrE7jQObKKytj0nfCG9OCrWRZesY+n9NsEUuV+pNuiOye9+h24q7k1owFD61TqUuiHVNo66teOo+9s4+ts42jCOXny6cXRnu8HTrRk83d8Gz1/14HnxCQZP9lsNhpU3qtBci1O0Ynorn/X9SkoGDui2IEdbLGVLFuoibSWlB0bJcMvJ5siYGrmrLNKaEcFCEnxrwmtc1sL7Du7qjjmwebJyIxELPrAAjBzI8JYPd2Q5Ya9i3dVg6QLBfc54fQ3ii0dMvVAbchnjL+9RGgPkjt7dXmhDlBLdVrAst+GoscxmL0wenMuWUa7EvD9ZZEUuDnMiZfwfGuhW4RQieNND4oze6IHhGw1prUdR0NoxX9w3VblLIdTjN6X0sZ+/4JOlbrda8abFpQKGMUs2d/MiqJcEy2iZ6fDs9qcCh72peGb9ytcvJL1R5bhrkgbGNV4q4lPBd2WbfnkPGRLYs6z5yIaC+aJ9cKSLcrFI7y4tZq32v7+8iUDLU0UIr1YTuXu8idxtZSIb/VXTRlSERiOp1vBxRqIh/nqMRN6zZsZHO8Qa5uwIdsqg5bhxgbK8EhPj+co9QeUWLAxdxsELmHAGtcuAQXjjtPW7FMOYUVXW5cwVFV7ww+kzyhoaX/GTC3wlaXaBZ7Ea6SgXozojK2ixErkFLF4N/A27GZjN5uXdwDXQeerFGW42/zENZzwAkCcL6AOmdfRh4HqdJgua5nctJ5x7M9pNKVp/GM/wihe25waEFDjtLQh0u/IC0u7PSTJHAu6WiHjbWJddhJyBZ8IwB4uVI8XN1aGL+p3vRX7rxktbRrnoNT+5V5eJ14uVPBWoUio0sR0pDl5DS15Pyw4SoMzAPXCksXD8rZWkgmtyYvcko3BsrDrVxWdT6OKO3++grKLWT+4rHf+aXeDYO6Rz7GehvrLCNfT+mCwUcqutyFV2MUTRd96ERurmDrGqxNJfG0cfxNiC6+9zaBcMhoXU2NJ5hK/a+jlLkRaEl1+9xYaE0l8o8TQVit+U/Jzdto1w/Z4LNVDuTLZioQ3zq4+UrshhosFr21y2LNvq946wc60qsY0WxzP0JtGWx1HWv/yeIVYf41R1c69pk4TaIuSVzVaRRao51jdCMWtR2p+pL6EpTsjt978Ae3tyH6L9MfOz44n+RKntJk5M17WMUFqYwyjoC97Jy0kEy7CxgrDP8AZ2lJnSIxCroQsrL2a0lSFLzy9aGN9dpGauf/G9VP9kk9J6zTTJgTx2m92TfkBnjpW2pV8WFpVit28tJtXGj60tzmapXfJ4y3+wBVcd60YTthinLpMtrHNH96DBVL97tEmU6BtblwK6hQlVoCdl718PJK2gCQb6frk25KC+6yE10y2Mspswq0Qj1qzSMGW19ZeUH9tFWCgogzGHuWdAp0o9OnjSCpMY7XW7bgcgC7w8T1Y0q/fgP2qOUBbQ8yMvy74Ls7wHHgt4uvE0QVGKzzAUntNDwkMCjN9y2LhNVMyC+K7it4Ipw/CNlQSF9W2qjZ8lcZRbnI2yBI3Wu/+Mn9yXbWR9+c7YwIMfwKiwVlco+3KG0io5soiiEod/TMMxcuVWnKqUBADfI1af7a10cbsGQJbThbq2YRcFFydH2SQ1Z0wcQ07cbh4pJ45cyIl9F8UxMuvFJADqxCSza8UkAEwxFcnVGRb6q4O+f423q2RigChHiCb5cqJV2fkYOIWcF9Df4IdK2Ocq6E2uOewVWQBAD6o6ozlPKkMfhm3VA+7oK9X125bFFRMmJa15K3Ghmvi/qXLoe77GixuwI6LQXUrb6NiEYrarxyBXO12M4kRA4RN2uYJi2f/IlB7bSOcU/secH4hzKmfX8apv6GrxID9eatM7ZGfqXbyERl0h0Gvw40IM4xr/RdnbsJ4wEmrHqRMvLKq4N1w9L4PuVLUj2LIbKJGtHYGSzVu641pyWCN39i1Zonk7XnxXzZS1shyoUknQ/Fmep+EEBvOWwzTcUVVrBOKmCX5p69MF+ARF68htgDRP6iWU7M3/T4Ifz+qaRER2KQB7vrPH5vPsZPI0aVfjGMVnmmobWNUJ20ogkjCXyA/QUWE9ZaozMnkwBvJPxwN2RlUe8D4sA+hh4brq9MMgtHW0rkpJeGDFR5w+YRxa0qxzMQsAPTynXLO++p591w0GDqOnwwAQbpxisX7UF4xDz/GTXmE8exGFwMwb7VCwsuQTw7TojRTXk3tJSUxVugVpFnsBQb2zrgjJGIDi89fsBClcXBmmU3D0JR4B0mNzBGMCVXBtgVdjrfYpEkpbPaiNtWB+rpChQWqDMPkSToEvre+iFB1PMS7f2sSu4efr3PNARYsFKdqEZWHwvdXt9w7R/3J7+3RuXBLxMTUkup2I+G3FWEohCGvBg1P+tXrPnmUvyqNJ9/XAibmrRLPz6TKSlZe0myy5nN9usmNBtEDA7Twb5alwo5+amuan5Zc7JBSrckcWxt60D3LkycKGBcklErxoOEyup+Xp2QKLZZR47FXDlF+VrKLynBKXvyvIa8v3WZqWHRQ7YKHfLtFEonZHTQsOlXAX/yAmi8AVBeDSikIfXrX4Vg19pevUJah2nalYDdpErFhBUKmJII5CjqeU9NbGqXQcmIAaui9sy1BW7mvhVrtcwDBDMf+bNJm/FZ6p/RihtjsAbzsJXq/49RliPZyltm7DOEhuewG9gRkGK5UBaZfz18Dg1660zT1mMS55qhaFr5uK07//sygAngXvl1k+5zFAo6BaqvVf3PGz7PXqj2zaxz5Skmb8PH/L9KE1OahYRt11gq5ZHcTW0L8yKtEmXyif1DivXHDycUu69iswH0TTW+aJU6MmtmaJdqjWUN2E9pVVk3WNasOCM7QxVqBycZXqYWlLaJy/Wy/3rxW7NVuM2JRCg1C/aFiY1RzRv8fc1rtWSllAmX2l9Ml9jeGtgwV2QUZYJBLT+kr5hJctbo0xQgD+NZs0dgp0ZTSy9QfqaGVUXIlbyAdecDXwUFfqujKJrA9a6JVs6NyKC+SigK8zK+T5bU6QLEGb67yjaS7z0ySKnms+2T0bdG0l4OcMGQcdMqHX3k2IH3J18IolL86dtVmGOpFm5byK8+TPIb1t3VvQgWaU+B8gJaYeGFFJcK0feq/Kc54sM2YZKFMzhiYvP8J9piA5dcMphrZ45f6jQ8qXn7Q+TWJaTkAX01HeLMXHelngN4mpcoOkMYurA6y7DLo4DXl1Y1yTWGw+Kmq2TaFM0PXs8bVozUvfMN1km2bZgeiaNbRKGbnhvWwugh342FwEqkNfELPfPKmVXS/ghitz2qMtDMEUtRKcANcIII7MPPSYaCAXygrK3DR58l5BwI78rYwSGNgi3YbOrhQrmwO0dJWPC9InX36piUwF3jOA+dRL4VifIBrSElsfHO2+WwNGzI6NmeN2S8d6tWTVDduxTN6sbFo52Krovbqi6yqrSWRdo6mfCk19KyfnDar6qVBVAa3q6lvLbN7gjbXbZl3J9eKPVNZPH6OsavfyAF399ABdlYvjTu0RkK2Gr4R7BOboteUQs9UAs5ERFqfbNIa+kUcNHjmSSvzqcFo9FYMAjx8cr8pRkRc6Mm9Uvbqp3gDbzIX9Zo8iAKqPPM4LzKDBKQbLDWvccB+yWZnKdSe2n+0GK6J/Mct+pEg/UbVJJjUHsSpo5ncB7DeEbGWrt9eURjZblf2jF+VQbjWwFdAo937CKQbHbfd4SskVYovr5V/SqQeGY4ZEy29RV5z2Nn57oczntI3v3jR6+qpMqoC4r91gV0wNYNRAuO+A72jLKXtxP52KqBEamQehqxxdkMGm2nXPycC0P63Usxp28TabynU2Orva655+gtF21K+2Hmeku7Eie5sqclFXkTB+UEW6mytiWcxUSWw/B64+PG7ppTqpvDcjuaxh+gz3JzXuhyFc8tSw4a+MPq9lSEiD1uK4PNisFPYf5nLPpyzNNpct9WW5rnbhZVl4Q0/5B1zW2pqYbRdFkwKtAYzKhbU8UPVjTF+Kz/Z8uutq9duF1ItGLZtfefBCAMkUC1wRLlZBeeJIv56peoXe9pfoVa7R0y/Bq16bV8nnLOTmbrH6i/Gq9yKxD0rw7zaIwR/vmgArwS0Rp8qHlsByxKhrnIwtDhY9Yhdp7REe1/cWTh1UeXqnEWzOIo5c506/Nzyk81pYxWMNY7y9o6vPnCvrCvajJnZgdI6nETsM7Nxwk66FbT5tZJFY7TkKExJrVczMnf3eobNVfHdT+LquzsscC2RKWqyMIxs7TWfDikNeWiNotA8VpM44VJiaDcg7xqLzH3FYqFxjjjlfR5W5+JYWX1drSVZ1jkSSWfd9de9yBcx6+IVgUB6bAEw1i+VMl+3zgpFIVlbeNLCm83e19Bs3b1egZXCle9jEczmLdd0mOG37u09j9WKdatGavbs2QH26ZA4Ia9Me+Ajw6zEJXt9/mVWIWM+/3CTkwK9bRd2WpUKX1Tv8xRnfe/GxAMMnOq0mcT/Ocp3+qS0RodejnXWbeWH5dchcgDdJkv+QBLTV7l0nWQ6zzWmc9WQASt7ICI+js6fgOYeL/OLsaZ5SmvkwBHTTZdy9pim9OMMN7oTtsDrfnSZRgF/zuIqBMoYLpmGa5VdJfIUi3r04Y4K7OGMrTQRdifNd/5r6H6BSu1YiV3kym0UUMhGMBsAEQ9bLZdeAXHmTCUyPdy++jPIRboDjcsCVHSJuhm8NyN/INElOD9rkH3//r0Ow6f/7v2jZl//4+/+wL/b+4+//7fZcutd3x+RnmianLomTmD+5pHWbgk5huCPvvVWPkW+DeIAT4EvUTeXr9prGV3QFKQENdvU8PO4N9hRc+WgfoOPGfMjETZwiT+rmqrAqA9n4SMbuxRs5UHO99no9ybdVp0zhQkFQ4yj0mUU/Tfyc5t0McLz57kXx5SveKphp8Te0rFER2Ziy2/4bLW/EwXrAw9skieXXMQSJfCFiB9hpat8EaTk5nS/Q60A6NE1BYODf4bmR0hPlHzf4t7c//tBj8+AWEuyJ490mPV53p601eaCGKMXnQYjeXHq2T1twdsvvYmCT39CWZF2kGrUq7Tbo5X2WgP3c7+LWxt1TsvuSR8+K+3HA+ceYH0x3icfW8ds98i36n095Ou7I4h81YPHC3Q7ZVT5lgBSfiZ/Zy2P4/Zz9/wd8/xp+/Tu+v2TvA3x/9hwT/vAHSHj1NSS8fP68IMm+qoAURZvEDOMLBqy8P3z9XP0fwZSrEwDkftdz4Y+LhPvwMICpyG55dBZSLu938dQAkgNQyGVNlL0CFOkDDqayIwOQCs1/F5oJIzWG57s6Wn2NFvYn5MBO6IARMg4qITVM1i8vYjWSsimvOUK6MARDYtdln4jfnXsrrDZ/EWFSSODzs93iUmmEYSDF3dIllvyyMnJyeXLEN/QfsE++ugcD/jpw2evREHKO8H/2egyPQ/x4LX89OQbgPn5lj38Zt4/vByfwy+UfwnUxYYifcjzkCfuQsN8/gIQT/snZAR4twBL2DzhEfx8PF7BfvJAjRD/BL//1+yzBxSMIwz5LxYThIbKMJR0zjAN83D8o3pHYyaAAxxKPsNJH7KO2B0BtgBRddzxGG9I234OIhtxC62LY3Dik5sR3+3YlDjMYtPtdjLE0ggGVjTAOWJtzqsOxi0NY+wILKw20/GQXGqJMkHa5qaD1eAuGN/HhVvgY6HwMNpaxBRv/GRPo3nU4nrker9UeV/Su8Ahj6UUxcGt/6t2KppH9b+Ql20p0Sn7/+k+kL4h9OctH9lI4AziiMw8UenoeaDhFbwO8nTBAPyi9KgYA3+sf+V5wOJ32jwdD98ibBIE/cQOP0ql/EgwFe/Ab6V3wT/iAezDHmcWVxu1pnOStnuZlnV57WeuCOzA9m//FcE6FD4YXIbTZ2BxhePFzj/3A+Aa1Y6XX+4T/LBfQkmWVhU2rAB55iwwz0ZO0GYZB43MigAqvsHA48Uvaj/I1m/mqN6xf2AtltWtdXpJ+r0NggIFf+/jroFd+3fWSDDDpEH8d4a+hlnmMSSc9HDjwl9sbQy/MPn10LqTWrqnbxzWh6fA4cIPDo6PB8XAwCfZPKJ0cBMdD+E2n3oFbNqFayV+BCMEm8yu2CRQ8kcXu/z8TEYtR1FrBFXBZVwcGWJf516UXoR90tUjpNFztXsAM92cvhP4mpeyIJsgIj0brjOhCaG1tnVrL3b0g5PNPJMAtLOuj50X8dOqrgF2NU7ryw8Gx3wezOxoMJ4MDlx4Hx/2DEzo5HBz5gwE9YY7u1t2+CrzRwMcjMSNL/BQmYdY5mZw2YfUFkAA3Jkq7vUJCV5i9W0F9ESUs0ivfez4msGLYxdWjMiel0HR9+pcwv25p6AXRaerNxDZyI3z2Urx+IyCwDhJaC8FIwphvOYFS6Ms4gcI/iSW3iBeU4VUE7p7fvQLiEpt99Z5/TC1Zpj59yc5e1sjwc+yhdskeMdDFyWZVLAW1HguqiLJZzQChzC3nqGtdE1Yhb5qS/j+RlrbJ</script> <treescope-run-here><script type=\"application/octet-stream\"> const root = ( Array.from(document.getElementsByClassName( \"treescope_out_0a6f7ad2e0a447eaa9526c8ff3ce020b\")) .filter((elt) => !elt.dataset['step1']) )[0]; root.dataset['step1'] = 1; root.defns.insertContent( this.parentNode.querySelector('script[type=\"application/octet-stream\"]'), true ); this.parentNode.remove(); </script></treescope-run-here> </div>"
            ],
            "text/plain": [
              "<IPython.core.display.HTML object>"
            ]
          },
          "metadata": {}
        },
        {
          "output_type": "execute_result",
          "data": {
            "text/html": [
              "<treescope-run-here><script type=\"application/octet-stream\"> const root = ( Array.from(document.getElementsByClassName( \"treescope_out_0a6f7ad2e0a447eaa9526c8ff3ce020b\")) .filter((elt) => !elt.dataset.stolen) )[0]; root.dataset.stolen = 1; const temp = document.createElement(\"div\"); temp.style = \"height: 1px; width: 1px;\"; root.parentNode.insertBefore(temp, root); this.parentNode.replaceChild(root, this); temp.remove(); root.style.paddingTop = \"1px\"; </script></treescope-run-here>"
            ],
            "text/plain": [
              "<NamedArrayView float32(4 | foo:3) ≈5.5 ±3.5 [≥0.0, ≤1.1e+01] zero:1 nonzero:11 (wrapping jax.Array)\n",
              "  <Arrayviz rendering>\n",
              "| Device: GPU 0>"
            ]
          },
          "metadata": {},
          "execution_count": 20
        }
      ],
      "source": [
        "named_array.untag(\"bar\") # array with mixed named, positional shape"
      ]
    },
    {
      "cell_type": "markdown",
      "metadata": {
        "id": "s0pT1n3glphm"
      },
      "source": [
        "### Operations on NamedArrays and nmap\n",
        "\n",
        "As we said, JAX operations are applied to the positional axes. In this section, we will explore the syntax for apply JAX operations to named arrays.\n",
        "\n",
        "* Unfortunately, JAX operations don't directly accept NamedArrays.\n",
        "* On the other hand, JAX function transformations (e.g., `jax.jit` or `jax.grad`) will work directly with NamedArrays."
      ]
    },
    {
      "cell_type": "code",
      "execution_count": null,
      "metadata": {
        "id": "c9hAk3XNly6h",
        "colab": {
          "base_uri": "https://localhost:8080/"
        },
        "outputId": "66418347-53a6-471f-a7f0-41f0b6a9bc50"
      },
      "outputs": [
        {
          "output_type": "stream",
          "name": "stderr",
          "text": [
            "Traceback (most recent call last):\n",
            "  File \"<ipython-input-21-59d6585e5b06>\", line 7, in <cell line: 0>\n",
            "    jnp.sum(named_array)\n",
            "TypeError: sum requires ndarray or scalar arguments, got <class 'penzai.core.named_axes.NamedArray'> at position 0.\n"
          ]
        }
      ],
      "source": [
        "array = np.array([[0., 1., 2., 3.],\n",
        "                  [4., 5., 6., 7.],\n",
        "                  [8., 9., 10., 11.]])\n",
        "named_array = wrap(array, 'foo', 'bar')\n",
        "# This doesn't work unfortunately!\n",
        "try:\n",
        "  jnp.sum(named_array)\n",
        "except:\n",
        "  traceback.print_exc(1)"
      ]
    },
    {
      "cell_type": "markdown",
      "metadata": {
        "id": "9IUj1B0FYZDm"
      },
      "source": [
        "Penzai introduces `nmap` to transform any JAX function so that it handles NamedArray inputs. `nmap` **always act only on the positional axes**, and vectorizes over the named axes. Let's see what that looks like.\n",
        "\n",
        "* **`nmap` is a higher-order function, it takes a Python function as input, and returns another Python function.**\n",
        "* You have hopefully heard of vectorization. If not, here is [a primer](https://www.practicaldatascience.org/notebooks/class_2/week_4/11_vectorization.html).\n",
        "* Conceptually, `nmap` acts very similarly to JAX's `vmap` or `xmap`, but instead of specifying which axes you want to map over explicitly, these axes are inferred from the shapes of the arguments themselves.\n"
      ]
    },
    {
      "cell_type": "code",
      "source": [
        "# First, let's nmap jax's sum operation:\n",
        "nsum = nmap(jnp.sum) # this is a function that accepts named arrays\n",
        "\n",
        "# nmap_sum will apply jnp.sum over the positional axes\n",
        "# at every entry in the named axes\n",
        "\n",
        "# So, if we want to sum over the \"bar\" axis, we\n",
        "#   1. untag \"bar\", which converts it to a positional axis\n",
        "#   2. call nmap_sum, which will apply jnp.sum over the\n",
        "#      positional axis (formerly \"bar\") for every entry of the named axis \"foo\"\n",
        "nsum(named_array.untag(\"bar\"))"
      ],
      "metadata": {
        "colab": {
          "base_uri": "https://localhost:8080/"
        },
        "id": "3HC_MpqULNZT",
        "outputId": "be98744e-3fc1-4675-a770-f0ee3db0ce63"
      },
      "execution_count": null,
      "outputs": [
        {
          "output_type": "display_data",
          "data": {
            "text/html": [
              "<script> (()=>{ if (customElements.get('treescope-container') === undefined) { class TreescopeContainer extends HTMLElement { constructor() { super(); this.attachShadow({mode: \"open\"}); this.defns = {}; this.state = {}; } } customElements.define(\"treescope-container\", TreescopeContainer); } if (customElements.get('treescope-run-here') === undefined) { class RunHere extends HTMLElement { constructor() { super() } connectedCallback() { const run = child => { const fn = new Function(child.textContent); child.textContent = \"\"; fn.call(this); this.remove(); }; const child = this.querySelector(\"script\"); if (child) { run(child); } else { new MutationObserver(()=>{ run(this.querySelector(\"script\")); }).observe(this, {childList: true}); } } } customElements.define(\"treescope-run-here\", RunHere); } })(); </script> <treescope-container class=\"treescope_out_af2d32e984094773910abe67c260de51\" style=\"display:block\"></treescope-container> <treescope-run-here><script type=\"application/octet-stream\"> const root = ( Array.from(document.getElementsByClassName( \"treescope_out_af2d32e984094773910abe67c260de51\")) .filter((elt) => !elt.dataset.setup) )[0]; root.dataset.setup = 1; const msg = document.createElement(\"span\"); msg.style = \"color: #cccccc; font-family: monospace;\"; msg.textContent = \"(Loading...)\"; root.state.loadingMsg = msg; root.shadowRoot.appendChild(msg); root.state.chain = new Promise((resolve, reject) => { const observer = new IntersectionObserver((entries) => { for (const entry of entries) { if (entry.isIntersecting) { resolve(); observer.disconnect(); return; } } }, {rootMargin: \"1000px\"}); window.setTimeout(() => { observer.observe(root); }, 0); }); root.state.deferring = false; const _insertNode = (node) => { for (let oldScript of node.querySelectorAll(\"script\")) { let newScript = document.createElement(\"script\"); newScript.type = oldScript.type; newScript.textContent = oldScript.textContent; oldScript.parentNode.replaceChild(newScript, oldScript); } if (root.state.loadingMsg) { root.state.loadingMsg.remove(); root.state.loadingMsg = null; } root.shadowRoot.appendChild(node); }; root.defns.insertContent = ((contentNode, compressed) => { if (compressed) { root.state.deferring = true; } if (root.state.deferring) { root.state.chain = (async () => { await root.state.chain; if (compressed) { const encoded = contentNode.textContent; const blob = new Blob([ Uint8Array.from(atob(encoded), (m) => m.codePointAt(0)) ]); const reader = blob.stream().pipeThrough( new DecompressionStream(\"deflate\") ).pipeThrough( new TextDecoderStream(\"utf-8\") ).getReader(); const parts = []; while (true) { const step = await reader.read(); if (step.done) { break; } parts.push(step.value); } const tpl = document.createElement('template'); tpl.innerHTML = parts.join(\"\"); _insertNode(tpl.content); } else { _insertNode(contentNode.content); } })(); } else { _insertNode(contentNode.content); } }); </script></treescope-run-here><div style=\"display:none\"> <script type=\"application/octet-stream\" >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</script> <treescope-run-here><script type=\"application/octet-stream\"> const root = ( Array.from(document.getElementsByClassName( \"treescope_out_af2d32e984094773910abe67c260de51\")) .filter((elt) => !elt.dataset['step0']) )[0]; root.dataset['step0'] = 1; root.defns.insertContent( this.parentNode.querySelector('script[type=\"application/octet-stream\"]'), true ); this.parentNode.remove(); </script></treescope-run-here> </div>"
            ],
            "text/plain": [
              "<IPython.core.display.HTML object>"
            ]
          },
          "metadata": {}
        },
        {
          "output_type": "display_data",
          "data": {
            "text/html": [
              "<div style=\"display:none\"> <script type=\"application/octet-stream\" >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</script> <treescope-run-here><script type=\"application/octet-stream\"> const root = ( Array.from(document.getElementsByClassName( \"treescope_out_af2d32e984094773910abe67c260de51\")) .filter((elt) => !elt.dataset['step1']) )[0]; root.dataset['step1'] = 1; root.defns.insertContent( this.parentNode.querySelector('script[type=\"application/octet-stream\"]'), true ); this.parentNode.remove(); </script></treescope-run-here> </div>"
            ],
            "text/plain": [
              "<IPython.core.display.HTML object>"
            ]
          },
          "metadata": {}
        },
        {
          "output_type": "execute_result",
          "data": {
            "text/html": [
              "<treescope-run-here><script type=\"application/octet-stream\"> const root = ( Array.from(document.getElementsByClassName( \"treescope_out_af2d32e984094773910abe67c260de51\")) .filter((elt) => !elt.dataset.stolen) )[0]; root.dataset.stolen = 1; const temp = document.createElement(\"div\"); temp.style = \"height: 1px; width: 1px;\"; root.parentNode.insertBefore(temp, root); this.parentNode.replaceChild(root, this); temp.remove(); root.style.paddingTop = \"1px\"; </script></treescope-run-here>"
            ],
            "text/plain": [
              "<NamedArray float32(| foo:3) ≈2.2e+01 ±1.3e+01 [≥6.0, ≤3.8e+01] nonzero:3 (wrapping jax.Array)\n",
              "  <Arrayviz rendering>\n",
              "| Device: GPU 0>"
            ]
          },
          "metadata": {},
          "execution_count": 22
        }
      ]
    },
    {
      "cell_type": "code",
      "source": [
        "# Therefore, if we untag both \"foo\" and \"bar\", we will sum over the whole array\n",
        "nsum(named_array.untag(\"foo\", \"bar\"))"
      ],
      "metadata": {
        "colab": {
          "base_uri": "https://localhost:8080/"
        },
        "id": "GITeXItmOL8p",
        "outputId": "c761ff69-b4bb-47da-d4eb-23dcad8c704c"
      },
      "execution_count": null,
      "outputs": [
        {
          "output_type": "display_data",
          "data": {
            "text/html": [
              "<script> (()=>{ if (customElements.get('treescope-container') === undefined) { class TreescopeContainer extends HTMLElement { constructor() { super(); this.attachShadow({mode: \"open\"}); this.defns = {}; this.state = {}; } } customElements.define(\"treescope-container\", TreescopeContainer); } if (customElements.get('treescope-run-here') === undefined) { class RunHere extends HTMLElement { constructor() { super() } connectedCallback() { const run = child => { const fn = new Function(child.textContent); child.textContent = \"\"; fn.call(this); this.remove(); }; const child = this.querySelector(\"script\"); if (child) { run(child); } else { new MutationObserver(()=>{ run(this.querySelector(\"script\")); }).observe(this, {childList: true}); } } } customElements.define(\"treescope-run-here\", RunHere); } })(); </script> <treescope-container class=\"treescope_out_1b870bfa091c4a2b8f08deef2250a2f6\" style=\"display:block\"></treescope-container> <treescope-run-here><script type=\"application/octet-stream\"> const root = ( Array.from(document.getElementsByClassName( \"treescope_out_1b870bfa091c4a2b8f08deef2250a2f6\")) .filter((elt) => !elt.dataset.setup) )[0]; root.dataset.setup = 1; const msg = document.createElement(\"span\"); msg.style = \"color: #cccccc; font-family: monospace;\"; msg.textContent = \"(Loading...)\"; root.state.loadingMsg = msg; root.shadowRoot.appendChild(msg); root.state.chain = new Promise((resolve, reject) => { const observer = new IntersectionObserver((entries) => { for (const entry of entries) { if (entry.isIntersecting) { resolve(); observer.disconnect(); return; } } }, {rootMargin: \"1000px\"}); window.setTimeout(() => { observer.observe(root); }, 0); }); root.state.deferring = false; const _insertNode = (node) => { for (let oldScript of node.querySelectorAll(\"script\")) { let newScript = document.createElement(\"script\"); newScript.type = oldScript.type; newScript.textContent = oldScript.textContent; oldScript.parentNode.replaceChild(newScript, oldScript); } if (root.state.loadingMsg) { root.state.loadingMsg.remove(); root.state.loadingMsg = null; } root.shadowRoot.appendChild(node); }; root.defns.insertContent = ((contentNode, compressed) => { if (compressed) { root.state.deferring = true; } if (root.state.deferring) { root.state.chain = (async () => { await root.state.chain; if (compressed) { const encoded = contentNode.textContent; const blob = new Blob([ Uint8Array.from(atob(encoded), (m) => m.codePointAt(0)) ]); const reader = blob.stream().pipeThrough( new DecompressionStream(\"deflate\") ).pipeThrough( new TextDecoderStream(\"utf-8\") ).getReader(); const parts = []; while (true) { const step = await reader.read(); if (step.done) { break; } parts.push(step.value); } const tpl = document.createElement('template'); tpl.innerHTML = parts.join(\"\"); _insertNode(tpl.content); } else { _insertNode(contentNode.content); } })(); } else { _insertNode(contentNode.content); } }); </script></treescope-run-here><div style=\"display:none\"> <script type=\"application/octet-stream\" >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</script> <treescope-run-here><script type=\"application/octet-stream\"> const root = ( Array.from(document.getElementsByClassName( \"treescope_out_1b870bfa091c4a2b8f08deef2250a2f6\")) .filter((elt) => !elt.dataset['step0']) )[0]; root.dataset['step0'] = 1; root.defns.insertContent( this.parentNode.querySelector('script[type=\"application/octet-stream\"]'), true ); this.parentNode.remove(); </script></treescope-run-here> </div>"
            ],
            "text/plain": [
              "<IPython.core.display.HTML object>"
            ]
          },
          "metadata": {}
        },
        {
          "output_type": "display_data",
          "data": {
            "text/html": [
              "<div style=\"display:none\"> <script type=\"application/octet-stream\" >eNqVVE1v2zAM/SuCChQO2qhZ4jjp8gFs7Qb00sN22KEoDFWiEw2K5Epym2zYfx9lJy7SJlh3sU2RfHyPpDyV6on4sNEwo1L5UvPNR2KsAUqUnNHCulxCAc6BzAdplmYFT+Ulz9JikPFhkQ5G/ZHs9YuRKHp0PvUlN82TCM29n1FhNWLwhwcHT3R+qsPkJ1+zT87xTZJl7JzIsClhVmjLw6DfOV2EyfSigdm9kOJ8+h88xw8DGKe9vhz1+mkGl+NUZDwbpsN0PObQ+3CQ5/MSTI5kNS89YnAjc2ND7mxlZHCqpP+SdctXIGtd5Kg6kjw7XpbKLEjbhUOS3xCDNZ5I5IVFj1GqA485HyuuDTLMSweFWtN5CeYXV0xYByw6UPIaPNsn8qIpOc7pYGeEXa3ABDon5OR4P15P+sDcgwPwwpbQdZXpLsEBlhMoMJAaimI/tRI8KGsurAgQuh5z+IrOhTUeo7hbQLiRnszIHX3/Mp8T+v6Nup80xaQVztqApcJSeYaFv6F5ayUknQnZEkJF26BtOHuswG2+gwYRrEsoa0Xn0U3fpF5p3PxYZGszEQ/qMsFVgPGtxwHeFQE/VFgme+ktaOH4Is6q4VPFTyawgwGut+bXbUTUsItm2Hcw8mqptGyBo986kmgIRCFeb4Kv6csImAazCEs8PTvrkN8kxjVODG6R0fyiIX5+3twg+C77Tt1jgZjjbeUEXOMv4WgPT+IvgZIz8iq9Mffa0qKxQjm/q10rw4QXr4OVfaoH+Wd/Egeb3ImXul5UXOUDW/wXl1vrAQ==</script> <treescope-run-here><script type=\"application/octet-stream\"> const root = ( Array.from(document.getElementsByClassName( \"treescope_out_1b870bfa091c4a2b8f08deef2250a2f6\")) .filter((elt) => !elt.dataset['step1']) )[0]; root.dataset['step1'] = 1; root.defns.insertContent( this.parentNode.querySelector('script[type=\"application/octet-stream\"]'), true ); this.parentNode.remove(); </script></treescope-run-here> </div>"
            ],
            "text/plain": [
              "<IPython.core.display.HTML object>"
            ]
          },
          "metadata": {}
        },
        {
          "output_type": "execute_result",
          "data": {
            "text/html": [
              "<treescope-run-here><script type=\"application/octet-stream\"> const root = ( Array.from(document.getElementsByClassName( \"treescope_out_1b870bfa091c4a2b8f08deef2250a2f6\")) .filter((elt) => !elt.dataset.stolen) )[0]; root.dataset.stolen = 1; const temp = document.createElement(\"div\"); temp.style = \"height: 1px; width: 1px;\"; root.parentNode.insertBefore(temp, root); this.parentNode.replaceChild(root, this); temp.remove(); root.style.paddingTop = \"1px\"; </script></treescope-run-here>"
            ],
            "text/plain": [
              "<NamedArray Array(66., dtype=float32) (wrapping jax.Array)>"
            ]
          },
          "metadata": {},
          "execution_count": 23
        }
      ]
    },
    {
      "cell_type": "markdown",
      "source": [
        "Before you run the cell below, try to predict what the output will be."
      ],
      "metadata": {
        "id": "R0g4yVBPOjuB"
      }
    },
    {
      "cell_type": "code",
      "source": [
        "# Quiz: what does this return?\n",
        "nsum(named_array)"
      ],
      "metadata": {
        "colab": {
          "base_uri": "https://localhost:8080/"
        },
        "id": "7t6hH_E5OmpH",
        "outputId": "cb0ac801-b2da-4b7f-e4df-790a46a01196"
      },
      "execution_count": null,
      "outputs": [
        {
          "output_type": "display_data",
          "data": {
            "text/html": [
              "<script> (()=>{ if (customElements.get('treescope-container') === undefined) { class TreescopeContainer extends HTMLElement { constructor() { super(); this.attachShadow({mode: \"open\"}); this.defns = {}; this.state = {}; } } customElements.define(\"treescope-container\", TreescopeContainer); } if (customElements.get('treescope-run-here') === undefined) { class RunHere extends HTMLElement { constructor() { super() } connectedCallback() { const run = child => { const fn = new Function(child.textContent); child.textContent = \"\"; fn.call(this); this.remove(); }; const child = this.querySelector(\"script\"); if (child) { run(child); } else { new MutationObserver(()=>{ run(this.querySelector(\"script\")); }).observe(this, {childList: true}); } } } customElements.define(\"treescope-run-here\", RunHere); } })(); </script> <treescope-container class=\"treescope_out_09929eab9cbb497b9b8dc7bea09876aa\" style=\"display:block\"></treescope-container> <treescope-run-here><script type=\"application/octet-stream\"> const root = ( Array.from(document.getElementsByClassName( \"treescope_out_09929eab9cbb497b9b8dc7bea09876aa\")) .filter((elt) => !elt.dataset.setup) )[0]; root.dataset.setup = 1; const msg = document.createElement(\"span\"); msg.style = \"color: #cccccc; font-family: monospace;\"; msg.textContent = \"(Loading...)\"; root.state.loadingMsg = msg; root.shadowRoot.appendChild(msg); root.state.chain = new Promise((resolve, reject) => { const observer = new IntersectionObserver((entries) => { for (const entry of entries) { if (entry.isIntersecting) { resolve(); observer.disconnect(); return; } } }, {rootMargin: \"1000px\"}); window.setTimeout(() => { observer.observe(root); }, 0); }); root.state.deferring = false; const _insertNode = (node) => { for (let oldScript of node.querySelectorAll(\"script\")) { let newScript = document.createElement(\"script\"); newScript.type = oldScript.type; newScript.textContent = oldScript.textContent; oldScript.parentNode.replaceChild(newScript, oldScript); } if (root.state.loadingMsg) { root.state.loadingMsg.remove(); root.state.loadingMsg = null; } root.shadowRoot.appendChild(node); }; root.defns.insertContent = ((contentNode, compressed) => { if (compressed) { root.state.deferring = true; } if (root.state.deferring) { root.state.chain = (async () => { await root.state.chain; if (compressed) { const encoded = contentNode.textContent; const blob = new Blob([ Uint8Array.from(atob(encoded), (m) => m.codePointAt(0)) ]); const reader = blob.stream().pipeThrough( new DecompressionStream(\"deflate\") ).pipeThrough( new TextDecoderStream(\"utf-8\") ).getReader(); const parts = []; while (true) { const step = await reader.read(); if (step.done) { break; } parts.push(step.value); } const tpl = document.createElement('template'); tpl.innerHTML = parts.join(\"\"); _insertNode(tpl.content); } else { _insertNode(contentNode.content); } })(); } else { _insertNode(contentNode.content); } }); </script></treescope-run-here><div style=\"display:none\"> <script type=\"application/octet-stream\" >eNrVWQtX4kgW/ivV6bNjGCXyVrDlbEBedqut2K3tzBymSCpJSUjFSgHirP99byXhHW2dcXp34BzByq2671vfvXwIxNQlVU1wQgKD+aTHGRPoD+SzgArKvArixMWCjskBspgn0hYeUndaQUPmscDHBqxPHCpIOvyngnwOKy4NRDo8Oi2mPqx6zIPlPjYGNmcjz0wbzGW8Em09QPF/fRcI4DxqCqeCLCqAzBPEEwdoSL10vJ7NZP4FZ7H7dEAfqGfDPsZNwtOwdIB8bJqwmHaJJSooZzhSGo+kHUJtB1ayWlHy8wSmoNz8/PhLekwD2qcuFaAiHgk2p01TT3DqBdSQbEn0NNbr8cNuZMcPczum+cgDnhzWAoNTXyBpiMMt7PsuNbA07S4zBJFm4gQPt6qqmjqsguWBXyCQSSwvQIdIODTQbCIuwC2nzCRqSnNYILTwOahGBOr5xJMq64Y8VW765bekJ23smS6Bx97IdQ8iDhqI2WXMg1V1wvgghZZlYFewJB+tLAtqyEWfcIvxIfYMonlsoqbCQAAG6sYTlI42fUD5XArOoRZS16TWXOLZwkGHhygjSZ4VnRMx4h7YHRE3IAvBnJEnJVs/OnCoJaR8IYH88gjvJzioEH6eySYaJ3cjEgjdo8PQXU2Oh0SNbJKSZxxsMPJHgROZ8SBBxxmLw0iNZ7R8uQxSisiRgtm2G6VvL0wxiFZfniVXiCt2EBlDgMeelNKF/2sDMpVGV7giBYqJNcPFQfAJsjg+V1XmZ/aGEIbKjPljCuwJ4R/GePXDblICmHSMwgMPldU6oyCB+6ApuT9UMgqkLhebJMwDEcEYHjx6LhmSLaDKPTPdFUjGqN6FBaeH+31OxmH8hPXnfWk/hzMZ0ComMNhwCBuXKHD4ksqvkeCKx4RacdiY8FQCfUzujYZ9wpcOzJT3s8XSgiCQVcZe5pjPFrNFSQBqEs6J2fOhThKHuebKSXhPvuMyHepZQVRgKDdyswXkuA/28cBwTxR4UGqFrBeZFKhNGgDT6ayQrxOiKnJxn7iVSp9A6pMlqYzwdZDIL6rR6aws0nFxB+PPeVEvrNx9l8lb4Umeock3OZuYDwKCbQgnb3N36K21JQcHajU8s5poh8jDhkOMATFTKfRzaiGD3Jq8aUa/ImF42VTQ1q+5Yt/Y+l+Kt7rpSSFLP0BI6UfJeMQD6UCfwZVLeAJfGrwd2zAVQkbpsEgET8X423BdqCfIvdjkotGgZ1EeiB7zejL8E1LruVTSckWZTYmuQn9Z/Mjj6yJKrYaY2wCSIjHChH78i9ygHvrT/kgIQCdJBWjxOCloFaSsUYEhAaImE/9KsgVTWUO4WycYooJiF3Wnwz5zA3Q2ElJfE9WjnfDpTyEx0hPSHwBajSrvEC4gJ8Sl2BOwneKAmHOM+55k5PtgM8yj3SG2zGhlMlzXMsqPBC2Sy91ipzbBQc+AewAMO9+PLbFye8zq9HM81/asslw2PRpjrqbTJhY4jT1wbIheUsvLkomEZBx7s2gOj0XZABGwGODtNBuJ16kylwAcQ4n5blWSkCV6R4c+4wJ7G2f3ORsQrydXFsXo+9Zd2rZkz5mbHzUJcEAws2cAPDY58WJRVxsQOHOV8I2q61LqxBfpSqoa2DVU6JIAomf9+xDVaYHAcv9c3r9NkrhviyQxmQDdpRTLxrsbYdcD0NuDvtKi93DISprsh2kCCB9LXDTB3IPE680K+8wXloWNbD6B0AeI/Me8ZeRxhyirV2ykeCmd0cKyumhgK2FXiXna5tik4DYVZfNFk9g7iEFI2wRlQLyS4exEIQ7YVhaMcAnFZt6QZaOyvk3ZRhsFeqbPozZxwtB1XexDlfo+0nt9GX+aQ4TvQh4hEbmHdDafpHkLOZJYxIquEvQAii/aqCSzPE3+Nvmyg9amMtpqC4ZeKPC6leeu6ME+EEH85W0/VN8Xir/i1Ocd+RKuLzLRS2z5EmbfU+otpk1yAIDe6ZzjqWZxNlRNZoxkI6vJ+hpoY+yOSKCmUlrAhkQNq64cHchPLUJIcmzwQoykbEENSs0HNYFDiJDTHDJB9W63K7XpyjU5mwkfapyETW536hnq7/+OcZlBZvX/9RhtuSv25HTKjdcm8WCwIBv/gBsVNOKuKgFDRT7fnTDLyh30AZKUCjtmptw6sfWaHr4657rOwm+1iwn8bTd1vaE/96oNdd0esI9mp1GrT77p+uW3+rF+0qnV9aZ932l/ckRQO6HEzjePrnOfOqVv464/op9PipfZ4+vOxdeT8dXJg/g8bTbr21f24JLWjjIOPTofHTfM1m2m3d+1xh3Tv/tYcu6uKD0fnXgtp219EfqXUu2UF/Rmxxs0SsaX0cjbvijeGcFgMraa7u7dvd1g+3b/eNLaz7b1XU+/KH7i/Dh7sW0/ZC7MjH5sZe3TvfqkdZuzM2w6utjbGzaypUn7unxm2z65HEwLpNN/KBp9ftYSWLfPO6eTIxxMg/NRp3N91WhO9M/nfueb+WV3d9veu9y7zouM9fHznT4uwpmf9NM9/WSiD+2Hi+726KZLGtf3OatkPJwWLtrT4qimf3yo3fpNP0/b5/VG5mb0udDd86zap0a7eTLU6fb+uJFzvKyzt93/Orm+nbT5+Kj1pe7dWo2GLbbPjBvX3SuW68eT2r5TLpyctLr51o1uDzvF29p5WVy2SLvcqNU6rfyRXbjY/WZM+3oLfPr1465+3sI6Oam7evuhcWbfCLtU+2yfnXWOagN6XiTN2nW91jRoxnc48z2IDf+mcZR9yA66Vt0SzvSj1zZxM2hbmdNhq3Faqpn63devPhZB92ZompiWc9ZDufCF3t6V/CEvnbFv9S7lreH4uJXvXnXzzUbOqJ1bl9ttl/mtQjOYFLF9V9qnN6R76vpXXq3dIeYJJ6Oru1Z9mL1q8kG3e1/Mla6ugokOEqVQOJkV6lYY1lsSifwOf+bZj03mAwxbpGQ4T9Y07RmKnShnf4Oznp/QOeGAM0TKEYiHsyE8PAOpEZZeHT9DCl4ymb5AFmNtuRZAeZBHyOZBIm48wVQgD4+pjQXjGpzs9xnmpjbhVJBL6LPVxVmgbHzWYsYJ+E9VljoLOd0ELpd0SKAFUWfj7419nAyhTdjY+riDcplMJkR5UHwB8Klhj5zMd6l9UBbCyenArILJgbCC3qMmpi4UNsGQJH4XVjbAdR5AZKjGFGxGsCm7n+1l28WT2u/MaGUnNRvSrt54yurD1RncOmAF4ujS/0A9fxRfQ0p4zffZvZJ4SIwIYOtuuCnmR81DZT7xxPlsOVfKZYz9XKlQtnDZKBuFYpmYBtnPZbNFJUGDZ5DCGvnyNFip/uSKg1NoOczwdkSWy7DI59T/QOqwSn4HmgBeKaSQOuFwvcpZ7S2+10La1E+2kIaGo6uzjw2xEgGb8goPrLVEStUn3gOmkBOcaPIBKHxPAm1VkIVG6tMyJdolnnArVQQx+IQ11pRe+4hD4k+ZYqN7fva5Ul0Y4PDpuH3DMP1THpOhSeIfjVaNdSY7YmIeUUOofyRZbmsxedhCzKvLsnO49cq6G/4qktpC87HIobIUOQoKcdKhsjQ3Aai1RCFnXuvTHaAI6w3cZw58j01QfSYdXuvahNiMfi2BnH1/n9s7gJCMvsTcKihhS/QLjFLNx0Q7z1QOiPnv5rHyo93zyxboufVbspd+uhsxcbBJHa3/abe91IkvcBIUjJc7qfAC8+/8P7oItHyFi0LqN3VR9PGY+qcG+d9Zg14bzLEkSb+rzn/FzeRyRetAqUqBelhes/H5hwloZj9b2MtYFu6X9/qFfHkfm9jMlbKZ/VLO2sOF7FoWJf3uq1TnqGN+J8NtvHET/xPyZmGzp7y+oNh60/xIfT8kNicyShJABecVynivkNnH+YJl5MqW0beKmb5plawiKeR/GIpG8UxtAVOS4FdySL0t8n1xIL4cSCUA0q80AHRFH8JIQA41IYOhF0KLAZqcrD0hmknH1f8Chvu/wA==</script> <treescope-run-here><script type=\"application/octet-stream\"> const root = ( Array.from(document.getElementsByClassName( \"treescope_out_09929eab9cbb497b9b8dc7bea09876aa\")) .filter((elt) => !elt.dataset['step0']) )[0]; root.dataset['step0'] = 1; root.defns.insertContent( this.parentNode.querySelector('script[type=\"application/octet-stream\"]'), true ); this.parentNode.remove(); </script></treescope-run-here> </div>"
            ],
            "text/plain": [
              "<IPython.core.display.HTML object>"
            ]
          },
          "metadata": {}
        },
        {
          "output_type": "display_data",
          "data": {
            "text/html": [
              "<div style=\"display:none\"> <script type=\"application/octet-stream\" >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</script> <treescope-run-here><script type=\"application/octet-stream\"> const root = ( Array.from(document.getElementsByClassName( \"treescope_out_09929eab9cbb497b9b8dc7bea09876aa\")) .filter((elt) => !elt.dataset['step1']) )[0]; root.dataset['step1'] = 1; root.defns.insertContent( this.parentNode.querySelector('script[type=\"application/octet-stream\"]'), true ); this.parentNode.remove(); </script></treescope-run-here> </div>"
            ],
            "text/plain": [
              "<IPython.core.display.HTML object>"
            ]
          },
          "metadata": {}
        },
        {
          "output_type": "execute_result",
          "data": {
            "text/html": [
              "<treescope-run-here><script type=\"application/octet-stream\"> const root = ( Array.from(document.getElementsByClassName( \"treescope_out_09929eab9cbb497b9b8dc7bea09876aa\")) .filter((elt) => !elt.dataset.stolen) )[0]; root.dataset.stolen = 1; const temp = document.createElement(\"div\"); temp.style = \"height: 1px; width: 1px;\"; root.parentNode.insertBefore(temp, root); this.parentNode.replaceChild(root, this); temp.remove(); root.style.paddingTop = \"1px\"; </script></treescope-run-here>"
            ],
            "text/plain": [
              "<NamedArray float32(| foo:3, bar:4) ≈5.5 ±3.5 [≥0.0, ≤1.1e+01] zero:1 nonzero:11 (wrapping jax.Array)\n",
              "  <Arrayviz rendering>\n",
              "| Device: GPU 0>"
            ]
          },
          "metadata": {},
          "execution_count": 24
        }
      ]
    },
    {
      "cell_type": "markdown",
      "metadata": {
        "id": "2L2DmJkTam_U"
      },
      "source": [
        "This means that it's possible to run *any* ordinary JAX function over an arbitrary set of axes of a NamedArray, by first using `untag` to expose those axes as positional, then using `nmap` to map over the named axes."
      ]
    },
    {
      "cell_type": "markdown",
      "metadata": {
        "id": "5ydnho1_bTFx"
      },
      "source": [
        "Instead of specifying which axes you want to map over explicitly, these axes are inferred from the arguments themselves. This means you can call `nmap`-ed function the same way you would without."
      ]
    },
    {
      "cell_type": "code",
      "execution_count": null,
      "metadata": {
        "id": "68CwWb04nIng",
        "colab": {
          "base_uri": "https://localhost:8080/"
        },
        "outputId": "bf84fad4-d1ed-4350-bfbb-0e24d54f5b88"
      },
      "outputs": [
        {
          "output_type": "display_data",
          "data": {
            "text/html": [
              "<script> (()=>{ if (customElements.get('treescope-container') === undefined) { class TreescopeContainer extends HTMLElement { constructor() { super(); this.attachShadow({mode: \"open\"}); this.defns = {}; this.state = {}; } } customElements.define(\"treescope-container\", TreescopeContainer); } if (customElements.get('treescope-run-here') === undefined) { class RunHere extends HTMLElement { constructor() { super() } connectedCallback() { const run = child => { const fn = new Function(child.textContent); child.textContent = \"\"; fn.call(this); this.remove(); }; const child = this.querySelector(\"script\"); if (child) { run(child); } else { new MutationObserver(()=>{ run(this.querySelector(\"script\")); }).observe(this, {childList: true}); } } } customElements.define(\"treescope-run-here\", RunHere); } })(); </script> <treescope-container class=\"treescope_out_4700b1fd5e4348c89aeac725ee11b0d0\" style=\"display:block\"></treescope-container> <treescope-run-here><script type=\"application/octet-stream\"> const root = ( Array.from(document.getElementsByClassName( \"treescope_out_4700b1fd5e4348c89aeac725ee11b0d0\")) .filter((elt) => !elt.dataset.setup) )[0]; root.dataset.setup = 1; const msg = document.createElement(\"span\"); msg.style = \"color: #cccccc; font-family: monospace;\"; msg.textContent = \"(Loading...)\"; root.state.loadingMsg = msg; root.shadowRoot.appendChild(msg); root.state.chain = new Promise((resolve, reject) => { const observer = new IntersectionObserver((entries) => { for (const entry of entries) { if (entry.isIntersecting) { resolve(); observer.disconnect(); return; } } }, {rootMargin: \"1000px\"}); window.setTimeout(() => { observer.observe(root); }, 0); }); root.state.deferring = false; const _insertNode = (node) => { for (let oldScript of node.querySelectorAll(\"script\")) { let newScript = document.createElement(\"script\"); newScript.type = oldScript.type; newScript.textContent = oldScript.textContent; oldScript.parentNode.replaceChild(newScript, oldScript); } if (root.state.loadingMsg) { root.state.loadingMsg.remove(); root.state.loadingMsg = null; } root.shadowRoot.appendChild(node); }; root.defns.insertContent = ((contentNode, compressed) => { if (compressed) { root.state.deferring = true; } if (root.state.deferring) { root.state.chain = (async () => { await root.state.chain; if (compressed) { const encoded = contentNode.textContent; const blob = new Blob([ Uint8Array.from(atob(encoded), (m) => m.codePointAt(0)) ]); const reader = blob.stream().pipeThrough( new DecompressionStream(\"deflate\") ).pipeThrough( new TextDecoderStream(\"utf-8\") ).getReader(); const parts = []; while (true) { const step = await reader.read(); if (step.done) { break; } parts.push(step.value); } const tpl = document.createElement('template'); tpl.innerHTML = parts.join(\"\"); _insertNode(tpl.content); } else { _insertNode(contentNode.content); } })(); } else { _insertNode(contentNode.content); } }); </script></treescope-run-here><div style=\"display:none\"> <script type=\"application/octet-stream\" >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</script> <treescope-run-here><script type=\"application/octet-stream\"> const root = ( Array.from(document.getElementsByClassName( \"treescope_out_4700b1fd5e4348c89aeac725ee11b0d0\")) .filter((elt) => !elt.dataset['step0']) )[0]; root.dataset['step0'] = 1; root.defns.insertContent( this.parentNode.querySelector('script[type=\"application/octet-stream\"]'), true ); this.parentNode.remove(); </script></treescope-run-here> </div>"
            ],
            "text/plain": [
              "<IPython.core.display.HTML object>"
            ]
          },
          "metadata": {}
        },
        {
          "output_type": "display_data",
          "data": {
            "text/html": [
              "<div style=\"display:none\"> <script type=\"application/octet-stream\" >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</script> <treescope-run-here><script type=\"application/octet-stream\"> const root = ( Array.from(document.getElementsByClassName( \"treescope_out_4700b1fd5e4348c89aeac725ee11b0d0\")) .filter((elt) => !elt.dataset['step1']) )[0]; root.dataset['step1'] = 1; root.defns.insertContent( this.parentNode.querySelector('script[type=\"application/octet-stream\"]'), true ); this.parentNode.remove(); </script></treescope-run-here> </div>"
            ],
            "text/plain": [
              "<IPython.core.display.HTML object>"
            ]
          },
          "metadata": {}
        },
        {
          "output_type": "execute_result",
          "data": {
            "text/html": [
              "<treescope-run-here><script type=\"application/octet-stream\"> const root = ( Array.from(document.getElementsByClassName( \"treescope_out_4700b1fd5e4348c89aeac725ee11b0d0\")) .filter((elt) => !elt.dataset.stolen) )[0]; root.dataset.stolen = 1; const temp = document.createElement(\"div\"); temp.style = \"height: 1px; width: 1px;\"; root.parentNode.insertBefore(temp, root); this.parentNode.replaceChild(root, this); temp.remove(); root.style.paddingTop = \"1px\"; </script></treescope-run-here>"
            ],
            "text/plain": [
              "{'A': <NamedArray float32(| m:3, n:10) ≈1.0 ±0.0 [≥1.0, ≤1.0] nonzero:30 (wrapping jax.Array)\n",
              "   <Arrayviz rendering>\n",
              " | Device: GPU 0>,\n",
              " \"|A[i]|^2 for every i in axis 'm'\": <NamedArray float32(| m:3) ≈1e+01 ±0.0 [≥1e+01, ≤1e+01] nonzero:3 (wrapping jax.Array)\n",
              "   <Arrayviz rendering>\n",
              " | Device: GPU 0>}"
            ]
          },
          "metadata": {},
          "execution_count": 25
        }
      ],
      "source": [
        "# Let's do some nmap-ed jnp.dot examples\n",
        "nmap_dot = nmap(jnp.dot)\n",
        "\n",
        "# Consider a matrix\n",
        "A = wrap(np.ones((3, 10)), \"m\", \"n\")\n",
        "{\n",
        "    \"A\": A,\n",
        "    \"|A[i]|^2 for every i in axis 'm'\" : nmap_dot(A.untag(\"n\"), A.untag(\"n\"))\n",
        "}"
      ]
    },
    {
      "cell_type": "markdown",
      "source": [
        "Because `nmap`-ed functions can take multiple arguments with different shapes, broadcasting rules are needed to resolve ambiguities when those shapes don't match up. First, to get an intuition, let's see what we mean by this."
      ],
      "metadata": {
        "id": "DYTpX3LqJqA1"
      }
    },
    {
      "cell_type": "code",
      "source": [
        "# Consider the matrices\n",
        "A = wrap(np.ones((3, 10)), \"m\", \"n\")\n",
        "B = wrap(np.ones((10, 2)), \"n\", \"k\")\n",
        "\n",
        "# What do you think the shape of this is?\n",
        "nmap_dot(A.untag(\"n\"), B.untag(\"n\"))"
      ],
      "metadata": {
        "colab": {
          "base_uri": "https://localhost:8080/"
        },
        "id": "bgdKDwV8RIht",
        "outputId": "1aceea46-45fb-477e-c5bd-83597d577139"
      },
      "execution_count": null,
      "outputs": [
        {
          "output_type": "display_data",
          "data": {
            "text/html": [
              "<script> (()=>{ if (customElements.get('treescope-container') === undefined) { class TreescopeContainer extends HTMLElement { constructor() { super(); this.attachShadow({mode: \"open\"}); this.defns = {}; this.state = {}; } } customElements.define(\"treescope-container\", TreescopeContainer); } if (customElements.get('treescope-run-here') === undefined) { class RunHere extends HTMLElement { constructor() { super() } connectedCallback() { const run = child => { const fn = new Function(child.textContent); child.textContent = \"\"; fn.call(this); this.remove(); }; const child = this.querySelector(\"script\"); if (child) { run(child); } else { new MutationObserver(()=>{ run(this.querySelector(\"script\")); }).observe(this, {childList: true}); } } } customElements.define(\"treescope-run-here\", RunHere); } })(); </script> <treescope-container class=\"treescope_out_af82f9e8ae2c408184b166876a890d04\" style=\"display:block\"></treescope-container> <treescope-run-here><script type=\"application/octet-stream\"> const root = ( Array.from(document.getElementsByClassName( \"treescope_out_af82f9e8ae2c408184b166876a890d04\")) .filter((elt) => !elt.dataset.setup) )[0]; root.dataset.setup = 1; const msg = document.createElement(\"span\"); msg.style = \"color: #cccccc; font-family: monospace;\"; msg.textContent = \"(Loading...)\"; root.state.loadingMsg = msg; root.shadowRoot.appendChild(msg); root.state.chain = new Promise((resolve, reject) => { const observer = new IntersectionObserver((entries) => { for (const entry of entries) { if (entry.isIntersecting) { resolve(); observer.disconnect(); return; } } }, {rootMargin: \"1000px\"}); window.setTimeout(() => { observer.observe(root); }, 0); }); root.state.deferring = false; const _insertNode = (node) => { for (let oldScript of node.querySelectorAll(\"script\")) { let newScript = document.createElement(\"script\"); newScript.type = oldScript.type; newScript.textContent = oldScript.textContent; oldScript.parentNode.replaceChild(newScript, oldScript); } if (root.state.loadingMsg) { root.state.loadingMsg.remove(); root.state.loadingMsg = null; } root.shadowRoot.appendChild(node); }; root.defns.insertContent = ((contentNode, compressed) => { if (compressed) { root.state.deferring = true; } if (root.state.deferring) { root.state.chain = (async () => { await root.state.chain; if (compressed) { const encoded = contentNode.textContent; const blob = new Blob([ Uint8Array.from(atob(encoded), (m) => m.codePointAt(0)) ]); const reader = blob.stream().pipeThrough( new DecompressionStream(\"deflate\") ).pipeThrough( new TextDecoderStream(\"utf-8\") ).getReader(); const parts = []; while (true) { const step = await reader.read(); if (step.done) { break; } parts.push(step.value); } const tpl = document.createElement('template'); tpl.innerHTML = parts.join(\"\"); _insertNode(tpl.content); } else { _insertNode(contentNode.content); } })(); } else { _insertNode(contentNode.content); } }); </script></treescope-run-here><div style=\"display:none\"> <script type=\"application/octet-stream\" >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</script> <treescope-run-here><script type=\"application/octet-stream\"> const root = ( Array.from(document.getElementsByClassName( \"treescope_out_af82f9e8ae2c408184b166876a890d04\")) .filter((elt) => !elt.dataset['step0']) )[0]; root.dataset['step0'] = 1; root.defns.insertContent( this.parentNode.querySelector('script[type=\"application/octet-stream\"]'), true ); this.parentNode.remove(); </script></treescope-run-here> </div>"
            ],
            "text/plain": [
              "<IPython.core.display.HTML object>"
            ]
          },
          "metadata": {}
        },
        {
          "output_type": "display_data",
          "data": {
            "text/html": [
              "<div style=\"display:none\"> <script type=\"application/octet-stream\" >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</script> <treescope-run-here><script type=\"application/octet-stream\"> const root = ( Array.from(document.getElementsByClassName( \"treescope_out_af82f9e8ae2c408184b166876a890d04\")) .filter((elt) => !elt.dataset['step1']) )[0]; root.dataset['step1'] = 1; root.defns.insertContent( this.parentNode.querySelector('script[type=\"application/octet-stream\"]'), true ); this.parentNode.remove(); </script></treescope-run-here> </div>"
            ],
            "text/plain": [
              "<IPython.core.display.HTML object>"
            ]
          },
          "metadata": {}
        },
        {
          "output_type": "execute_result",
          "data": {
            "text/html": [
              "<treescope-run-here><script type=\"application/octet-stream\"> const root = ( Array.from(document.getElementsByClassName( \"treescope_out_af82f9e8ae2c408184b166876a890d04\")) .filter((elt) => !elt.dataset.stolen) )[0]; root.dataset.stolen = 1; const temp = document.createElement(\"div\"); temp.style = \"height: 1px; width: 1px;\"; root.parentNode.insertBefore(temp, root); this.parentNode.replaceChild(root, this); temp.remove(); root.style.paddingTop = \"1px\"; </script></treescope-run-here>"
            ],
            "text/plain": [
              "<NamedArray float32(| m:3, k:2) ≈1e+01 ±0.0 [≥1e+01, ≤1e+01] nonzero:6 (wrapping jax.Array)\n",
              "  <Arrayviz rendering>\n",
              "| Device: GPU 0>"
            ]
          },
          "metadata": {},
          "execution_count": 26
        }
      ]
    },
    {
      "cell_type": "markdown",
      "source": [
        "The vectorization rules of `nmap(f)` are as follows:\n",
        "\n",
        "* Assuming every argument to `nmap(f)` has the same set of named axes, apply `f` to the positional sub-arrays of the arguments that are indexed by the named axes.\n",
        "\n",
        "The broadcasting rules are as follows.\n",
        "\n",
        "* For named axes:\n",
        "  * named axes are matched up when they have the same name (e.g. index 3 along axis \"foo\" of argument one is processed with index 3 along axis \"foo\" of argument two).\n",
        "  * when an argument does not have a particular named axis, its values are repeated as if it was constant along this axis, *i.e.*, `nmap` broadcasts whenever an axis name appears in one argument but not another.\n",
        "  *  This means axes with the same name must have the same dimension for all arguments.\n",
        "* For the positional axes:\n",
        "  * `nmap(f)` applies `f` to the fully positional sub-array, which means it uses the traditional JAX/Numpy broadcasting rules.\n",
        "\n",
        "The output of `nmap(f)` will have the following shapes:\n",
        "\n",
        "* its named shape will be the dictionary merge of the named shapes of its arguments.\n",
        "* its positional shape will be the output shape of the function if all of the named axes were removed from its inputs\n",
        "\n",
        "This allows us to express matrix-products in the following way."
      ],
      "metadata": {
        "id": "u2fE0xKERRQ2"
      }
    },
    {
      "cell_type": "code",
      "execution_count": null,
      "metadata": {
        "id": "T0WqgT1aoDcN",
        "colab": {
          "base_uri": "https://localhost:8080/"
        },
        "outputId": "20fb1b2c-e024-49e8-c5be-39dbdb67d4fe"
      },
      "outputs": [
        {
          "output_type": "display_data",
          "data": {
            "text/html": [
              "<script> (()=>{ if (customElements.get('treescope-container') === undefined) { class TreescopeContainer extends HTMLElement { constructor() { super(); this.attachShadow({mode: \"open\"}); this.defns = {}; this.state = {}; } } customElements.define(\"treescope-container\", TreescopeContainer); } if (customElements.get('treescope-run-here') === undefined) { class RunHere extends HTMLElement { constructor() { super() } connectedCallback() { const run = child => { const fn = new Function(child.textContent); child.textContent = \"\"; fn.call(this); this.remove(); }; const child = this.querySelector(\"script\"); if (child) { run(child); } else { new MutationObserver(()=>{ run(this.querySelector(\"script\")); }).observe(this, {childList: true}); } } } customElements.define(\"treescope-run-here\", RunHere); } })(); </script> <treescope-container class=\"treescope_out_ac0b503c568f4dd68aac0f9c9e00167a\" style=\"display:block\"></treescope-container> <treescope-run-here><script type=\"application/octet-stream\"> const root = ( Array.from(document.getElementsByClassName( \"treescope_out_ac0b503c568f4dd68aac0f9c9e00167a\")) .filter((elt) => !elt.dataset.setup) )[0]; root.dataset.setup = 1; const msg = document.createElement(\"span\"); msg.style = \"color: #cccccc; font-family: monospace;\"; msg.textContent = \"(Loading...)\"; root.state.loadingMsg = msg; root.shadowRoot.appendChild(msg); root.state.chain = new Promise((resolve, reject) => { const observer = new IntersectionObserver((entries) => { for (const entry of entries) { if (entry.isIntersecting) { resolve(); observer.disconnect(); return; } } }, {rootMargin: \"1000px\"}); window.setTimeout(() => { observer.observe(root); }, 0); }); root.state.deferring = false; const _insertNode = (node) => { for (let oldScript of node.querySelectorAll(\"script\")) { let newScript = document.createElement(\"script\"); newScript.type = oldScript.type; newScript.textContent = oldScript.textContent; oldScript.parentNode.replaceChild(newScript, oldScript); } if (root.state.loadingMsg) { root.state.loadingMsg.remove(); root.state.loadingMsg = null; } root.shadowRoot.appendChild(node); }; root.defns.insertContent = ((contentNode, compressed) => { if (compressed) { root.state.deferring = true; } if (root.state.deferring) { root.state.chain = (async () => { await root.state.chain; if (compressed) { const encoded = contentNode.textContent; const blob = new Blob([ Uint8Array.from(atob(encoded), (m) => m.codePointAt(0)) ]); const reader = blob.stream().pipeThrough( new DecompressionStream(\"deflate\") ).pipeThrough( new TextDecoderStream(\"utf-8\") ).getReader(); const parts = []; while (true) { const step = await reader.read(); if (step.done) { break; } parts.push(step.value); } const tpl = document.createElement('template'); tpl.innerHTML = parts.join(\"\"); _insertNode(tpl.content); } else { _insertNode(contentNode.content); } })(); } else { _insertNode(contentNode.content); } }); </script></treescope-run-here><div style=\"display:none\"> <script type=\"application/octet-stream\" >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</script> <treescope-run-here><script type=\"application/octet-stream\"> const root = ( Array.from(document.getElementsByClassName( \"treescope_out_ac0b503c568f4dd68aac0f9c9e00167a\")) .filter((elt) => !elt.dataset['step0']) )[0]; root.dataset['step0'] = 1; root.defns.insertContent( this.parentNode.querySelector('script[type=\"application/octet-stream\"]'), true ); this.parentNode.remove(); </script></treescope-run-here> </div>"
            ],
            "text/plain": [
              "<IPython.core.display.HTML object>"
            ]
          },
          "metadata": {}
        },
        {
          "output_type": "display_data",
          "data": {
            "text/html": [
              "<div style=\"display:none\"> <script type=\"application/octet-stream\" >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</script> <treescope-run-here><script type=\"application/octet-stream\"> const root = ( Array.from(document.getElementsByClassName( \"treescope_out_ac0b503c568f4dd68aac0f9c9e00167a\")) .filter((elt) => !elt.dataset['step1']) )[0]; root.dataset['step1'] = 1; root.defns.insertContent( this.parentNode.querySelector('script[type=\"application/octet-stream\"]'), true ); this.parentNode.remove(); </script></treescope-run-here> </div>"
            ],
            "text/plain": [
              "<IPython.core.display.HTML object>"
            ]
          },
          "metadata": {}
        },
        {
          "output_type": "execute_result",
          "data": {
            "text/html": [
              "<treescope-run-here><script type=\"application/octet-stream\"> const root = ( Array.from(document.getElementsByClassName( \"treescope_out_ac0b503c568f4dd68aac0f9c9e00167a\")) .filter((elt) => !elt.dataset.stolen) )[0]; root.dataset.stolen = 1; const temp = document.createElement(\"div\"); temp.style = \"height: 1px; width: 1px;\"; root.parentNode.insertBefore(temp, root); this.parentNode.replaceChild(root, this); temp.remove(); root.style.paddingTop = \"1px\"; </script></treescope-run-here>"
            ],
            "text/plain": [
              "<NamedArray float32(| m:3, k:2) ≈1e+01 ±0.0 [≥1e+01, ≤1e+01] nonzero:6 (wrapping jax.Array)\n",
              "  <Arrayviz rendering>\n",
              "| Device: GPU 0>"
            ]
          },
          "metadata": {},
          "execution_count": 27
        }
      ],
      "source": [
        "# Contract the \"k\" dimensions:\n",
        "nmap(jnp.dot)(A.untag(\"n\"), B.untag(\"n\"))"
      ]
    },
    {
      "cell_type": "markdown",
      "source": [
        "Here are some examples to test your intuition regarding broadcasting rules."
      ],
      "metadata": {
        "id": "xo_bfL4DTbXA"
      }
    },
    {
      "cell_type": "code",
      "source": [
        "a = wrap(np.ones((3, 2))).tag(\"m\", \"n\")\n",
        "b = wrap(np.ones((3,))).tag(\"m\")\n",
        "c = wrap(np.ones((3, 3))).tag(\"m\", \"n\")\n",
        "\n",
        "print(\"This works because b's named axes 'n' axis is broadcast compatible with a's.\")\n",
        "out = nmap(jnp.dot)(a.untag(\"m\"), b.untag(\"m\"))\n",
        "print(f\"{out}\\n\")\n",
        "\n",
        "print(\"This doesn't work because c's 'n' axis is NOT broadcast compatible with a's.\")\n",
        "try:\n",
        "  nmap(jnp.dot)(a.untag(\"m\"), c.untag(\"m\"))\n",
        "except:\n",
        "  traceback.print_exc(1)"
      ],
      "metadata": {
        "colab": {
          "base_uri": "https://localhost:8080/"
        },
        "id": "hr0NQGTV_X_Z",
        "outputId": "0680ade2-f8b3-47c6-ea92-8cc6dd8399df"
      },
      "execution_count": null,
      "outputs": [
        {
          "output_type": "stream",
          "name": "stdout",
          "text": [
            "This works because b's named axes 'n' axis is broadcast compatible with a's.\n",
            "<NamedArray float32(| n:2) ≈3.0 ±0.0 [≥3.0, ≤3.0] nonzero:2 (wrapping jax.Array)>\n",
            "\n",
            "This doesn't work because c's 'n' axis is NOT broadcast compatible with a's.\n"
          ]
        },
        {
          "output_type": "stream",
          "name": "stderr",
          "text": [
            "Traceback (most recent call last):\n",
            "  File \"<ipython-input-28-8e9660dadc26>\", line 11, in <cell line: 0>\n",
            "    nmap(jnp.dot)(a.untag(\"m\"), c.untag(\"m\"))\n",
            "ValueError: Inconsistent named axes in a call to nmap(<PjitFunction of <function dot at 0x7dcd700d0180>>) for axes ['n']:\n",
            "  args[0].named_shape == {'n': 2}\n",
            "  args[1].named_shape == {'n': 3}\n"
          ]
        }
      ]
    },
    {
      "cell_type": "code",
      "source": [
        "a = wrap(np.ones((3, 2))).tag(\"m\", \"n\")\n",
        "d = wrap(np.ones((3, 2, 1))).tag(\"m\", \"n\", \"k\")\n",
        "e = wrap(np.ones((3, 1, 2))).tag(\"m\", \"k\", \"n\")\n",
        "\n",
        "print(\"This works because d's untagged positional shape is broadcast compatible with a's.\")\n",
        "out = nmap(jnp.dot)(a.untag(\"n\"), d.untag(\"n\", \"k\"))\n",
        "print(f\"{out}\\n\")\n",
        "\n",
        "print(\"This won't work because e's untagged positional shape is NOT broadcast compatible with a's.\")\n",
        "try:\n",
        "  nmap(jnp.dot)(a.untag(\"n\"), d.untag(\"k\", \"n\"))\n",
        "except:\n",
        "  traceback.print_exc(1)"
      ],
      "metadata": {
        "colab": {
          "base_uri": "https://localhost:8080/"
        },
        "id": "cos55r34BRe6",
        "outputId": "a7275482-92a4-48b5-a3d3-51cff636d638"
      },
      "execution_count": null,
      "outputs": [
        {
          "output_type": "stream",
          "name": "stdout",
          "text": [
            "This works because d's untagged positional shape is broadcast compatible with a's.\n",
            "<NamedArrayView float32(1 | m:3) ≈2.0 ±0.0 [≥2.0, ≤2.0] nonzero:3 (wrapping jax.Array)>\n",
            "\n",
            "This won't work because e's untagged positional shape is NOT broadcast compatible with a's.\n"
          ]
        },
        {
          "output_type": "stream",
          "name": "stderr",
          "text": [
            "Traceback (most recent call last):\n",
            "  File \"<ipython-input-29-0693d37c5a29>\", line 11, in <cell line: 0>\n",
            "    nmap(jnp.dot)(a.untag(\"n\"), d.untag(\"k\", \"n\"))\n",
            "TypeError: dot_general requires contracting dimensions to have the same shape, got (2,) and (1,).\n"
          ]
        }
      ]
    },
    {
      "cell_type": "markdown",
      "source": [
        "### Methods and infix operators\n",
        "\n",
        "NamedArrays support most of the same instance methods and operators as ordinary JAX arrays. Just like `nmap`-ed functions, these wrapped instance methods **only act on the positional axes**, and are vectorized over the named axes.\n",
        "\n",
        "* These follow the rules that we discussed above.\n"
      ],
      "metadata": {
        "id": "bgredRjiLnyx"
      }
    },
    {
      "cell_type": "code",
      "source": [
        "# The positional axes here are 0-d (i.e., just the entry value)\n",
        "# Because the named axes are all the same, we sum these arrays entry-wise\n",
        "wrap(np.ones(2)).tag(\"m\") + wrap(np.ones(2)).tag(\"m\") + wrap(np.ones(2)).tag(\"m\")"
      ],
      "metadata": {
        "colab": {
          "base_uri": "https://localhost:8080/"
        },
        "id": "otDFv_EGEc1T",
        "outputId": "298ef579-b302-48b4-d806-9c70bac9d921"
      },
      "execution_count": null,
      "outputs": [
        {
          "output_type": "display_data",
          "data": {
            "text/html": [
              "<script> (()=>{ if (customElements.get('treescope-container') === undefined) { class TreescopeContainer extends HTMLElement { constructor() { super(); this.attachShadow({mode: \"open\"}); this.defns = {}; this.state = {}; } } customElements.define(\"treescope-container\", TreescopeContainer); } if (customElements.get('treescope-run-here') === undefined) { class RunHere extends HTMLElement { constructor() { super() } connectedCallback() { const run = child => { const fn = new Function(child.textContent); child.textContent = \"\"; fn.call(this); this.remove(); }; const child = this.querySelector(\"script\"); if (child) { run(child); } else { new MutationObserver(()=>{ run(this.querySelector(\"script\")); }).observe(this, {childList: true}); } } } customElements.define(\"treescope-run-here\", RunHere); } })(); </script> <treescope-container class=\"treescope_out_b57ad574ffb74686aee5e2225b1bac70\" style=\"display:block\"></treescope-container> <treescope-run-here><script type=\"application/octet-stream\"> const root = ( Array.from(document.getElementsByClassName( \"treescope_out_b57ad574ffb74686aee5e2225b1bac70\")) .filter((elt) => !elt.dataset.setup) )[0]; root.dataset.setup = 1; const msg = document.createElement(\"span\"); msg.style = \"color: #cccccc; font-family: monospace;\"; msg.textContent = \"(Loading...)\"; root.state.loadingMsg = msg; root.shadowRoot.appendChild(msg); root.state.chain = new Promise((resolve, reject) => { const observer = new IntersectionObserver((entries) => { for (const entry of entries) { if (entry.isIntersecting) { resolve(); observer.disconnect(); return; } } }, {rootMargin: \"1000px\"}); window.setTimeout(() => { observer.observe(root); }, 0); }); root.state.deferring = false; const _insertNode = (node) => { for (let oldScript of node.querySelectorAll(\"script\")) { let newScript = document.createElement(\"script\"); newScript.type = oldScript.type; newScript.textContent = oldScript.textContent; oldScript.parentNode.replaceChild(newScript, oldScript); } if (root.state.loadingMsg) { root.state.loadingMsg.remove(); root.state.loadingMsg = null; } root.shadowRoot.appendChild(node); }; root.defns.insertContent = ((contentNode, compressed) => { if (compressed) { root.state.deferring = true; } if (root.state.deferring) { root.state.chain = (async () => { await root.state.chain; if (compressed) { const encoded = contentNode.textContent; const blob = new Blob([ Uint8Array.from(atob(encoded), (m) => m.codePointAt(0)) ]); const reader = blob.stream().pipeThrough( new DecompressionStream(\"deflate\") ).pipeThrough( new TextDecoderStream(\"utf-8\") ).getReader(); const parts = []; while (true) { const step = await reader.read(); if (step.done) { break; } parts.push(step.value); } const tpl = document.createElement('template'); tpl.innerHTML = parts.join(\"\"); _insertNode(tpl.content); } else { _insertNode(contentNode.content); } })(); } else { _insertNode(contentNode.content); } }); </script></treescope-run-here><div style=\"display:none\"> <script type=\"application/octet-stream\" >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</script> <treescope-run-here><script type=\"application/octet-stream\"> const root = ( Array.from(document.getElementsByClassName( \"treescope_out_b57ad574ffb74686aee5e2225b1bac70\")) .filter((elt) => !elt.dataset['step0']) )[0]; root.dataset['step0'] = 1; root.defns.insertContent( this.parentNode.querySelector('script[type=\"application/octet-stream\"]'), true ); this.parentNode.remove(); </script></treescope-run-here> </div>"
            ],
            "text/plain": [
              "<IPython.core.display.HTML object>"
            ]
          },
          "metadata": {}
        },
        {
          "output_type": "display_data",
          "data": {
            "text/html": [
              "<div style=\"display:none\"> <script type=\"application/octet-stream\" >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</script> <treescope-run-here><script type=\"application/octet-stream\"> const root = ( Array.from(document.getElementsByClassName( \"treescope_out_b57ad574ffb74686aee5e2225b1bac70\")) .filter((elt) => !elt.dataset['step1']) )[0]; root.dataset['step1'] = 1; root.defns.insertContent( this.parentNode.querySelector('script[type=\"application/octet-stream\"]'), true ); this.parentNode.remove(); </script></treescope-run-here> </div>"
            ],
            "text/plain": [
              "<IPython.core.display.HTML object>"
            ]
          },
          "metadata": {}
        },
        {
          "output_type": "execute_result",
          "data": {
            "text/html": [
              "<treescope-run-here><script type=\"application/octet-stream\"> const root = ( Array.from(document.getElementsByClassName( \"treescope_out_b57ad574ffb74686aee5e2225b1bac70\")) .filter((elt) => !elt.dataset.stolen) )[0]; root.dataset.stolen = 1; const temp = document.createElement(\"div\"); temp.style = \"height: 1px; width: 1px;\"; root.parentNode.insertBefore(temp, root); this.parentNode.replaceChild(root, this); temp.remove(); root.style.paddingTop = \"1px\"; </script></treescope-run-here>"
            ],
            "text/plain": [
              "<NamedArray float32(| m:2) ≈3.0 ±0.0 [≥3.0, ≤3.0] nonzero:2 (wrapping jax.Array)\n",
              "  <Arrayviz rendering>\n",
              "| Device: GPU 0>"
            ]
          },
          "metadata": {},
          "execution_count": 30
        }
      ]
    },
    {
      "cell_type": "code",
      "source": [
        "# Because the named axes are all the different, we sum these values in these arrays entry-wise\n",
        "# over the Cartesian product of their indices\n",
        "wrap(np.ones(2)).tag(\"m\") + wrap(np.ones(3)).tag(\"n\") + wrap(np.ones(4)).tag(\"k\")"
      ],
      "metadata": {
        "id": "wuQ2O8fsH9Dn",
        "colab": {
          "base_uri": "https://localhost:8080/"
        },
        "outputId": "e2ae6a80-629b-4b91-bd74-330b6364a50f"
      },
      "execution_count": null,
      "outputs": [
        {
          "output_type": "display_data",
          "data": {
            "text/html": [
              "<script> (()=>{ if (customElements.get('treescope-container') === undefined) { class TreescopeContainer extends HTMLElement { constructor() { super(); this.attachShadow({mode: \"open\"}); this.defns = {}; this.state = {}; } } customElements.define(\"treescope-container\", TreescopeContainer); } if (customElements.get('treescope-run-here') === undefined) { class RunHere extends HTMLElement { constructor() { super() } connectedCallback() { const run = child => { const fn = new Function(child.textContent); child.textContent = \"\"; fn.call(this); this.remove(); }; const child = this.querySelector(\"script\"); if (child) { run(child); } else { new MutationObserver(()=>{ run(this.querySelector(\"script\")); }).observe(this, {childList: true}); } } } customElements.define(\"treescope-run-here\", RunHere); } })(); </script> <treescope-container class=\"treescope_out_81dceeed1bc74466af248084074b8039\" style=\"display:block\"></treescope-container> <treescope-run-here><script type=\"application/octet-stream\"> const root = ( Array.from(document.getElementsByClassName( \"treescope_out_81dceeed1bc74466af248084074b8039\")) .filter((elt) => !elt.dataset.setup) )[0]; root.dataset.setup = 1; const msg = document.createElement(\"span\"); msg.style = \"color: #cccccc; font-family: monospace;\"; msg.textContent = \"(Loading...)\"; root.state.loadingMsg = msg; root.shadowRoot.appendChild(msg); root.state.chain = new Promise((resolve, reject) => { const observer = new IntersectionObserver((entries) => { for (const entry of entries) { if (entry.isIntersecting) { resolve(); observer.disconnect(); return; } } }, {rootMargin: \"1000px\"}); window.setTimeout(() => { observer.observe(root); }, 0); }); root.state.deferring = false; const _insertNode = (node) => { for (let oldScript of node.querySelectorAll(\"script\")) { let newScript = document.createElement(\"script\"); newScript.type = oldScript.type; newScript.textContent = oldScript.textContent; oldScript.parentNode.replaceChild(newScript, oldScript); } if (root.state.loadingMsg) { root.state.loadingMsg.remove(); root.state.loadingMsg = null; } root.shadowRoot.appendChild(node); }; root.defns.insertContent = ((contentNode, compressed) => { if (compressed) { root.state.deferring = true; } if (root.state.deferring) { root.state.chain = (async () => { await root.state.chain; if (compressed) { const encoded = contentNode.textContent; const blob = new Blob([ Uint8Array.from(atob(encoded), (m) => m.codePointAt(0)) ]); const reader = blob.stream().pipeThrough( new DecompressionStream(\"deflate\") ).pipeThrough( new TextDecoderStream(\"utf-8\") ).getReader(); const parts = []; while (true) { const step = await reader.read(); if (step.done) { break; } parts.push(step.value); } const tpl = document.createElement('template'); tpl.innerHTML = parts.join(\"\"); _insertNode(tpl.content); } else { _insertNode(contentNode.content); } })(); } else { _insertNode(contentNode.content); } }); </script></treescope-run-here><div style=\"display:none\"> <script type=\"application/octet-stream\" >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</script> <treescope-run-here><script type=\"application/octet-stream\"> const root = ( Array.from(document.getElementsByClassName( \"treescope_out_81dceeed1bc74466af248084074b8039\")) .filter((elt) => !elt.dataset['step0']) )[0]; root.dataset['step0'] = 1; root.defns.insertContent( this.parentNode.querySelector('script[type=\"application/octet-stream\"]'), true ); this.parentNode.remove(); </script></treescope-run-here> </div>"
            ],
            "text/plain": [
              "<IPython.core.display.HTML object>"
            ]
          },
          "metadata": {}
        },
        {
          "output_type": "display_data",
          "data": {
            "text/html": [
              "<div style=\"display:none\"> <script type=\"application/octet-stream\" >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</script> <treescope-run-here><script type=\"application/octet-stream\"> const root = ( Array.from(document.getElementsByClassName( \"treescope_out_81dceeed1bc74466af248084074b8039\")) .filter((elt) => !elt.dataset['step1']) )[0]; root.dataset['step1'] = 1; root.defns.insertContent( this.parentNode.querySelector('script[type=\"application/octet-stream\"]'), true ); this.parentNode.remove(); </script></treescope-run-here> </div>"
            ],
            "text/plain": [
              "<IPython.core.display.HTML object>"
            ]
          },
          "metadata": {}
        },
        {
          "output_type": "execute_result",
          "data": {
            "text/html": [
              "<treescope-run-here><script type=\"application/octet-stream\"> const root = ( Array.from(document.getElementsByClassName( \"treescope_out_81dceeed1bc74466af248084074b8039\")) .filter((elt) => !elt.dataset.stolen) )[0]; root.dataset.stolen = 1; const temp = document.createElement(\"div\"); temp.style = \"height: 1px; width: 1px;\"; root.parentNode.insertBefore(temp, root); this.parentNode.replaceChild(root, this); temp.remove(); root.style.paddingTop = \"1px\"; </script></treescope-run-here>"
            ],
            "text/plain": [
              "<NamedArray float32(| m:2, n:3, k:4) ≈3.0 ±0.0 [≥3.0, ≤3.0] nonzero:24 (wrapping jax.Array)\n",
              "  <Arrayviz rendering>\n",
              "| Device: GPU 0>"
            ]
          },
          "metadata": {},
          "execution_count": 31
        }
      ]
    },
    {
      "cell_type": "markdown",
      "source": [
        "### Indexing\n",
        "\n",
        "Penzai NamedArray has a very convenient indexing system."
      ],
      "metadata": {
        "id": "1Lh_LaDu9Kde"
      }
    },
    {
      "cell_type": "code",
      "source": [
        "array = np.arange(8).reshape(2, 4)\n",
        "named_array = wrap(array).tag(\"n\", \"m\")\n",
        "named_array"
      ],
      "metadata": {
        "colab": {
          "base_uri": "https://localhost:8080/"
        },
        "id": "ntaR1xlG9dXM",
        "outputId": "406f5611-ca47-4a6f-f572-7a361e90ccef"
      },
      "execution_count": null,
      "outputs": [
        {
          "output_type": "display_data",
          "data": {
            "text/html": [
              "<script> (()=>{ if (customElements.get('treescope-container') === undefined) { class TreescopeContainer extends HTMLElement { constructor() { super(); this.attachShadow({mode: \"open\"}); this.defns = {}; this.state = {}; } } customElements.define(\"treescope-container\", TreescopeContainer); } if (customElements.get('treescope-run-here') === undefined) { class RunHere extends HTMLElement { constructor() { super() } connectedCallback() { const run = child => { const fn = new Function(child.textContent); child.textContent = \"\"; fn.call(this); this.remove(); }; const child = this.querySelector(\"script\"); if (child) { run(child); } else { new MutationObserver(()=>{ run(this.querySelector(\"script\")); }).observe(this, {childList: true}); } } } customElements.define(\"treescope-run-here\", RunHere); } })(); </script> <treescope-container class=\"treescope_out_1dc14b6d6893416bac63eb48087b6e87\" style=\"display:block\"></treescope-container> <treescope-run-here><script type=\"application/octet-stream\"> const root = ( Array.from(document.getElementsByClassName( \"treescope_out_1dc14b6d6893416bac63eb48087b6e87\")) .filter((elt) => !elt.dataset.setup) )[0]; root.dataset.setup = 1; const msg = document.createElement(\"span\"); msg.style = \"color: #cccccc; font-family: monospace;\"; msg.textContent = \"(Loading...)\"; root.state.loadingMsg = msg; root.shadowRoot.appendChild(msg); root.state.chain = new Promise((resolve, reject) => { const observer = new IntersectionObserver((entries) => { for (const entry of entries) { if (entry.isIntersecting) { resolve(); observer.disconnect(); return; } } }, {rootMargin: \"1000px\"}); window.setTimeout(() => { observer.observe(root); }, 0); }); root.state.deferring = false; const _insertNode = (node) => { for (let oldScript of node.querySelectorAll(\"script\")) { let newScript = document.createElement(\"script\"); newScript.type = oldScript.type; newScript.textContent = oldScript.textContent; oldScript.parentNode.replaceChild(newScript, oldScript); } if (root.state.loadingMsg) { root.state.loadingMsg.remove(); root.state.loadingMsg = null; } root.shadowRoot.appendChild(node); }; root.defns.insertContent = ((contentNode, compressed) => { if (compressed) { root.state.deferring = true; } if (root.state.deferring) { root.state.chain = (async () => { await root.state.chain; if (compressed) { const encoded = contentNode.textContent; const blob = new Blob([ Uint8Array.from(atob(encoded), (m) => m.codePointAt(0)) ]); const reader = blob.stream().pipeThrough( new DecompressionStream(\"deflate\") ).pipeThrough( new TextDecoderStream(\"utf-8\") ).getReader(); const parts = []; while (true) { const step = await reader.read(); if (step.done) { break; } parts.push(step.value); } const tpl = document.createElement('template'); tpl.innerHTML = parts.join(\"\"); _insertNode(tpl.content); } else { _insertNode(contentNode.content); } })(); } else { _insertNode(contentNode.content); } }); </script></treescope-run-here><div style=\"display:none\"> <script type=\"application/octet-stream\" >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</script> <treescope-run-here><script type=\"application/octet-stream\"> const root = ( Array.from(document.getElementsByClassName( \"treescope_out_1dc14b6d6893416bac63eb48087b6e87\")) .filter((elt) => !elt.dataset['step0']) )[0]; root.dataset['step0'] = 1; root.defns.insertContent( this.parentNode.querySelector('script[type=\"application/octet-stream\"]'), true ); this.parentNode.remove(); </script></treescope-run-here> </div>"
            ],
            "text/plain": [
              "<IPython.core.display.HTML object>"
            ]
          },
          "metadata": {}
        },
        {
          "output_type": "display_data",
          "data": {
            "text/html": [
              "<div style=\"display:none\"> <script type=\"application/octet-stream\" >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</script> <treescope-run-here><script type=\"application/octet-stream\"> const root = ( Array.from(document.getElementsByClassName( \"treescope_out_1dc14b6d6893416bac63eb48087b6e87\")) .filter((elt) => !elt.dataset['step1']) )[0]; root.dataset['step1'] = 1; root.defns.insertContent( this.parentNode.querySelector('script[type=\"application/octet-stream\"]'), true ); this.parentNode.remove(); </script></treescope-run-here> </div>"
            ],
            "text/plain": [
              "<IPython.core.display.HTML object>"
            ]
          },
          "metadata": {}
        },
        {
          "output_type": "execute_result",
          "data": {
            "text/html": [
              "<treescope-run-here><script type=\"application/octet-stream\"> const root = ( Array.from(document.getElementsByClassName( \"treescope_out_1dc14b6d6893416bac63eb48087b6e87\")) .filter((elt) => !elt.dataset.stolen) )[0]; root.dataset.stolen = 1; const temp = document.createElement(\"div\"); temp.style = \"height: 1px; width: 1px;\"; root.parentNode.insertBefore(temp, root); this.parentNode.replaceChild(root, this); temp.remove(); root.style.paddingTop = \"1px\"; </script></treescope-run-here>"
            ],
            "text/plain": [
              "<NamedArray int32(| n:2, m:4) [≥0, ≤7] zero:1 nonzero:7 (wrapping jax.Array)\n",
              "  <Arrayviz rendering>\n",
              "| Device: GPU 0>"
            ]
          },
          "metadata": {},
          "execution_count": 32
        }
      ]
    },
    {
      "cell_type": "markdown",
      "source": [
        "Indexing is done by specifying the axes and indices that you want through a dictionary."
      ],
      "metadata": {
        "id": "aFbtlZcp9wTH"
      }
    },
    {
      "cell_type": "code",
      "source": [
        "named_array[{\"m\" : 1, \"n\" : 0}]"
      ],
      "metadata": {
        "colab": {
          "base_uri": "https://localhost:8080/"
        },
        "id": "b4wIXbhT9r0u",
        "outputId": "fbcae45c-8ad1-442b-9e17-bce777a93e4d"
      },
      "execution_count": null,
      "outputs": [
        {
          "output_type": "display_data",
          "data": {
            "text/html": [
              "<script> (()=>{ if (customElements.get('treescope-container') === undefined) { class TreescopeContainer extends HTMLElement { constructor() { super(); this.attachShadow({mode: \"open\"}); this.defns = {}; this.state = {}; } } customElements.define(\"treescope-container\", TreescopeContainer); } if (customElements.get('treescope-run-here') === undefined) { class RunHere extends HTMLElement { constructor() { super() } connectedCallback() { const run = child => { const fn = new Function(child.textContent); child.textContent = \"\"; fn.call(this); this.remove(); }; const child = this.querySelector(\"script\"); if (child) { run(child); } else { new MutationObserver(()=>{ run(this.querySelector(\"script\")); }).observe(this, {childList: true}); } } } customElements.define(\"treescope-run-here\", RunHere); } })(); </script> <treescope-container class=\"treescope_out_17dad41b3dce4455aaf74000cf343888\" style=\"display:block\"></treescope-container> <treescope-run-here><script type=\"application/octet-stream\"> const root = ( Array.from(document.getElementsByClassName( \"treescope_out_17dad41b3dce4455aaf74000cf343888\")) .filter((elt) => !elt.dataset.setup) )[0]; root.dataset.setup = 1; const msg = document.createElement(\"span\"); msg.style = \"color: #cccccc; font-family: monospace;\"; msg.textContent = \"(Loading...)\"; root.state.loadingMsg = msg; root.shadowRoot.appendChild(msg); root.state.chain = new Promise((resolve, reject) => { const observer = new IntersectionObserver((entries) => { for (const entry of entries) { if (entry.isIntersecting) { resolve(); observer.disconnect(); return; } } }, {rootMargin: \"1000px\"}); window.setTimeout(() => { observer.observe(root); }, 0); }); root.state.deferring = false; const _insertNode = (node) => { for (let oldScript of node.querySelectorAll(\"script\")) { let newScript = document.createElement(\"script\"); newScript.type = oldScript.type; newScript.textContent = oldScript.textContent; oldScript.parentNode.replaceChild(newScript, oldScript); } if (root.state.loadingMsg) { root.state.loadingMsg.remove(); root.state.loadingMsg = null; } root.shadowRoot.appendChild(node); }; root.defns.insertContent = ((contentNode, compressed) => { if (compressed) { root.state.deferring = true; } if (root.state.deferring) { root.state.chain = (async () => { await root.state.chain; if (compressed) { const encoded = contentNode.textContent; const blob = new Blob([ Uint8Array.from(atob(encoded), (m) => m.codePointAt(0)) ]); const reader = blob.stream().pipeThrough( new DecompressionStream(\"deflate\") ).pipeThrough( new TextDecoderStream(\"utf-8\") ).getReader(); const parts = []; while (true) { const step = await reader.read(); if (step.done) { break; } parts.push(step.value); } const tpl = document.createElement('template'); tpl.innerHTML = parts.join(\"\"); _insertNode(tpl.content); } else { _insertNode(contentNode.content); } })(); } else { _insertNode(contentNode.content); } }); </script></treescope-run-here><div style=\"display:none\"> <script type=\"application/octet-stream\" >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</script> <treescope-run-here><script type=\"application/octet-stream\"> const root = ( Array.from(document.getElementsByClassName( \"treescope_out_17dad41b3dce4455aaf74000cf343888\")) .filter((elt) => !elt.dataset['step0']) )[0]; root.dataset['step0'] = 1; root.defns.insertContent( this.parentNode.querySelector('script[type=\"application/octet-stream\"]'), true ); this.parentNode.remove(); </script></treescope-run-here> </div>"
            ],
            "text/plain": [
              "<IPython.core.display.HTML object>"
            ]
          },
          "metadata": {}
        },
        {
          "output_type": "display_data",
          "data": {
            "text/html": [
              "<div style=\"display:none\"> <script type=\"application/octet-stream\" >eNqVVE1v2zAM/SuCChQO0rqp89Fk+QC2dgN66WE77FAUhizRiQZFciU5TTrsv49yEgdpHay72KZIPr5HUp4IuSLObxRMqZCuUGzziWijgRIppjQ3NhWQg7Ug0gEfdfoJcJ70st4o4RljnaTH+HA07A1EP6eziSuY3j4JV8y5KeVGIQbLMgsrOjtXfvyLrePP1rJNdH1BhN8UMJXad5PW+dyPJ1dbiP0L6c0m/8Gx202yLL9hoywRvaw/GHI26t7kN/1EXCfQh0aOLwvQKRJVrHCIwbRItfGpNaUW3sqC/kvSA1uCqDSRRmUkerGsKKSek1p9k9x3pGCNJwI5YcFTdKrAU87nkimN7NLCQi7XdFaAfmUy5sZCHBwodw0uPiZy0BOd5tTYFW6WS9Cezgg5a+7F2wk3zNtbAMdNAZe21JcLsIClOIrzpAKi2EslOfPS6CvDPfhLhzlsSWfcaIdRzM7B3wtHpuSRfnyBLwj9+CY9jbfFhOHWGI+l/EK6GAt/R/PBCIhaY7IjhIp2Qbvw+LkEu/kBCrg3NqJxLToNbvou9VbhxociOzvm4aAq420JGF97LOAd4fBT+kV0lF6D5pbNw5y2fMrwGXPsoIe7nfltFxE07KNj7DtocbuQStTAwW8siRR4IhGvM8bX5DCCWIGe+wWettst8puEuK0Tg2tkNL8qCJ9fNvcIvs9+lE9YIOQ4U1oOd/grONnDs/AroKRN3qRvzaO21GhxLq3b166UYcLBa2FpVtUg/xxPorHJrXChq0XFVW7Y4r8KqOnn</script> <treescope-run-here><script type=\"application/octet-stream\"> const root = ( Array.from(document.getElementsByClassName( \"treescope_out_17dad41b3dce4455aaf74000cf343888\")) .filter((elt) => !elt.dataset['step1']) )[0]; root.dataset['step1'] = 1; root.defns.insertContent( this.parentNode.querySelector('script[type=\"application/octet-stream\"]'), true ); this.parentNode.remove(); </script></treescope-run-here> </div>"
            ],
            "text/plain": [
              "<IPython.core.display.HTML object>"
            ]
          },
          "metadata": {}
        },
        {
          "output_type": "execute_result",
          "data": {
            "text/html": [
              "<treescope-run-here><script type=\"application/octet-stream\"> const root = ( Array.from(document.getElementsByClassName( \"treescope_out_17dad41b3dce4455aaf74000cf343888\")) .filter((elt) => !elt.dataset.stolen) )[0]; root.dataset.stolen = 1; const temp = document.createElement(\"div\"); temp.style = \"height: 1px; width: 1px;\"; root.parentNode.insertBefore(temp, root); this.parentNode.replaceChild(root, this); temp.remove(); root.style.paddingTop = \"1px\"; </script></treescope-run-here>"
            ],
            "text/plain": [
              "<NamedArray Array(1, dtype=int32) (wrapping jax.Array)>"
            ]
          },
          "metadata": {},
          "execution_count": 33
        }
      ]
    },
    {
      "cell_type": "code",
      "source": [
        "# Penzai provides a slice synatx.\n",
        "named_array[{\"m\" : pz.slice[1:3], \"n\" : 0}]"
      ],
      "metadata": {
        "colab": {
          "base_uri": "https://localhost:8080/"
        },
        "id": "eb7h6DtP99Og",
        "outputId": "c0f9fb89-7032-4fac-8977-6f2f401aebaa"
      },
      "execution_count": null,
      "outputs": [
        {
          "output_type": "display_data",
          "data": {
            "text/html": [
              "<script> (()=>{ if (customElements.get('treescope-container') === undefined) { class TreescopeContainer extends HTMLElement { constructor() { super(); this.attachShadow({mode: \"open\"}); this.defns = {}; this.state = {}; } } customElements.define(\"treescope-container\", TreescopeContainer); } if (customElements.get('treescope-run-here') === undefined) { class RunHere extends HTMLElement { constructor() { super() } connectedCallback() { const run = child => { const fn = new Function(child.textContent); child.textContent = \"\"; fn.call(this); this.remove(); }; const child = this.querySelector(\"script\"); if (child) { run(child); } else { new MutationObserver(()=>{ run(this.querySelector(\"script\")); }).observe(this, {childList: true}); } } } customElements.define(\"treescope-run-here\", RunHere); } })(); </script> <treescope-container class=\"treescope_out_1b0fe05f2dc24e60b0ca4b345a9abde1\" style=\"display:block\"></treescope-container> <treescope-run-here><script type=\"application/octet-stream\"> const root = ( Array.from(document.getElementsByClassName( \"treescope_out_1b0fe05f2dc24e60b0ca4b345a9abde1\")) .filter((elt) => !elt.dataset.setup) )[0]; root.dataset.setup = 1; const msg = document.createElement(\"span\"); msg.style = \"color: #cccccc; font-family: monospace;\"; msg.textContent = \"(Loading...)\"; root.state.loadingMsg = msg; root.shadowRoot.appendChild(msg); root.state.chain = new Promise((resolve, reject) => { const observer = new IntersectionObserver((entries) => { for (const entry of entries) { if (entry.isIntersecting) { resolve(); observer.disconnect(); return; } } }, {rootMargin: \"1000px\"}); window.setTimeout(() => { observer.observe(root); }, 0); }); root.state.deferring = false; const _insertNode = (node) => { for (let oldScript of node.querySelectorAll(\"script\")) { let newScript = document.createElement(\"script\"); newScript.type = oldScript.type; newScript.textContent = oldScript.textContent; oldScript.parentNode.replaceChild(newScript, oldScript); } if (root.state.loadingMsg) { root.state.loadingMsg.remove(); root.state.loadingMsg = null; } root.shadowRoot.appendChild(node); }; root.defns.insertContent = ((contentNode, compressed) => { if (compressed) { root.state.deferring = true; } if (root.state.deferring) { root.state.chain = (async () => { await root.state.chain; if (compressed) { const encoded = contentNode.textContent; const blob = new Blob([ Uint8Array.from(atob(encoded), (m) => m.codePointAt(0)) ]); const reader = blob.stream().pipeThrough( new DecompressionStream(\"deflate\") ).pipeThrough( new TextDecoderStream(\"utf-8\") ).getReader(); const parts = []; while (true) { const step = await reader.read(); if (step.done) { break; } parts.push(step.value); } const tpl = document.createElement('template'); tpl.innerHTML = parts.join(\"\"); _insertNode(tpl.content); } else { _insertNode(contentNode.content); } })(); } else { _insertNode(contentNode.content); } }); </script></treescope-run-here><div style=\"display:none\"> <script type=\"application/octet-stream\" >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</script> <treescope-run-here><script type=\"application/octet-stream\"> const root = ( Array.from(document.getElementsByClassName( \"treescope_out_1b0fe05f2dc24e60b0ca4b345a9abde1\")) .filter((elt) => !elt.dataset['step0']) )[0]; root.dataset['step0'] = 1; root.defns.insertContent( this.parentNode.querySelector('script[type=\"application/octet-stream\"]'), true ); this.parentNode.remove(); </script></treescope-run-here> </div>"
            ],
            "text/plain": [
              "<IPython.core.display.HTML object>"
            ]
          },
          "metadata": {}
        },
        {
          "output_type": "display_data",
          "data": {
            "text/html": [
              "<div style=\"display:none\"> <script type=\"application/octet-stream\" >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</script> <treescope-run-here><script type=\"application/octet-stream\"> const root = ( Array.from(document.getElementsByClassName( \"treescope_out_1b0fe05f2dc24e60b0ca4b345a9abde1\")) .filter((elt) => !elt.dataset['step1']) )[0]; root.dataset['step1'] = 1; root.defns.insertContent( this.parentNode.querySelector('script[type=\"application/octet-stream\"]'), true ); this.parentNode.remove(); </script></treescope-run-here> </div>"
            ],
            "text/plain": [
              "<IPython.core.display.HTML object>"
            ]
          },
          "metadata": {}
        },
        {
          "output_type": "execute_result",
          "data": {
            "text/html": [
              "<treescope-run-here><script type=\"application/octet-stream\"> const root = ( Array.from(document.getElementsByClassName( \"treescope_out_1b0fe05f2dc24e60b0ca4b345a9abde1\")) .filter((elt) => !elt.dataset.stolen) )[0]; root.dataset.stolen = 1; const temp = document.createElement(\"div\"); temp.style = \"height: 1px; width: 1px;\"; root.parentNode.insertBefore(temp, root); this.parentNode.replaceChild(root, this); temp.remove(); root.style.paddingTop = \"1px\"; </script></treescope-run-here>"
            ],
            "text/plain": [
              "<NamedArray int32(| m:2) [≥1, ≤2] nonzero:2 (wrapping jax.Array)\n",
              "  <Arrayviz rendering>\n",
              "| Device: GPU 0>"
            ]
          },
          "metadata": {},
          "execution_count": 34
        }
      ]
    },
    {
      "cell_type": "code",
      "source": [
        "# As well as advanced indexing\n",
        "named_array[{\"m\" : np.array([0,1,0,2,2,1], dtype=int), \"n\" : 0}]"
      ],
      "metadata": {
        "colab": {
          "base_uri": "https://localhost:8080/"
        },
        "id": "ok058NZN-HGD",
        "outputId": "59b015af-25f8-49ea-de14-9b295724a20c"
      },
      "execution_count": null,
      "outputs": [
        {
          "output_type": "display_data",
          "data": {
            "text/html": [
              "<script> (()=>{ if (customElements.get('treescope-container') === undefined) { class TreescopeContainer extends HTMLElement { constructor() { super(); this.attachShadow({mode: \"open\"}); this.defns = {}; this.state = {}; } } customElements.define(\"treescope-container\", TreescopeContainer); } if (customElements.get('treescope-run-here') === undefined) { class RunHere extends HTMLElement { constructor() { super() } connectedCallback() { const run = child => { const fn = new Function(child.textContent); child.textContent = \"\"; fn.call(this); this.remove(); }; const child = this.querySelector(\"script\"); if (child) { run(child); } else { new MutationObserver(()=>{ run(this.querySelector(\"script\")); }).observe(this, {childList: true}); } } } customElements.define(\"treescope-run-here\", RunHere); } })(); </script> <treescope-container class=\"treescope_out_6f57947882874a4b9d148bc94635ffd7\" style=\"display:block\"></treescope-container> <treescope-run-here><script type=\"application/octet-stream\"> const root = ( Array.from(document.getElementsByClassName( \"treescope_out_6f57947882874a4b9d148bc94635ffd7\")) .filter((elt) => !elt.dataset.setup) )[0]; root.dataset.setup = 1; const msg = document.createElement(\"span\"); msg.style = \"color: #cccccc; font-family: monospace;\"; msg.textContent = \"(Loading...)\"; root.state.loadingMsg = msg; root.shadowRoot.appendChild(msg); root.state.chain = new Promise((resolve, reject) => { const observer = new IntersectionObserver((entries) => { for (const entry of entries) { if (entry.isIntersecting) { resolve(); observer.disconnect(); return; } } }, {rootMargin: \"1000px\"}); window.setTimeout(() => { observer.observe(root); }, 0); }); root.state.deferring = false; const _insertNode = (node) => { for (let oldScript of node.querySelectorAll(\"script\")) { let newScript = document.createElement(\"script\"); newScript.type = oldScript.type; newScript.textContent = oldScript.textContent; oldScript.parentNode.replaceChild(newScript, oldScript); } if (root.state.loadingMsg) { root.state.loadingMsg.remove(); root.state.loadingMsg = null; } root.shadowRoot.appendChild(node); }; root.defns.insertContent = ((contentNode, compressed) => { if (compressed) { root.state.deferring = true; } if (root.state.deferring) { root.state.chain = (async () => { await root.state.chain; if (compressed) { const encoded = contentNode.textContent; const blob = new Blob([ Uint8Array.from(atob(encoded), (m) => m.codePointAt(0)) ]); const reader = blob.stream().pipeThrough( new DecompressionStream(\"deflate\") ).pipeThrough( new TextDecoderStream(\"utf-8\") ).getReader(); const parts = []; while (true) { const step = await reader.read(); if (step.done) { break; } parts.push(step.value); } const tpl = document.createElement('template'); tpl.innerHTML = parts.join(\"\"); _insertNode(tpl.content); } else { _insertNode(contentNode.content); } })(); } else { _insertNode(contentNode.content); } }); </script></treescope-run-here><div style=\"display:none\"> <script type=\"application/octet-stream\" >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</script> <treescope-run-here><script type=\"application/octet-stream\"> const root = ( Array.from(document.getElementsByClassName( \"treescope_out_6f57947882874a4b9d148bc94635ffd7\")) .filter((elt) => !elt.dataset['step0']) )[0]; root.dataset['step0'] = 1; root.defns.insertContent( this.parentNode.querySelector('script[type=\"application/octet-stream\"]'), true ); this.parentNode.remove(); </script></treescope-run-here> </div>"
            ],
            "text/plain": [
              "<IPython.core.display.HTML object>"
            ]
          },
          "metadata": {}
        },
        {
          "output_type": "display_data",
          "data": {
            "text/html": [
              "<div style=\"display:none\"> <script type=\"application/octet-stream\" >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</script> <treescope-run-here><script type=\"application/octet-stream\"> const root = ( Array.from(document.getElementsByClassName( \"treescope_out_6f57947882874a4b9d148bc94635ffd7\")) .filter((elt) => !elt.dataset['step1']) )[0]; root.dataset['step1'] = 1; root.defns.insertContent( this.parentNode.querySelector('script[type=\"application/octet-stream\"]'), true ); this.parentNode.remove(); </script></treescope-run-here> </div>"
            ],
            "text/plain": [
              "<IPython.core.display.HTML object>"
            ]
          },
          "metadata": {}
        },
        {
          "output_type": "execute_result",
          "data": {
            "text/html": [
              "<treescope-run-here><script type=\"application/octet-stream\"> const root = ( Array.from(document.getElementsByClassName( \"treescope_out_6f57947882874a4b9d148bc94635ffd7\")) .filter((elt) => !elt.dataset.stolen) )[0]; root.dataset.stolen = 1; const temp = document.createElement(\"div\"); temp.style = \"height: 1px; width: 1px;\"; root.parentNode.insertBefore(temp, root); this.parentNode.replaceChild(root, this); temp.remove(); root.style.paddingTop = \"1px\"; </script></treescope-run-here>"
            ],
            "text/plain": [
              "<NamedArrayView int32(6 |) [≥0, ≤2] zero:2 nonzero:4 (wrapping jax.Array)\n",
              "  <Arrayviz rendering>\n",
              "| Device: GPU 0>"
            ]
          },
          "metadata": {},
          "execution_count": 35
        }
      ]
    },
    {
      "cell_type": "code",
      "source": [
        "indices = wrap(np.array([[0,1,0,2,2,1],\n",
        "                          [0,1,0,0,0,0]], dtype=int), \"foo\", \"bar\")\n",
        "# for every index i of indices, this takes the ith element of array along axis \"m\"\n",
        "named_array[{\"m\" : indices}]\n",
        "# those elements have shape {\"n\" : 2}\n",
        "# so the final shape is {\"n\" : 2, \"foo\" : 2, \"bar\" : 6}"
      ],
      "metadata": {
        "colab": {
          "base_uri": "https://localhost:8080/"
        },
        "id": "ph-ENqer-YWD",
        "outputId": "2145a98a-b558-422e-d518-77b0cebdbc84"
      },
      "execution_count": null,
      "outputs": [
        {
          "output_type": "display_data",
          "data": {
            "text/html": [
              "<script> (()=>{ if (customElements.get('treescope-container') === undefined) { class TreescopeContainer extends HTMLElement { constructor() { super(); this.attachShadow({mode: \"open\"}); this.defns = {}; this.state = {}; } } customElements.define(\"treescope-container\", TreescopeContainer); } if (customElements.get('treescope-run-here') === undefined) { class RunHere extends HTMLElement { constructor() { super() } connectedCallback() { const run = child => { const fn = new Function(child.textContent); child.textContent = \"\"; fn.call(this); this.remove(); }; const child = this.querySelector(\"script\"); if (child) { run(child); } else { new MutationObserver(()=>{ run(this.querySelector(\"script\")); }).observe(this, {childList: true}); } } } customElements.define(\"treescope-run-here\", RunHere); } })(); </script> <treescope-container class=\"treescope_out_ae2a36c553b94090aed965558e794e2c\" style=\"display:block\"></treescope-container> <treescope-run-here><script type=\"application/octet-stream\"> const root = ( Array.from(document.getElementsByClassName( \"treescope_out_ae2a36c553b94090aed965558e794e2c\")) .filter((elt) => !elt.dataset.setup) )[0]; root.dataset.setup = 1; const msg = document.createElement(\"span\"); msg.style = \"color: #cccccc; font-family: monospace;\"; msg.textContent = \"(Loading...)\"; root.state.loadingMsg = msg; root.shadowRoot.appendChild(msg); root.state.chain = new Promise((resolve, reject) => { const observer = new IntersectionObserver((entries) => { for (const entry of entries) { if (entry.isIntersecting) { resolve(); observer.disconnect(); return; } } }, {rootMargin: \"1000px\"}); window.setTimeout(() => { observer.observe(root); }, 0); }); root.state.deferring = false; const _insertNode = (node) => { for (let oldScript of node.querySelectorAll(\"script\")) { let newScript = document.createElement(\"script\"); newScript.type = oldScript.type; newScript.textContent = oldScript.textContent; oldScript.parentNode.replaceChild(newScript, oldScript); } if (root.state.loadingMsg) { root.state.loadingMsg.remove(); root.state.loadingMsg = null; } root.shadowRoot.appendChild(node); }; root.defns.insertContent = ((contentNode, compressed) => { if (compressed) { root.state.deferring = true; } if (root.state.deferring) { root.state.chain = (async () => { await root.state.chain; if (compressed) { const encoded = contentNode.textContent; const blob = new Blob([ Uint8Array.from(atob(encoded), (m) => m.codePointAt(0)) ]); const reader = blob.stream().pipeThrough( new DecompressionStream(\"deflate\") ).pipeThrough( new TextDecoderStream(\"utf-8\") ).getReader(); const parts = []; while (true) { const step = await reader.read(); if (step.done) { break; } parts.push(step.value); } const tpl = document.createElement('template'); tpl.innerHTML = parts.join(\"\"); _insertNode(tpl.content); } else { _insertNode(contentNode.content); } })(); } else { _insertNode(contentNode.content); } }); </script></treescope-run-here><div style=\"display:none\"> <script type=\"application/octet-stream\" >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</script> <treescope-run-here><script type=\"application/octet-stream\"> const root = ( Array.from(document.getElementsByClassName( \"treescope_out_ae2a36c553b94090aed965558e794e2c\")) .filter((elt) => !elt.dataset['step0']) )[0]; root.dataset['step0'] = 1; root.defns.insertContent( this.parentNode.querySelector('script[type=\"application/octet-stream\"]'), true ); this.parentNode.remove(); </script></treescope-run-here> </div>"
            ],
            "text/plain": [
              "<IPython.core.display.HTML object>"
            ]
          },
          "metadata": {}
        },
        {
          "output_type": "display_data",
          "data": {
            "text/html": [
              "<div style=\"display:none\"> <script type=\"application/octet-stream\" >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</script> <treescope-run-here><script type=\"application/octet-stream\"> const root = ( Array.from(document.getElementsByClassName( \"treescope_out_ae2a36c553b94090aed965558e794e2c\")) .filter((elt) => !elt.dataset['step1']) )[0]; root.dataset['step1'] = 1; root.defns.insertContent( this.parentNode.querySelector('script[type=\"application/octet-stream\"]'), true ); this.parentNode.remove(); </script></treescope-run-here> </div>"
            ],
            "text/plain": [
              "<IPython.core.display.HTML object>"
            ]
          },
          "metadata": {}
        },
        {
          "output_type": "execute_result",
          "data": {
            "text/html": [
              "<treescope-run-here><script type=\"application/octet-stream\"> const root = ( Array.from(document.getElementsByClassName( \"treescope_out_ae2a36c553b94090aed965558e794e2c\")) .filter((elt) => !elt.dataset.stolen) )[0]; root.dataset.stolen = 1; const temp = document.createElement(\"div\"); temp.style = \"height: 1px; width: 1px;\"; root.parentNode.insertBefore(temp, root); this.parentNode.replaceChild(root, this); temp.remove(); root.style.paddingTop = \"1px\"; </script></treescope-run-here>"
            ],
            "text/plain": [
              "<NamedArray int32(| n:2, foo:2, bar:6) [≥0, ≤6] zero:7 nonzero:17 (wrapping jax.Array)\n",
              "  <Arrayviz rendering>\n",
              "| Device: GPU 0>"
            ]
          },
          "metadata": {},
          "execution_count": 36
        }
      ]
    },
    {
      "cell_type": "markdown",
      "metadata": {
        "id": "YwKA2a0pQa72"
      },
      "source": [
        "## Embeddings\n",
        "\n",
        "The predictors that we will study compute their conditional distributions by operating on arrays of floating-point numbers as their inputs.\n",
        "\n",
        "Therefore, the first thing we need to do is convert our token sequences into sequences of floating-point arrays. **This is called embedding**."
      ]
    },
    {
      "cell_type": "markdown",
      "source": [
        "* Embeddings are parameters\n",
        "* Each possible token gets one embedding vector"
      ],
      "metadata": {
        "id": "xOZOpej2Ohm1"
      }
    },
    {
      "cell_type": "code",
      "source": [
        "# Intiializing our embedding parameters randomly\n",
        "embed_dim = 10\n",
        "embedding_table = np.random.randn(ALPHABET_SIZE, embed_dim)\n",
        "embedding_table = wrap(embedding_table, \"alphabet\", \"embed\")\n",
        "embedding_table # each of the 79 possible tokens gets a 10-dimensional embedding vector"
      ],
      "metadata": {
        "colab": {
          "base_uri": "https://localhost:8080/"
        },
        "id": "KtwC4qI4TfzU",
        "outputId": "8c227962-6d5f-4ecf-de4c-2609574bd1ae"
      },
      "execution_count": null,
      "outputs": [
        {
          "output_type": "display_data",
          "data": {
            "text/html": [
              "<script> (()=>{ if (customElements.get('treescope-container') === undefined) { class TreescopeContainer extends HTMLElement { constructor() { super(); this.attachShadow({mode: \"open\"}); this.defns = {}; this.state = {}; } } customElements.define(\"treescope-container\", TreescopeContainer); } if (customElements.get('treescope-run-here') === undefined) { class RunHere extends HTMLElement { constructor() { super() } connectedCallback() { const run = child => { const fn = new Function(child.textContent); child.textContent = \"\"; fn.call(this); this.remove(); }; const child = this.querySelector(\"script\"); if (child) { run(child); } else { new MutationObserver(()=>{ run(this.querySelector(\"script\")); }).observe(this, {childList: true}); } } } customElements.define(\"treescope-run-here\", RunHere); } })(); </script> <treescope-container class=\"treescope_out_db7212cc23124cc0859ab03d60ca3e85\" style=\"display:block\"></treescope-container> <treescope-run-here><script type=\"application/octet-stream\"> const root = ( Array.from(document.getElementsByClassName( \"treescope_out_db7212cc23124cc0859ab03d60ca3e85\")) .filter((elt) => !elt.dataset.setup) )[0]; root.dataset.setup = 1; const msg = document.createElement(\"span\"); msg.style = \"color: #cccccc; font-family: monospace;\"; msg.textContent = \"(Loading...)\"; root.state.loadingMsg = msg; root.shadowRoot.appendChild(msg); root.state.chain = new Promise((resolve, reject) => { const observer = new IntersectionObserver((entries) => { for (const entry of entries) { if (entry.isIntersecting) { resolve(); observer.disconnect(); return; } } }, {rootMargin: \"1000px\"}); window.setTimeout(() => { observer.observe(root); }, 0); }); root.state.deferring = false; const _insertNode = (node) => { for (let oldScript of node.querySelectorAll(\"script\")) { let newScript = document.createElement(\"script\"); newScript.type = oldScript.type; newScript.textContent = oldScript.textContent; oldScript.parentNode.replaceChild(newScript, oldScript); } if (root.state.loadingMsg) { root.state.loadingMsg.remove(); root.state.loadingMsg = null; } root.shadowRoot.appendChild(node); }; root.defns.insertContent = ((contentNode, compressed) => { if (compressed) { root.state.deferring = true; } if (root.state.deferring) { root.state.chain = (async () => { await root.state.chain; if (compressed) { const encoded = contentNode.textContent; const blob = new Blob([ Uint8Array.from(atob(encoded), (m) => m.codePointAt(0)) ]); const reader = blob.stream().pipeThrough( new DecompressionStream(\"deflate\") ).pipeThrough( new TextDecoderStream(\"utf-8\") ).getReader(); const parts = []; while (true) { const step = await reader.read(); if (step.done) { break; } parts.push(step.value); } const tpl = document.createElement('template'); tpl.innerHTML = parts.join(\"\"); _insertNode(tpl.content); } else { _insertNode(contentNode.content); } })(); } else { _insertNode(contentNode.content); } }); </script></treescope-run-here><div style=\"display:none\"> <script type=\"application/octet-stream\" >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</script> <treescope-run-here><script type=\"application/octet-stream\"> const root = ( Array.from(document.getElementsByClassName( \"treescope_out_db7212cc23124cc0859ab03d60ca3e85\")) .filter((elt) => !elt.dataset['step0']) )[0]; root.dataset['step0'] = 1; root.defns.insertContent( this.parentNode.querySelector('script[type=\"application/octet-stream\"]'), true ); this.parentNode.remove(); </script></treescope-run-here> </div>"
            ],
            "text/plain": [
              "<IPython.core.display.HTML object>"
            ]
          },
          "metadata": {}
        },
        {
          "output_type": "display_data",
          "data": {
            "text/html": [
              "<div style=\"display:none\"> <script type=\"application/octet-stream\" >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</script> <treescope-run-here><script type=\"application/octet-stream\"> const root = ( Array.from(document.getElementsByClassName( \"treescope_out_db7212cc23124cc0859ab03d60ca3e85\")) .filter((elt) => !elt.dataset['step1']) )[0]; root.dataset['step1'] = 1; root.defns.insertContent( this.parentNode.querySelector('script[type=\"application/octet-stream\"]'), true ); this.parentNode.remove(); </script></treescope-run-here> </div>"
            ],
            "text/plain": [
              "<IPython.core.display.HTML object>"
            ]
          },
          "metadata": {}
        },
        {
          "output_type": "execute_result",
          "data": {
            "text/html": [
              "<treescope-run-here><script type=\"application/octet-stream\"> const root = ( Array.from(document.getElementsByClassName( \"treescope_out_db7212cc23124cc0859ab03d60ca3e85\")) .filter((elt) => !elt.dataset.stolen) )[0]; root.dataset.stolen = 1; const temp = document.createElement(\"div\"); temp.style = \"height: 1px; width: 1px;\"; root.parentNode.insertBefore(temp, root); this.parentNode.replaceChild(root, this); temp.remove(); root.style.paddingTop = \"1px\"; </script></treescope-run-here>"
            ],
            "text/plain": [
              "<NamedArray float32(| alphabet:79, embed:10) ≈0.081 ±0.98 [≥-2.8, ≤2.8] nonzero:790 (wrapping jax.Array)\n",
              "  <Arrayviz rendering>\n",
              "| Device: GPU 0>"
            ]
          },
          "metadata": {},
          "execution_count": 37
        }
      ]
    },
    {
      "cell_type": "markdown",
      "source": [
        "* Let's embed a sequence of input tokens\n",
        "* High level: create an array that contains the embedding vector for each input token in a batch\n",
        "* Sart with a batch:"
      ],
      "metadata": {
        "id": "IaP5C8XDPaCp"
      }
    },
    {
      "cell_type": "code",
      "source": [
        "fictional_tokens = np.array([[0, 0, 1, 0],\n",
        "                             [0, 0, 0, 0],\n",
        "                             [1, 0, 0, 0]], dtype=int)\n",
        "fictional_tokens = wrap(fictional_tokens, \"batch\", \"seq\")\n",
        "fictional_tokens"
      ],
      "metadata": {
        "id": "7EXARrInI0ZX",
        "colab": {
          "base_uri": "https://localhost:8080/"
        },
        "outputId": "b7471ea8-8238-489d-fb00-99a54610a614"
      },
      "execution_count": null,
      "outputs": [
        {
          "output_type": "display_data",
          "data": {
            "text/html": [
              "<script> (()=>{ if (customElements.get('treescope-container') === undefined) { class TreescopeContainer extends HTMLElement { constructor() { super(); this.attachShadow({mode: \"open\"}); this.defns = {}; this.state = {}; } } customElements.define(\"treescope-container\", TreescopeContainer); } if (customElements.get('treescope-run-here') === undefined) { class RunHere extends HTMLElement { constructor() { super() } connectedCallback() { const run = child => { const fn = new Function(child.textContent); child.textContent = \"\"; fn.call(this); this.remove(); }; const child = this.querySelector(\"script\"); if (child) { run(child); } else { new MutationObserver(()=>{ run(this.querySelector(\"script\")); }).observe(this, {childList: true}); } } } customElements.define(\"treescope-run-here\", RunHere); } })(); </script> <treescope-container class=\"treescope_out_78f7fcaef0c84cfeb5196f8625b970ff\" style=\"display:block\"></treescope-container> <treescope-run-here><script type=\"application/octet-stream\"> const root = ( Array.from(document.getElementsByClassName( \"treescope_out_78f7fcaef0c84cfeb5196f8625b970ff\")) .filter((elt) => !elt.dataset.setup) )[0]; root.dataset.setup = 1; const msg = document.createElement(\"span\"); msg.style = \"color: #cccccc; font-family: monospace;\"; msg.textContent = \"(Loading...)\"; root.state.loadingMsg = msg; root.shadowRoot.appendChild(msg); root.state.chain = new Promise((resolve, reject) => { const observer = new IntersectionObserver((entries) => { for (const entry of entries) { if (entry.isIntersecting) { resolve(); observer.disconnect(); return; } } }, {rootMargin: \"1000px\"}); window.setTimeout(() => { observer.observe(root); }, 0); }); root.state.deferring = false; const _insertNode = (node) => { for (let oldScript of node.querySelectorAll(\"script\")) { let newScript = document.createElement(\"script\"); newScript.type = oldScript.type; newScript.textContent = oldScript.textContent; oldScript.parentNode.replaceChild(newScript, oldScript); } if (root.state.loadingMsg) { root.state.loadingMsg.remove(); root.state.loadingMsg = null; } root.shadowRoot.appendChild(node); }; root.defns.insertContent = ((contentNode, compressed) => { if (compressed) { root.state.deferring = true; } if (root.state.deferring) { root.state.chain = (async () => { await root.state.chain; if (compressed) { const encoded = contentNode.textContent; const blob = new Blob([ Uint8Array.from(atob(encoded), (m) => m.codePointAt(0)) ]); const reader = blob.stream().pipeThrough( new DecompressionStream(\"deflate\") ).pipeThrough( new TextDecoderStream(\"utf-8\") ).getReader(); const parts = []; while (true) { const step = await reader.read(); if (step.done) { break; } parts.push(step.value); } const tpl = document.createElement('template'); tpl.innerHTML = parts.join(\"\"); _insertNode(tpl.content); } else { _insertNode(contentNode.content); } })(); } else { _insertNode(contentNode.content); } }); </script></treescope-run-here><div style=\"display:none\"> <script type=\"application/octet-stream\" >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</script> <treescope-run-here><script type=\"application/octet-stream\"> const root = ( Array.from(document.getElementsByClassName( \"treescope_out_78f7fcaef0c84cfeb5196f8625b970ff\")) .filter((elt) => !elt.dataset['step0']) )[0]; root.dataset['step0'] = 1; root.defns.insertContent( this.parentNode.querySelector('script[type=\"application/octet-stream\"]'), true ); this.parentNode.remove(); </script></treescope-run-here> </div>"
            ],
            "text/plain": [
              "<IPython.core.display.HTML object>"
            ]
          },
          "metadata": {}
        },
        {
          "output_type": "display_data",
          "data": {
            "text/html": [
              "<div style=\"display:none\"> <script type=\"application/octet-stream\" >eNrtPet62zay//0UqJqWUiwpku+2bPXLpdlmTy85yXZ3e7z6HIqEZCYUqZKULdXVA+x7nPNi+yRnBhcSAEFKdtLdH62b2hIwMxjMDIDB4HbuBzckzVYhvWj4QToP3dUZieKINkjgXzQmcXLl0wlNEupfHfT2fXroet7J+OjgaJ+e9nsn/snpZP9kf398eHTUGJ6nczeC30hv2HWTxF3dBL9ceXGUuUFEE3JHbq+DjHYAzqNYUDJzwwFZExtwN4gmMaBMIKUzcWdBCLzN4ihm2APixWGcnJHPXfYzIDM3mQZRZxxnWTw7I73u3iGdDfQS5wmtLy6I5ovsMlvNQSCJG01pYwQs3NAkCzw37LhhMI2Ai8D3Q6A0CcKMAg9ToJZCPm32WySGooJs1ex1D1v3LuzsOr5hgiqTvh+9aDEb0wQIRnHWPJvE3iJtAdlxnPg06SSuHyzSM7I/X34cSf6ZMY3kpU6O2c9AFHdG+vMlSeMw8IusmlK7KUDSJDXtpU57jIUsmAOOZsgDMo/TIAtiUJs7Bh4WGaSNXe/DNIkXkd8RLLOCbAyPQ4AFKq7vB9GU25V3jWSDCDTUoTc0ylJZ2G3gZ9dnoL2sg8xB1oAgZ5Mwvj0jN0EajNFwytX6pRNEPl1Cyb1er76W43i5ZS3jZSe9dn0susf+w2qxCrVFwh4kiKrbK5TzdVrDlhcG3gffzdz7aCyMXZTo1YymqTulivXIFr0+f8L7kvMsoTT14jntJIuoc00TSEu9JJhnhNmm487nwIOLEngSexnNOinguDNnuIM/UGyaEckFuSDNZotcDMndDiHwb7KIPEQlPk1pEkAr/4X+CNI4aWKjAQBCEpotkoiw1KdIpztJ4lnTzeIxALVJc8YIzrpe7NPXKMqnWbPXag0Ae71TXcxLEEO2v1cUxFkdrzKaAp8PKk8SmSBtpBLRWyIKYrSajHx3vJhA3y5QRAU5ziauX0X/Fp5ZMffimLMc0ow8R2OaufM3f3r2AixzYNZmSrPnYIxBtIgXKQNu3rjhgra5GQImoskaIsWxm9Ir1hraJJ5MUppxPoIJ4ajk/IL0JAZR4KE6vYFI5ZhFyprQMKUKkeEF6VcQUTnrhjSaZtekQ/ZKpPtdnbgkxkXsZWlOkRf5mDTtpPutgY2P79zsugtyB5nlxFolLopyviB9wY+i6cSo0GVRxOiyN0Km+sACJ9ciu4I8qUIiu6QvEFXt8MKmdYX1H1pY317YuK6wvYcWtmcWJuz/MmmTaZuMR/ZGu4rAdfKeJl4aRNdvKFBvivI+0BXr8/8qzD4M5t+5YNuJe/tdEPG/+F2Q+JM7l2aZU08zF8azt+if+KKIJmBk7qKwYLTsz4L0ZRDBwNBkWb/+yk0IhqrmskWeIAI5J33aOSjw8goupWUZ1pwDMFopeGZI7DEj9jiHwR8GEMbTZrnUXYH9c5KBUsS3eXzbXHKANtlrtXLbXitWnLd9TY7kQusDMJ/L08gwxI8Ww+VfWVkTnpO1cWZC5rXWMmQvyrQsoWbusin1LhhqDSpqep5D5Fz+h/7wZgfawjZDLnYMzdPlvJmbgC4DaIaFeYPt5GCyarnq8zJAVLKkJ7wh62J5YgiODx4gWOhrAdfWZPKmh61joJiOxDJMJycGLabf000g716xqc8p9rJo7TDu1jXWJ4KmpCValiRiHU0+WluF0UtJFl9tpmoSQrn6NIpnQQQ+RpLbcBA1FROwVdvo+oQIGAtKb9feQEU2FETX1KYxZehOZ9iqQCH8rdSmkCuG2NIokMVv0ZF+myXgcfOxXvfd8kFEDl3aEPMumY6bj+6SNXl0N8Vf43XrnXW4Qf8+cVNwq6YPK1GBwOlIBLOaFUB09/p7R9A+E+iiu8f9wz34PMXPveM9/DwuOqkCbUj6eyeF7EVlHDYBcqwmLUHYJMbRBGpUFObn4Ws3gwlTBD4Q6AP+rdowTWRJ+UAJSm6imQbM4YM/5xJEOFmQtrvbMjy0JL4FeAF4GYykgeTk3nNy74EcwOak3qukxOAT316+H6mpUEi27CL/b6iXNdG7eA+8w5+gTfptxecrLHJdMi3OqB9Mg4w5z6+TYOYmqKpLBut8PmE/Ths+9ifHx+MD9nEyOZ70KPu457m9PY999I/2jvdO2MfTg6Pjsc8+nniHRwdjpy0I0v3jY2+P5Yy9sb/HP/aPx9SbOADDxGTy9ZZCiq9zdjzB/xi2S71jeiI4G4+PBQ8n/uTEFamnJ6dH7KN3OO75h/zjwal3epBzNjkeH/mcHX/sj084+6fUd+lhztlOzp1Hw/AtzKKApeMBzzAmLTAzmQTT0pzFhx7nh4g+B3zZwzHbAyWzaUubiClMkELPFvjFXIYTbOcdujQI4ZwxaMUKhYGwJgxcOvGH0LtuHh5+gUGDljPYsRgSFAUN8Zhxwz/gv9agnuZxz6BZaliCLjrBOW3+5TK308temxT/Rm0to89S++WMT4IxapXmcbrQuxihgGEAquzlE07HbPKecPs176VESkJpo02Qfu9+zyePLbWhlySudnz3VZ+FHA4Ke4eHTB7wt6VQfpASQcR9RcT9kTr+VqolV0y/pMp6rKqyRi3DBS+m5qDDV6AHmMisNEFzDaKqQC6WwALMx9ukpLuySG3D9KdSV+3I/PGa4yLu3189D8uyllWvuc6DVNf7XaiukKhNCVXNp7491jfV/oZGZ6pIDFw+TnzFGCa6vIHu70i4IUbBDL/noe30vuq+r8IfrPIHK722gW3K7Cvtr38vzOrMkep1Fq03V+c56d1bnb3fnzp7dXLvPVid9yZrUaequsJtkQpu6brN5/j39z2sBZZIaHn4o5uAxZokp4pJaapbP9hejFnWJkeSOHMXJguZiA47pfDbR3mUequS2Zesrx2pbqcAAX4WwAYMrdT/w/v89N6nORBWxE1sMsrDNm0Wt2krgZv7q2Br42Rz73FcaZc4iX3tJln6bPUCQfOJOZOLOuFC+R2Pyimgtr022bfngGAPN0IcCYgD/LsPBrQR8lBAMoyDh2Ds49/Dj8OEv0doL8XsU40xB9ENzuNBoBMXtKQ2Vu4Ff0H65DMjHll4Tzl2lizoBiuM6NTNghuaLyGeFyucEmbmTsHdXvjaEoTpsynxGlz1zXG62B+zrrjVTedhkDUdx3D1OJJcrDwvGZbIsTkNCHo1R1go08S71AiP1D4epTxP2A6Jq4TOqZulV/EEV6sXYaiN45bAn0Z2QHZ3A3PMEy08zYCbNkkDnwoeBJecZSUgWJIhAH7PtukI6QBsSwfOJce67nJlTJ7K3YoluMZFZrBFthNVxXhdV64INt6nVAZqFGv1D1hfWPIOihFEKKcYRUraUj9XegiGMyTbU6veaymPoiVXqWrwU/r1S6N6l3bfr5jkWTMsDuGooroWBav1t3Y8qlukBrs48B+exqf0NKx7RbYWw/birVhKQTeCL8U9jfxXkR94NG2akeyAp+OHFOyEoRobkGSHfim6BNYJy7UkQCLQE9iwpWVBzqWDfowzYp4MjDo0cUNHNTZWRne+SK8lAmPUscaeyiRNj12ynm+aEdW8FKjuMkid0Ugf+CTwBRFQ6YdgfsX6IcdY6lHYfffozgK+PtOTaeRD4jv7bFwUfH7fcjmejeomHNKxlYU7k3C9qp7vbfTBlWcumpUWRMrsMcR71Mhpztz0A/VJvMhazoPYvArj+MNiXuJWrt+QL78knwncYBrFCU4QWW9Zo51qvsrV4aaaLsZpBj4aa7u5CXLerthatTMypouSUx21auZY4nARfYji20hjr8JrUPDUwqrGpW1kj03QJnr07uzNtoso9jY73Nx0cpoPaQFlu7qX2niRBuvbam2jzupbSIW+1lUTEbW486+GjjGpiEPapUkSJ03nR86L2vc7Yhyx7uwSuwB4Ae/jIJJzD22D6VNQ8ts59UqrtFfg/LmrH6MsCP/KN3w3fYqxP7Y9uU1cBiZlp4xfbHt4AKPO6odxSpMbtnlH7IOlSUoZnsxqNsHHTQKa5huZpb5E+mVv1A0UxDdYPBhgrzz6iK3Y37nJB9x2f0EUfrs/L2iyegv+rJfFydMwbDrm1m1V9LxyTXVZQk6FaIgNxihMNyEA6SZ0Ft/QZstmymUJdf0ghUpE6HuYymyTu3W+VxiqkWZPI5g4IIMvE3dGlU3gFcRj/kHVn3Rl7Du7x4sg9J+KfeYvg+kiMZTvsWiJrPUmU9EZvNqWus6iapr35E86T5OYB7Ex0IPf1N2ubFf9MzelRwcFkJJYgn3BQ0UaKEtTIdm49R0MTSZlI0PFwRMIGDTw2TZ0Aa8kqrBL2XwV0CJNhVxZIFdWyDSEMcC3gBsZKo4eRStQPGMniOLlBkvoCV/TBLeBFAhasiHJBX3JfGxcf3ilOMCaVKuABjtFP4XNmOmr2G6lqhRGywk/ZqCMlAyA9ynmoQfFSsq7KAzCQbSRLD+VUElUYmbXODfBfvVrPj4sonQxn8dJBm6Qz0b+Vnm7OrO7K3SW9EL5ORHDKluq0HLJxSFOcsVWeEzwFkkCvbWemNI5m8T01FmMEUrK9+oWJtuVwYeVmdQy9phhAXzcFOUXsf+cH2R1V37Pd/Yz/rXEtVlPvcZZnLnh8zhMjXrH4d/woBSrZ39UZPDqgFRL0zhDAKV6W/fRpQAAOAWwEjoTcUzckQs5XfCewKdiH5mLJcEKjrjICtdErVvx+TGQ3GUihrJwp3+kHaPIa86p5XiaweWSexPfGpIDy/2GBtPrrCS61baiW91HdKuPEN2qXnSicsXnDaIrqq7IDhFbFaYohhwP42pvsQf+gXm3WOjdulo+Rme9hZAMDEVS5cIvmZwi8D5GyhmgHZNrz4WZW6ou3TX92FvMoOF1vYS6Gf06pPit6XBQJz9Gxb522UFE3PtdmOYu2cPjEXL3oQZ+zSSbwzN92OEVoT5nuLhOSpeZxqugKlZRIbfp7PmMRUsnIXZcs7Mp/yU2Zmtx4iJmD+4nDm+oQt01UlZB5Mj5ptgAr4ac65aurPvzrCiCZ917Ffv8ocAS/Ew5DqBs7i/tDhe7+82d4aX1Zb4nhp0AeTpObSXmmfrGhBzRXdYgsswSw3ZFXXD5ltcySmoQG9rZlmMUCG65x83bpnDs6/fCgWQb4L+TJGuONxU/Nr7bWGq7EGG7EEqb9Lr9w9Zg2+poPGHiLh7ge1Kcy9sYDBfrZXhIyGI6QWRR4X3sjB8+mqkHdTZVqtc93EIjNRruYHWYhpFT/m1DEGbHcroDnPdX5glKJazLOmCYUxo9sHbeIiexe6HOENSO+HF9Rz0wORRTiGI8UdwRtEDeN/WMPRWrAn5VDy+6sWLoJ3isOqTQOyd4aOlOWT8RXgGHzVMrwbWPygQB8JnjfJnLa1Q2OhlovNC8YdEBkK/Y+g05I599VmRX0LPsZFcjCMbYco8d7juldTvNRjUbtH/kzpR/40YefR4voky1vYc6VcIjkrYF/s2uotzcwcHUws9hYNIh0mErrVpz2HTzLXoElY/hheKo4XJxaR3W+KrLplwNvZqG7HTeOxt5h6apcWfSQpkBlWaF0Fr1+BULz8bXMfhbH6qXjtdGd2vYzkUuDut+BKO0UlnquEF2yrs2tH5gWW22D5lEsflPjcliF7V7UcxpKu210lqX9daK4lzqtrqss1Xty3KDnS7rrLTSRpdWG11W2xgKCS3ULqVWHbLVPLc2F819XZpGuawzyp3KEqoGa/2PpQvvhkFE/yYmJf1BDWCaJfEHWrGYX0X5uTtH4PTnhZvQjdB/jpmr5cxwgdf5TYfYndqBTVTWtueEL6TnR8U66JK1Lb3fJpg897Fqg/0R+eordFNxb0INhtKvVqFUDam2cbRfOY72/xhH/xhHa8bR4acbR3e2Gzz7FYNn/4/B83c9eA4/weDJfqvBsOJGFZppcYpmRG/lZ32/kpKBA7otyNESS9mShapIW0HpnlEy3HKyOTKmRu5Ki7RmRDCXBN+a8BqXtfC+g1XVMQc2T1ZuJGLBBxaAkQMZ3vLRH1hO2KtYqwosXSC4zxmvr0F88RFTh2pDLmL8xT1KI4Dc0bvboTZEKdFtBctyG44ay6z3wuTBuXQRZkrM+5NFVuTiMCdSxP+hgW4VTiGCNz0kzugN7hm+0ZDWehQFrR3zxX1TpbsUAj1+U0gf+/khnyx1OuWK1y0u5TCMWbK5mxdBvdhfhItUh2e3P+U47JuKZ9av+PqFpDcoHXeNE9+4xktFfCL4Lm3TL+4hQwK7ljUf2VAwX7QPjjQsFov07tJi1mr/+9ubCLQ8VYTw1Woiq4ebyGorE9nor5o2oiLUGkm5hg8zEg3x92Mk8p41Mz7aJtYwZ1uwUwQtR7ULlMWVmBjPV+4JKrZgYegy8p/DhNOvXAb0gxunpd+lGESMqrIuZ66o8ILvT59R1tD4ip9c4CtIsws889VIR7kY1RlYQfOVyC1g8Wrgl+xmYDabl3cDV0BniRuluNn8hySY8gBAFs+hD5hU0YeB63USz2mSrZpOMHOntJNQtP4gmuIVL2zPDQjJd1pbEOh05AWknV/ieIYE+lsi4m1jHXYRcgqeCcM8mC8dKW6uDl3U7zw39Jo3btI0ykWv+dGduky8ni/lqUCVUq6J7Uhx8Apa8npadpAAZQbugSONheNvrSQVXJMTuycZhWNj1SkvPptCF3f8fgtl5bV+dFfq+NfsAsfuIZ1hPwv1lRWuoPeXeK6QW25FrrSLIQy/dcc0VDd3iFUllv7aOPogxhZcf59Bu2AwLKTGls5D/Kqtn7MUaUF4+dVbbEgo/bkST1Oh+E3Jz9ht2wjX6/ahBsqdyVYstGF+9ZHSFTlMNHhtW58tyzZ73SPsXMtKbKHF8Qy9SbTkcZT1b79niNXHOFVd32vaJKG2CHlls1VkoWqO1Y1QzFqU9mfqS2iKE+r3el+AvT26C9D+mPnZ8UR/otR2Eyem61pEKC3MYRT0Oe/k5SSCZdhYQdineAM7ykzpEYjV0IWV5zPa0pCl5+ctjO8uUjPXv/leqn+zSWm9ZhJnQB67zc5pz6dTx0rb0i8Li0qw27cWk2jjx9YWZ7PUDnm45d/bgsuOda0JW4xTl8kW1rmje9Bgqt8+2CQK9I2tSwHdwoRK0OOi968GklZQBwN9v1wbclDf1ZCa6eZG2YmZVaIRa1ZpmLLa+gvKD+0iLBSUwZjD3DGgM6UebTxphUmM9rpVtQOQBV6exUuaVnvwHzVHKAroeqGbpt8GadYFjwU83WgSoyjFMwy553Sf8JAA47cc1m4TFbMgvqv4rWDKMHxjJUFhfZtq47MkjnKLs1GWoNF894/o0V3RRtaX74wNPPgARom1qkLZyxlKq+TIIopKHP6YhmPkyq04ZSkJAL5HrDrbXeri7hsAaUbn6tqGXRRcnBxlk9ScEXEMOXG7eaCcOHIuJ/YuimNkVotJAFSJSWZXikkAmGLKk8szLPRXD3reNd6ukooBohgh6uTLiZZl52HgFHKeQ3+DD5Ww5yroTaY57CVZAEAXqjqlGU8qQh+GbVUD7ugr1dXblsUVEyYlrXkrcaGK+L+pcuh7vsaLG7AjotBdStto24RitquHIJc7XYzihEDhE3a5gmLR/8iULttI5+T+x4wfiHNKZ9fxqm/oavEgP15q0z1kZ+r7eAmNukKg1+CHuRjGNf7zsrdhPWYk1I5TJ55bVH5vuHpeBt2pckewZTdQIFs7AiWbt3Snb8lhjdzZs2SJ5u240aqcKWtlOVClkqDZ0yxLgjEM5k2HabitqtYIxE1ifGnr0wX4BEXryG2A1E/qJZTszf8nxsezOiYRkV0IwJ7v7LL5PDuZPIlb5ThG/kxTZQMrO2FbCUQS5hL5HjoqrKdMdQYmD8ZA/ul4wM6ozAPeh2UA3S9cV55+GIS2jtaVKQkPLH/E6RPGoSXNKhczB9DDc8o168vv2LtuMHAYPR0GgHDjFIv1o75gHHqGT3oF0fR5GAAzb7RDwcqSTwTTojdSXI/uJCUxVenkpFnsBQT1zroiJGMAis9fsRMkd3FlmE7B0Zd4BEiXzRGMCVTOtQVejbXap0gobfWgNtaC+blChgapDcLkSzg5vrS+YSE6nmJcvrWJXcPP17nngYomC1K0CMvC4Huz0+seov/V7+7RmXFJxMfUkOh2IuK3JWMphCCsBQ9OedfqPXuWvSgPJt3TAyfmrhLNzieLUFZe0q6z5GJ+u8mOBdEcAbfzbJSnwo1+amqSnRUvd0goVuW2LIx90x7kyOK5DQuSCyT4ouEwuZ4Vp2dzLJZR4LGvGqZ8VbKMynMKXP5dQV5b3mepW3ZQ7ICFfjtEE4naHdUtOJTCXfxBTBaBywvApRWFPnzV4lsV9JWuU5eg2nUmYjVoE7F8BUGlJoI4CjmeUtBbG6fScWACaui+sC1DabGvhVvtYg7DDMX8l0k8eys8U/sxQm13AN524r9e8uszxHo4S23eBpEf33Z9egMzDFYqA9Iu56+AwdeutM09ZjF98kQtCr9uKk5//2eeAzz13y/SbMZjgEZBlVSrX9zx0vT18i9s2sceKUlSfp6/afrQmhxULKPuOsG+WR3E1tAfG5VokS+UJzUuShecfNySrv0KzHvRdBdZ7FSoia1Zoh2qNVQ3oT22arKqUW1YcIY2xgpULq5SPSxtCY3zd+tm3rVit2aLEZtSqB/oFw0Ls5oh+neY23zXTCgLKLNXSh/dVRje2p9jF2SERUIxrS+VT3jZ4tYYIwTgXbNJYztHV0YjW3+gjlZGxZW4hfzACy4HHqpKXZcmkdVBC72SNZ1bfoFc6PN1ZoU8v80JkiVofZ13NM2lXhKH4TPNJ7tjg66tBHzOkHHQJmN67d4E+JCrg1csuVHmrM0y1Ik0K+dVlMV/Deht886CDjTD2PsAKRF1wYgKgmv90HtZnrN4kTLLQJmaMTR5+RHuMwXJqRtOMbTFK/f3Nim+/KT1aRLTcgI6n47yZike62WB3ziiyg2SxiyuCrDqMuj8NOTVjXFNYr75KK/ZNoUyQVezx9eiNS99w3STbZplB6Ir1tBKZWSG97K5CHbgY3MRqA59Qcx+86RWdrWAa67MaQ22MART1EpwAlwjgDgy89Bjor5cKMspc9Pkybs5ATvyNzJKYGCLdBs6u1KsaA7Q0lU+hqRHvvxSE5kKvGsA86mXwrE+QTSkJbY+ONp9twaMmB0bM8ftlo71asmqG7ZjmbxZ2bRysFXRu1VFV1VWk8i6QlM/5Zr6Rk7Oa1T1U66qHFrV1TeW2bzBG2u39bqS68UfqayfPkZZ5e7lHrr66R66KhbHncojIFsNXzH3CMzRa8shZqsBZiMjLE63aQx9I48aPHAklfjl4bR8KgYBHj44XhWjIi90YN6oenVTvgG2ngv7zR55AFQfeZznmEH9MwyWG9a44T5kszKl605sP9sNVkR/Mct+pEg/UbVJJhUHsUpo5rsA9htCtrLV22tKQ5utyv7RDTMotxzY8mmYuT/hFIPjtro8peAKscX18i/oxAXDMUOixVvUJae9hW8vFPmctvHuTa2nr8qkDIj72g12xdQARg2E+xb4Drecsuf306mIGqGBeRC6zNGQHGyqXeeCHJj2p5V6XsEu3mZTus5GZ1f7uqufYLQd9ausxznpbKzI7qaKDKsqEkT3qkhnc0Usi5kqie3nwOUPD1t6KU8q78xILmuYHsP9SY37YQiXPDFs+LHR5zUNCWnQWhyXB5uVwv5uLvd8ytJsc9lCX5braudumgY39Iw/4LLW1sRsuyjqFGgNYJQurOWBqh8i+kI82/PprqvVbxdSLxq1bH7lwQsBJFMscHm4WAXliQP9eqbyFXrbX6JXukZPvwSvfG1eKZ+zkJm7xaovxivfi8QelODvNojBH++aACvBLRFnykNLYDli1DVOxuYHix6wi7TyCE/fc+dOFVRxeqcWbMYijlznTq97fEhnlbCKxxpEeHtHR585l9YV7EdN7MDoHE9CdhjYueEmXQlbf9rIIrHKcxQmJNYqn5k7e91DZ6v47qbwdVWdFxkWyJQ0XxpHNnbqzoblh7y0RlBrHypIlXGoMBUbkHeMRee/4LBQusYcc74OS3PxLS2+qtaSrOociSSz7nvq3uUSmPXwC8GgPDYBmGrmy5l9ts8LRiJZWXnTwJrO3lXSr928XYKWwZXOYR3PxSy236+D07a/ezRSL9YpF63Ze98GqE+XzAFhbdoDHwF+PybB6/sfswoR6/mPm4Qc+HWrqNqylOuyfIe/OON7Jx4LMHyis3IS9+Ms1+mf2RIRej3YWbeYF5ZdB8wFeBPH2fexT5ut7nWcZjDbnERpVwag5I2M8HFw/gQ852CeDc+fZAmlqQdDQCdZRJ1rmtDhOW5wJ2yH1UVjEoc+vuZxFQFlDBdMgiTNruLoCkXcGJ4zwQ3P2UoTQVfiouFdU+8DVKphJXKVxdNpSCETwagPTDBkvVx2DciVOx7D9Lgx/DLMBrgBjsuBsMvbm7+Cpw0+6dl+G+b/P5/BnOryX//8P3Bv/vXP/+2PyC80ic/6PRLFEfu4R5q3CegPhjby3l12GakWiAJKBR5EPVQeYOYfXdElpPjUb+h5eLQbbMe/8tAWQJ+1+ZCJGzZFntTDVW5BBrLxIEZj+EYOylyH3W5X8m3VH1OuUAbUOAw8Zr1PYi+jWScFHHfWGOavXPEWwMyIf0MrGuRRjAm72b/WygYcrAs8vI3jSL6EIUhkcxEnwA5Se/+j6WR0NkcPA+nQJAGBgS+HZ0QKr5M/ZPDntz9832Vz3iYS7Iqj3CY9XnenpTVvoIYo+VMgRG8aXdszFpzd4g0MbN4b2o2si1SjVqVGjV7epzHYz10DtzE2zkjj7XV8i8rG91am4HCL9yxh+hFBX0R9wi+mS7vkG/Q4n7CwINuDxZ8xYBHCRps0lMcLkO7T4ufZ0/ofa35Okr2jgBRZS8Rk48UCVtp/f/1M/R/BlKsSAOSu4fbhTx/J9uDDAUw9GsVRWUi5vGvgKQEkB6CQy5opfsUmTw4wiZ0PgCRo+Q1oJ4zOCD6vqgj1NEK8EyH7dlL7jJRxLgnpYbJ+VxGrkBSMnE0hVRhvIQnnVPjFXRZfREi0IWbokJLfIF0A5TdJF0nyHWXGCApN210OqcdcJVVBWi4Qyat4mK4hcZiQUM0NDCLUggGVjTAOk7BzpkOyuzGYQYFUC7UUr1Kh8GWC1MWmovCUGf15c1H9UlEHelEHG4tajzbX/B8RgZ5Lh+OZ69Fa7UxExwEfYZgY5mOS9qd6dKwbtH4lL9iOmDPyp9c/kp4g9uU0G9hL4QzgYMUcKejE+Hz5DMdRGLQDH4fz5Crv2/aPXN87OprQo/2jg55HT/sH4z3/2N87OD0+Go/Hgj34jfSG/CUaGPlm6CBfadyeRXHW7GrOwtm1mzaHfGzu2twIhnMmXAk8z99iw06IUbLPXfYDXTfUjpVe7dr8uzwZS5ZVFjatAnjozlPMRIfIZhgGjc+JAModHuE74XPQm/ylegaqLeg39qRYNZqXyvOlxSukl/nTpGpi8WTpCHpt9iTPBRNDq6IGH9ciDunBeHzk9U9PvOODMT08Hfu9Pqbs993JZP+0aBGV8r0CQYGJZVdsayKMl/PGf8Y9tqi5Uq9XwFEVvwywKhOcmRAH56t5QifBsjGEOdYvbgBdRULZIUGQBx7O1RkpKtzc2ta0BtcYEvL5A4W1hcV8tGfOz0K+8tlFLIUzedDb9+mh63kn46ODo33ocHsn/snpZP9kf398eHTE3Kyte2cVeKPhjgZiThB7CUwDrLMC6bhj9QWQADdc9UY3l9AVZjdKqM/DmMUV5feuhwmsGHZN8qDISSg0SY/+Lciumxp6TnSSuFOxadkI1rwQX18KCKyDhNYm/JIw5lvOO+T6Ms478AeY5IbknDJ8FWGiZ6tXQFxiszfW+dNd8SLx6At20q9Chp9jz9Mgu8RAF+doVbHk1LpsCi/KZjUDhCK3mCWtdU1YhbxpUvT/q4ZbrQ==</script> <treescope-run-here><script type=\"application/octet-stream\"> const root = ( Array.from(document.getElementsByClassName( \"treescope_out_78f7fcaef0c84cfeb5196f8625b970ff\")) .filter((elt) => !elt.dataset['step1']) )[0]; root.dataset['step1'] = 1; root.defns.insertContent( this.parentNode.querySelector('script[type=\"application/octet-stream\"]'), true ); this.parentNode.remove(); </script></treescope-run-here> </div>"
            ],
            "text/plain": [
              "<IPython.core.display.HTML object>"
            ]
          },
          "metadata": {}
        },
        {
          "output_type": "execute_result",
          "data": {
            "text/html": [
              "<treescope-run-here><script type=\"application/octet-stream\"> const root = ( Array.from(document.getElementsByClassName( \"treescope_out_78f7fcaef0c84cfeb5196f8625b970ff\")) .filter((elt) => !elt.dataset.stolen) )[0]; root.dataset.stolen = 1; const temp = document.createElement(\"div\"); temp.style = \"height: 1px; width: 1px;\"; root.parentNode.insertBefore(temp, root); this.parentNode.replaceChild(root, this); temp.remove(); root.style.paddingTop = \"1px\"; </script></treescope-run-here>"
            ],
            "text/plain": [
              "<NamedArray int32(| batch:3, seq:4) [≥0, ≤1] zero:10 nonzero:2 (wrapping jax.Array)\n",
              "  <Arrayviz rendering>\n",
              "| Device: GPU 0>"
            ]
          },
          "metadata": {},
          "execution_count": 38
        }
      ]
    },
    {
      "cell_type": "markdown",
      "source": [
        "* Now we can go through `fictional_tokens` and \"pluck out\" the corresponding embedding for each entry\n",
        "\n"
      ],
      "metadata": {
        "id": "ka287HfhQDwy"
      }
    },
    {
      "cell_type": "code",
      "source": [
        "# Integer array indexing over the \"alphabet\" dimension\n",
        "embeddings = embedding_table[{\"alphabet\" : fictional_tokens}]\n",
        "# The way to read this is operation:\n",
        "#\n",
        "#     for every element i of input_tokens:\n",
        "#         take the ith element of embedding_table along axis \"alphabet\"\n",
        "#\n",
        "# The output shape will be the merged shape of input_tokens and embedding_table\n",
        "# minus the \"alphabet\" axis\n",
        "treescope.render_array(embeddings, rows=[\"seq\"], columns=[\"embed\", \"batch\"])"
      ],
      "metadata": {
        "colab": {
          "base_uri": "https://localhost:8080/"
        },
        "id": "AgeAdXXjCIE-",
        "outputId": "6ba6ce37-84c0-46f9-bdb3-13b0b3b96f86"
      },
      "execution_count": null,
      "outputs": [
        {
          "output_type": "execute_result",
          "data": {
            "text/html": [
              "<script> (()=>{ if (customElements.get('treescope-container') === undefined) { class TreescopeContainer extends HTMLElement { constructor() { super(); this.attachShadow({mode: \"open\"}); this.defns = {}; this.state = {}; } } customElements.define(\"treescope-container\", TreescopeContainer); } if (customElements.get('treescope-run-here') === undefined) { class RunHere extends HTMLElement { constructor() { super() } connectedCallback() { const run = child => { const fn = new Function(child.textContent); child.textContent = \"\"; fn.call(this); this.remove(); }; const child = this.querySelector(\"script\"); if (child) { run(child); } else { new MutationObserver(()=>{ run(this.querySelector(\"script\")); }).observe(this, {childList: true}); } } } customElements.define(\"treescope-run-here\", RunHere); } })(); </script> <treescope-container class=\"treescope_out_eb6e924e3cf348c2b8a9428b66fffcd5\" style=\"display:block\"></treescope-container> <treescope-run-here><script type=\"application/octet-stream\"> const root = ( Array.from(document.getElementsByClassName( \"treescope_out_eb6e924e3cf348c2b8a9428b66fffcd5\")) .filter((elt) => !elt.dataset.setup) )[0]; root.dataset.setup = 1; const msg = document.createElement(\"span\"); msg.style = \"color: #cccccc; font-family: monospace;\"; msg.textContent = \"(Loading...)\"; root.state.loadingMsg = msg; root.shadowRoot.appendChild(msg); root.state.chain = new Promise((resolve, reject) => { const observer = new IntersectionObserver((entries) => { for (const entry of entries) { if (entry.isIntersecting) { resolve(); observer.disconnect(); return; } } }, {rootMargin: \"1000px\"}); window.setTimeout(() => { observer.observe(root); }, 0); }); root.state.deferring = false; const _insertNode = (node) => { for (let oldScript of node.querySelectorAll(\"script\")) { let newScript = document.createElement(\"script\"); newScript.type = oldScript.type; newScript.textContent = oldScript.textContent; oldScript.parentNode.replaceChild(newScript, oldScript); } if (root.state.loadingMsg) { root.state.loadingMsg.remove(); root.state.loadingMsg = null; } root.shadowRoot.appendChild(node); }; root.defns.insertContent = ((contentNode, compressed) => { if (compressed) { root.state.deferring = true; } if (root.state.deferring) { root.state.chain = (async () => { await root.state.chain; if (compressed) { const encoded = contentNode.textContent; const blob = new Blob([ Uint8Array.from(atob(encoded), (m) => m.codePointAt(0)) ]); const reader = blob.stream().pipeThrough( new DecompressionStream(\"deflate\") ).pipeThrough( new TextDecoderStream(\"utf-8\") ).getReader(); const parts = []; while (true) { const step = await reader.read(); if (step.done) { break; } parts.push(step.value); } const tpl = document.createElement('template'); tpl.innerHTML = parts.join(\"\"); _insertNode(tpl.content); } else { _insertNode(contentNode.content); } })(); } else { _insertNode(contentNode.content); } }); </script></treescope-run-here><div style=\"display:none\"> <script type=\"application/octet-stream\" >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</script> <treescope-run-here><script type=\"application/octet-stream\"> const root = ( Array.from(document.getElementsByClassName( \"treescope_out_eb6e924e3cf348c2b8a9428b66fffcd5\")) .filter((elt) => !elt.dataset['step0']) )[0]; root.dataset['step0'] = 1; root.defns.insertContent( this.parentNode.querySelector('script[type=\"application/octet-stream\"]'), true ); this.parentNode.remove(); </script></treescope-run-here> </div>"
            ],
            "text/plain": [
              "<Arrayviz rendering>"
            ]
          },
          "metadata": {},
          "execution_count": 39
        }
      ]
    },
    {
      "cell_type": "markdown",
      "source": [
        "## Bigram Model\n",
        "\n",
        "Let's build a very simple model, using just embeddings. Here is the high-level:\n",
        "\n",
        "* We will embed the input token sequence\n",
        "* Use these embeddings directly to parameterize a distribution over the next token\n",
        "* Train this with the cross-entropy loss\n",
        "\n",
        "This is known as a bigram model, in which the current token directly predicts the next token with no other contributions from the context.\n",
        "\n",
        "**WARNING:** This is not a Transformer and Transformers do not use embeddings in this way."
      ],
      "metadata": {
        "id": "ofeGrGAM-9d7"
      }
    },
    {
      "cell_type": "markdown",
      "source": [
        "### Computing Predictions\n",
        "\n",
        "First, what shape should we use for our embedding table?\n",
        "\n",
        "* Because we want to produce a distribution over next tokens, we need at least `ALPHABET_SIZE` numbers for each possible next token\n",
        "* Let's initialize an embedding table that has a positional shape `(ALPHABET_SIZE, ALPHABET_SIZE)`\n",
        "* We can initialize the embeddings to be all zeros for every token (symmetry will be broken by the optimization)"
      ],
      "metadata": {
        "id": "57N9IDMwI_eS"
      }
    },
    {
      "cell_type": "code",
      "source": [
        "embedding_table = jnp.zeros((ALPHABET_SIZE, ALPHABET_SIZE))\n",
        "embedding_table = wrap(embedding_table).tag(\"alphabet\", \"alphabet_out\")\n",
        "embedding_table"
      ],
      "metadata": {
        "colab": {
          "base_uri": "https://localhost:8080/"
        },
        "id": "ggmMsn30SsJ-",
        "outputId": "18e349f0-2102-4816-8ff9-6f597e6902bb"
      },
      "execution_count": null,
      "outputs": [
        {
          "output_type": "display_data",
          "data": {
            "text/html": [
              "<script> (()=>{ if (customElements.get('treescope-container') === undefined) { class TreescopeContainer extends HTMLElement { constructor() { super(); this.attachShadow({mode: \"open\"}); this.defns = {}; this.state = {}; } } customElements.define(\"treescope-container\", TreescopeContainer); } if (customElements.get('treescope-run-here') === undefined) { class RunHere extends HTMLElement { constructor() { super() } connectedCallback() { const run = child => { const fn = new Function(child.textContent); child.textContent = \"\"; fn.call(this); this.remove(); }; const child = this.querySelector(\"script\"); if (child) { run(child); } else { new MutationObserver(()=>{ run(this.querySelector(\"script\")); }).observe(this, {childList: true}); } } } customElements.define(\"treescope-run-here\", RunHere); } })(); </script> <treescope-container class=\"treescope_out_41f056c32b364dcf8561c0ac241f5cf7\" style=\"display:block\"></treescope-container> <treescope-run-here><script type=\"application/octet-stream\"> const root = ( Array.from(document.getElementsByClassName( \"treescope_out_41f056c32b364dcf8561c0ac241f5cf7\")) .filter((elt) => !elt.dataset.setup) )[0]; root.dataset.setup = 1; const msg = document.createElement(\"span\"); msg.style = \"color: #cccccc; font-family: monospace;\"; msg.textContent = \"(Loading...)\"; root.state.loadingMsg = msg; root.shadowRoot.appendChild(msg); root.state.chain = new Promise((resolve, reject) => { const observer = new IntersectionObserver((entries) => { for (const entry of entries) { if (entry.isIntersecting) { resolve(); observer.disconnect(); return; } } }, {rootMargin: \"1000px\"}); window.setTimeout(() => { observer.observe(root); }, 0); }); root.state.deferring = false; const _insertNode = (node) => { for (let oldScript of node.querySelectorAll(\"script\")) { let newScript = document.createElement(\"script\"); newScript.type = oldScript.type; newScript.textContent = oldScript.textContent; oldScript.parentNode.replaceChild(newScript, oldScript); } if (root.state.loadingMsg) { root.state.loadingMsg.remove(); root.state.loadingMsg = null; } root.shadowRoot.appendChild(node); }; root.defns.insertContent = ((contentNode, compressed) => { if (compressed) { root.state.deferring = true; } if (root.state.deferring) { root.state.chain = (async () => { await root.state.chain; if (compressed) { const encoded = contentNode.textContent; const blob = new Blob([ Uint8Array.from(atob(encoded), (m) => m.codePointAt(0)) ]); const reader = blob.stream().pipeThrough( new DecompressionStream(\"deflate\") ).pipeThrough( new TextDecoderStream(\"utf-8\") ).getReader(); const parts = []; while (true) { const step = await reader.read(); if (step.done) { break; } parts.push(step.value); } const tpl = document.createElement('template'); tpl.innerHTML = parts.join(\"\"); _insertNode(tpl.content); } else { _insertNode(contentNode.content); } })(); } else { _insertNode(contentNode.content); } }); </script></treescope-run-here><div style=\"display:none\"> <script type=\"application/octet-stream\" >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</script> <treescope-run-here><script type=\"application/octet-stream\"> const root = ( Array.from(document.getElementsByClassName( \"treescope_out_41f056c32b364dcf8561c0ac241f5cf7\")) .filter((elt) => !elt.dataset['step0']) )[0]; root.dataset['step0'] = 1; root.defns.insertContent( this.parentNode.querySelector('script[type=\"application/octet-stream\"]'), true ); this.parentNode.remove(); </script></treescope-run-here> </div>"
            ],
            "text/plain": [
              "<IPython.core.display.HTML object>"
            ]
          },
          "metadata": {}
        },
        {
          "output_type": "display_data",
          "data": {
            "text/html": [
              "<div style=\"display:none\"> <script type=\"application/octet-stream\" >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</script> <treescope-run-here><script type=\"application/octet-stream\"> const root = ( Array.from(document.getElementsByClassName( \"treescope_out_41f056c32b364dcf8561c0ac241f5cf7\")) .filter((elt) => !elt.dataset['step1']) )[0]; root.dataset['step1'] = 1; root.defns.insertContent( this.parentNode.querySelector('script[type=\"application/octet-stream\"]'), true ); this.parentNode.remove(); </script></treescope-run-here> </div>"
            ],
            "text/plain": [
              "<IPython.core.display.HTML object>"
            ]
          },
          "metadata": {}
        },
        {
          "output_type": "execute_result",
          "data": {
            "text/html": [
              "<treescope-run-here><script type=\"application/octet-stream\"> const root = ( Array.from(document.getElementsByClassName( \"treescope_out_41f056c32b364dcf8561c0ac241f5cf7\")) .filter((elt) => !elt.dataset.stolen) )[0]; root.dataset.stolen = 1; const temp = document.createElement(\"div\"); temp.style = \"height: 1px; width: 1px;\"; root.parentNode.insertBefore(temp, root); this.parentNode.replaceChild(root, this); temp.remove(); root.style.paddingTop = \"1px\"; </script></treescope-run-here>"
            ],
            "text/plain": [
              "<NamedArray float32(| alphabet:79, alphabet_out:79) ≈0.0 ±0.0 [≥0.0, ≤0.0] zero:6_241 (wrapping jax.Array)\n",
              "  <Arrayviz rendering>\n",
              "| Device: GPU 0>"
            ]
          },
          "metadata": {},
          "execution_count": 40
        }
      ]
    },
    {
      "cell_type": "markdown",
      "source": [
        "Second, how do we turn embedding vectors into predictions?\n",
        "\n",
        "* We will directly use each of `ALPHABET_SIZE` numbers in the embedding to parameterize a softmax distribution. I.e., where $x \\in \\mathbb{R}^{\\text{ALPHABET_SIZE}}$, the function $\\text{softmax} : \\mathbb{R}^{\\text{ALPHABET_SIZE}} \\to \\mathbb{R}^{\\text{ALPHABET_SIZE}}$ is given by\n",
        "\n",
        "$$\\text{softmax}(x)_i = \\frac{\\exp(x_i)}{\\sum_j \\exp(x_j)}$$\n",
        "* It's not hard to show that this strictly generalizes the sigmoid function that we studied in Lec 1.\n",
        "* We can use the softmax to model categorical outcomes. In Lec 1, we focused on binary outcomes, which are a special case.\n",
        "* Now we can write a function that computes our predictions in the bigram model."
      ],
      "metadata": {
        "id": "KpkMh7RjS4hr"
      }
    },
    {
      "cell_type": "code",
      "source": [
        "@jax.jit\n",
        "def get_log_predictions(embedding_table, inp):\n",
        "  \"\"\"Compute the log-predictions of the bigram language model\"\"\"\n",
        "  # embedding_table has named axes {alphabet, alphabet_out}\n",
        "  # inp has named axes {batch, seq}\n",
        "\n",
        "  embeddings = embedding_table[{\"alphabet\" : inp}] # embed tokens\n",
        "  # embeddings have named axes {batch, seq, alphabet_out}\n",
        "\n",
        "  # Use embeddings to directly parameterize a softmax\n",
        "  # Compute the softmax along the alphabet_out dimension\n",
        "  nmap_log_softmax = nmap(jax.nn.log_softmax)\n",
        "  log_preds = nmap_log_softmax(embeddings.untag(\"alphabet_out\"))\n",
        "  # log_preds now has named axes {\"batch\", \"seq\"} and positional shape (ALPHABET_SIZE,)\n",
        "\n",
        "  # Let's rename that positional axis \"alphabet\"\n",
        "  log_preds = log_preds.tag(\"alphabet\")\n",
        "  # log_preds now have named axes {batch, seq, alphabet}\n",
        "\n",
        "  return log_preds"
      ],
      "metadata": {
        "id": "nql_1ER53oCf"
      },
      "execution_count": null,
      "outputs": []
    },
    {
      "cell_type": "markdown",
      "source": [
        "Let's see what these look like"
      ],
      "metadata": {
        "id": "r7z7GFTkT7SZ"
      }
    },
    {
      "cell_type": "code",
      "source": [
        "XB, YB = get_batch(4, 8, \"train\")\n",
        "XB = wrap(XB, \"batch\", \"seq\")\n",
        "YB = wrap(YB, \"batch\", \"seq\")\n",
        "# test forward\n",
        "log_preds = get_log_predictions(embedding_table, XB)\n",
        "treescope.render_array(log_preds, rows=[\"seq\", \"batch\"], columns=[\"alphabet\"])\n",
        "# As expected, these are uniform distributions"
      ],
      "metadata": {
        "colab": {
          "base_uri": "https://localhost:8080/"
        },
        "id": "FBXyTuZhAMGm",
        "outputId": "eaa14e28-3573-4c1e-86d4-6ed6be080f30"
      },
      "execution_count": null,
      "outputs": [
        {
          "output_type": "execute_result",
          "data": {
            "text/html": [
              "<script> (()=>{ if (customElements.get('treescope-container') === undefined) { class TreescopeContainer extends HTMLElement { constructor() { super(); this.attachShadow({mode: \"open\"}); this.defns = {}; this.state = {}; } } customElements.define(\"treescope-container\", TreescopeContainer); } if (customElements.get('treescope-run-here') === undefined) { class RunHere extends HTMLElement { constructor() { super() } connectedCallback() { const run = child => { const fn = new Function(child.textContent); child.textContent = \"\"; fn.call(this); this.remove(); }; const child = this.querySelector(\"script\"); if (child) { run(child); } else { new MutationObserver(()=>{ run(this.querySelector(\"script\")); }).observe(this, {childList: true}); } } } customElements.define(\"treescope-run-here\", RunHere); } })(); </script> <treescope-container class=\"treescope_out_d97d5fe7ee7d4397a83e9a66e1f20973\" style=\"display:block\"></treescope-container> <treescope-run-here><script type=\"application/octet-stream\"> const root = ( Array.from(document.getElementsByClassName( \"treescope_out_d97d5fe7ee7d4397a83e9a66e1f20973\")) .filter((elt) => !elt.dataset.setup) )[0]; root.dataset.setup = 1; const msg = document.createElement(\"span\"); msg.style = \"color: #cccccc; font-family: monospace;\"; msg.textContent = \"(Loading...)\"; root.state.loadingMsg = msg; root.shadowRoot.appendChild(msg); root.state.chain = new Promise((resolve, reject) => { const observer = new IntersectionObserver((entries) => { for (const entry of entries) { if (entry.isIntersecting) { resolve(); observer.disconnect(); return; } } }, {rootMargin: \"1000px\"}); window.setTimeout(() => { observer.observe(root); }, 0); }); root.state.deferring = false; const _insertNode = (node) => { for (let oldScript of node.querySelectorAll(\"script\")) { let newScript = document.createElement(\"script\"); newScript.type = oldScript.type; newScript.textContent = oldScript.textContent; oldScript.parentNode.replaceChild(newScript, oldScript); } if (root.state.loadingMsg) { root.state.loadingMsg.remove(); root.state.loadingMsg = null; } root.shadowRoot.appendChild(node); }; root.defns.insertContent = ((contentNode, compressed) => { if (compressed) { root.state.deferring = true; } if (root.state.deferring) { root.state.chain = (async () => { await root.state.chain; if (compressed) { const encoded = contentNode.textContent; const blob = new Blob([ Uint8Array.from(atob(encoded), (m) => m.codePointAt(0)) ]); const reader = blob.stream().pipeThrough( new DecompressionStream(\"deflate\") ).pipeThrough( new TextDecoderStream(\"utf-8\") ).getReader(); const parts = []; while (true) { const step = await reader.read(); if (step.done) { break; } parts.push(step.value); } const tpl = document.createElement('template'); tpl.innerHTML = parts.join(\"\"); _insertNode(tpl.content); } else { _insertNode(contentNode.content); } })(); } else { _insertNode(contentNode.content); } }); </script></treescope-run-here><div style=\"display:none\"> <script type=\"application/octet-stream\" >eNrtPVt72zay7/4VrDctqVhSRPlu2e7nJO22u02aE3cvPT76HEqEZCYUqZKULder/35mcCEBEKRkJ7v7ULp1TACDwWAwwAwGt9M0uw/JeTdLCEnH8ZxcJ3GcWQ/WPE6DLIijEyshoZcFt2RgTeIo60y8WRDen1izOIrTuTeG+LubICMdGjix5gnEhEGadSjqTnY/h9gojiB65I0/TZN4EfmdcRzGyQnLOrB4aBQCAOAL/OzmxJoEGYBFGYmygTULog6Pd3u9rwFXvOykwe9BNIV8ceKTpANRA2vu+T5EdkIyyU6s/vgGqYlI54YE0xuIcbv7WF6UeQFULsfPPzq3QRqMgjDIoIreIotz2E4QZUkQpcEYiyUslddrdfqC8fE052MnWURQZgJx6TgJ5pmFjDizvfk8DMYesvZFPM4Isikh3sw+d5zW2TlwHspLM8snkyi1zqzsJki7U5K9h2Z5G/vEaXVv4jTr0nSoGsms6zmJsMoXY8SKma6GppQfvMgPCSRHizAcsBK6QOZlHEcQ69zFyaeWJdMQ/wOiMEmJzoIxRs5JMomTmReNSTeK75wWFQQowCmlWB2W6dTa7bcATzCxHI3qbkiiaXZjnZ1ZPQSpJT0h2SKJgO8WCVNSEHaziJAyHXV6E0wypI8C4McK/qsowQHxi/z4rpuQ3xYkzS6iYEab6/vEmxGH8aSFOAalguaL9IaxcWCooyjijFWjppab04BUsIbM4uk0ZN33mnYxkNY54sIYEmZti9yCgPOWROpouPuJ3CPTt5NtJIgDd8ehl6Y/QS/meJ3tHOf1DMRwWxS+agE/QfypjJ+fvjB1AD+4tSjCs211nNm2Mm8ENSXLs+3eNnTdJCuDxBGQCMyIIKmuM5g54GAeUfdt6IxsvPOSxLu/DX6/5r2bJFB5ZRyLUIJDrKUJuBtEkxiyVA2JfED7k0d/YPjykimMIaM4y+LZidXr9vfJzDRy1hUXRPNFdkXHke3Ei6Zkewgk3JIEOpcXdrwwmMKQNgt8kCIYrYMwI0DDFLClkE4ct2XFUBSMbU6vu996dGEnN/EtZVQZ9ePwRYvZiCSAMIoz52QSjxcpCh8fxhPPDxbpibU7X34eSvZNiW7RQYK1ySH9GfDiQCPMl1Yah4FfJNWU2k0BkiSpLi91rUdJyKA7Plh+kM5D715oxELNeiOgYZHVackywVxhcp3H5Ao13jwGbQWspGKfisJMehUpm4Tx3YlFNV9oVOe/d2gnpaq3V19L0MEb1hL1943nY9E9+h9Wi1aozSP6EMGrbq5QTtdxDVlj0LeffC/zHtNiYewhR69nJE29KZGkR/ToL6Lzt/CHKS9BBQ7ZXN9uWRb8P1lEVDvAOJ+SJIBe/jv5G3DjyMFOAwAW14cWjb1APN1JEs8cL4tHANS2nBlFOOuOYdB8h6y8yJweKBDIvdqqLuZ7YEO22y8KYqSO7jOCZsaTyhNIJogbsUTkzuIFUVwORd8dLSYT6LcDuYIszzqqf4z+IzTTYh5FMSMZDbNXKEwzb/7+zy9fg2QO9NqAjnsFwhhEi3iRUmDn1gsXpM3EEHJiNlFDxDjyUnJNe0PbiieTlGSMDlT0NKt1yiwrGmtJ8FCd3oDHspxFDDewCiTnZ5ZbgUSmTFhzHatfQu12VeQCGWPxOEtzjKzI55ZjRu22BiY63njZTRf4DjzLkbVKVBTlfG25nB6ppROtQldFEcOr3hCJcoEEhq5l7XD0VlUma8dyeUa5dVhh07rC3KcW5poLG9UV1n9qYX29MC7/V0nbmrat0dDcae8jMJ3GF8k4DaKb9wSwO7w8sPnomP93LvZhMH/jgWwn3t2bIGJ/McxR/NmbC7HMsadgXIbkEu0TnxfhQI7MWxQSjJL9VZB+H0SgGBya9K9/MRECVeUsW9YLzAAzF5d09op8eQWXQrI0ac4BKK4ULDNE9pwie57D4A8FCOOpUy51h+f+LcmgUXhoDjOqJQNoW/1WK5ftlSTFed9X+ChmV1LlGT+1BI39KDGM/5WV1eEZWhNlOmReayVBjKK0lQXUzFs6ot05Qa1BRU1Pc4icyv/SHz439RbYZ6yzLa3lyXLu5CKg8gC6YSHeIDs5mKha3vR5Gegx4CW9YB1ZZcsLjXFMeQBjYayFvKYuk3c97B0DSXRELk10cmTQY9yeKgL58IpdfU5wlEVpB71b11lfcJwCF+9ZAolRm3x2axVCLzhZBE2iqiNCvvokimdBBDZGkstwEDmSCJiqrQ19nAWUBGm0a6/BIjoKZleaTSFKazuVYGMDcuZv1GwSukLFlrRAFl+iIX2J7rUp0/Wq7ZYrEaG6FBXzIZmOnGcPycp69jDFf0ar1gejukH7PvFSMKumTytRgsDpSASzmnuA6Pbd/gH0zwSG6O6hu9+H7yl+9w77+D0qBqki27nl9o8K3vPK2HQCZBtFWoDQSYytMFSrKMzPw3deBhOmCGwgaA/4/74N00QalStKaGQHxTSgBh/8ORUg3MiCuJ2dlmahJfEdev8Y4FUwFAKSo/vI0H0EdACbo/ooo+LKJ767+jiUY6GQbNlF+t+TceagdfERaIc/Qdty25LNV0jkqiRa3H0ZTIOMGs/vkmDmJdhUVxTW/tOE/tht+HQnh4ejPfo5mRxOeoR+9sderz+mn/5B/7B/RD+P9w4ORz79PBrvH+yN7DZHSHYPD8d9mjIaj/w++3QPR2Q8sQGGskmn65JAjK9SdjjB/2huj4wPyRGnbDQ65DQc+ZMjj8ceHx0f0M/x/qjn77PPvePx8V5O2eRwdOAzcvyRPzpi5B8T3yP7OWVbOXVjEoaXMIsCkg4HLEGbtMDMZBJMS3MWH0acnyPyCvKLEY7KHjQynba0LT6FCVIY2QK/mMswhO18QBcCwY0zCi1JIRcQ2oWBSjv+FI5vnP39r9Fp0LIHWwZBgqKgIx5SatgH/t8a1OM87Gk4Sx2L40UjOMfNAle5nF712lbx/7CtJLg01i0nfJEcw1ZpHqcyvYseCuqStsf5hNPWu/yYm/2K9VJCJaAUbROkb723bPLYkjt6iePywPfY5jOgQ6XQ39+n/IC/LQnzkxoRWOxKLHaHsv6tbJa8YdxSU9bnqipr2NJM8GJqDm34I7QDTGTuFUazFsSmAr4YHAswH29bpbYrs9Skpr9Uc9Vq5s9vOcZi9/HN87QkY1n1Ldd5UtP1/hBNV3DU1AhV3ae+P9Z3VXdNp9ObiCsuHye+XIfxIW+g2jsC7hy9YJrd89R++tjmfmyDP7nJn9zotR1sXaIr9T/3UTmrE4ey1Vn03rw5T63eo5uz98drzl4d33tPbs5HozU0p9x0hdkiGriltm0+x3+87WEssIRCScMfVQQM0iQolURKabrVk+VFm2WtMyQte+7BZCHj3mG75H77LItS7VUi+YqOtUPZ7OQgQM8CyADVSvzG+vzy1qeuCCv8JiYe5W6bNvXbtCXHzeObYGPhpHPvUVwplziJfeclWfry/jWC5hNzyhd5woX8OxyWY6DZ+m1r15wCjN1fC3HAIfbw7y4I0FrIfQ5Jc+w9Jccu/t3/vJzw9wDlpZh9yj7mILrFeTwwdOJBK8mdlVnBX1uu9ZXmjyyspzx3lizIGimMyJTuWMyXEE+LFU4BM/OmYG4vfGUJQrfZJH8Nrvrmebo4HtOhuNVN52GQObatmXosk1isPC0JFk8xGQ0Ieo17obBMPd+Vgngoj/HI5XlCd0hcJ2ROvCy9jidi05ysxw2OPwXtwNrZCXSdx3t4mgE1bSsNfMJp4FQykiWHYImHAPiWbtPh3AHYlgqcc44O3eXK6DSVhxWDc42xTCPL2oxVFfq6rlzubHxMqRRUK9ZoH9CxsGQdFBqEN06hRUqtJX9XWgiaMST6U6veailr0ZKpVKX8pHH9Sqveldn2KyZ5xgSDQTisqK6hgeX6Gwce2SySnV0MuLE0vqSlYdwrsjEbNmdvxVIKmhFsKe4i8n+M/GBMUkf3ZAcsHj9SkBO2HVhdUhID+hUfEuggLNaSIJMFI4Ept5AsSLmy0Y6xh9SSAa1DEi+0ZWGjZbBdyDwDJdQ2+p7KKHWLXZCeb5rh1bziWb1lkNrDoar4BPCZxaHST8H8mo5DtrbUI5H74dmDAXx1okaTyIfID+bZOC/49LHlsnwmrOvyWB1TWbgzCder6unepD1Y4+mLZqUFkTJ5NOMjamQ7My/9RHwrXmQt+0lkXodx/GkxL1Er1m+sb76xvuJ5g2kUJzhBpKNlTetU01WuDhPVdDFKM7DRaN/NRZDRdk3Xqu2hNl0UlKpZq2aOJQoX0acovosU8iqsBimfXFiVXtqE99gFTaxH687cbbuYxdxnz9d3nRznU3pAWa4e1WysSI30TVttbZvV95CK9lpVTUTk4k6/Pbe1SUUcki5Jkjhx7L8xWuSx3+Z6xLizi+8CYAV8jINIzD2UDaYX0MiXczIurdJeg/Hn3f8tyoLw72zDt+MT9P3R7clty6NggneS/ioORv08SklySzfv8H2wJEkJzSeSHIfgaSmS5huZRXvx+KvesBtIGd9j8SCAvbL24Vux33jJJ9x2f2ZJ9HZ/W5Dk/hLs2XEWJxdh6Nj61m2Z9axyjrwsIaZCJMQOoxWmihCei0nILL4lTsskymUOdf0ghUpEaHvojdm2Hlb5XmHTKR9H4Z0Becw+5PYTpox5Z/doEYT+Bd9n/n0wXSRa44+pt0TUep2oqAReb4pdJVEWzUfSJ4ynScyc2OjowZC825Xuqn/ppeRgrwCSIkuwr5mrSAGlcTIk1VtvQDXpmLUEOQ+eQECngU+3oXN4KVKGXYruK4EWcTLkvQHy3giZhqADfAO4liDnUb1oRZaxthNEsnKDJYyE70iC20CKDEq0xskF+Z7a2Lj+8KNkACtcrQIabBXjFHZj2l7Fdiu5SUFbTtgxA0lTUgA2puiHHiQpKe+i0BAH0Vq07FRCJVKRM7vBuQmOq98x/bCI0sV8HicZmEE+1fyt8nZ1KnfXaCyphbJzIppUtmSm5ZyLQ5zk8q3wGDFeJAmM1mpkSuZ0EtOTZzGaKynfq1uIbFc4H+71qJa2xwwLYHqTl1/4/nN6kNQdEc539lP6lciVXk+1xlmceeGrOEy1esfhP/CgFK2nOywSWHWAq6VpnMaAUr2N++hSAIA8BbDkOuN+TNyRCyldsJ7ApqKf1MQSYAVFjGWFaSLXrfh+Dih3KIuhLNzpHynHKPKaM2x5PkXgcs69j+80zoHk/kBPWZdYd78p6+4fw7r7z2DdfT3reOWK7zWsK6ou8Q4ztipEkaucMfrVLnEE/plat1jow6qaP9pgvQGTtBwSp8qFX1E+RWB9DKUzQFs61WMPZm6pvHTn+PF4McPjxOOEeBn5LiQYcmwGaufHqGiwSw8i4t7vQjR3rD4ejxC7DxVwdnQ/h6ftYYaXmPqK5sV1UrLMFFo5Vr6KCqmO3fcpiYZBgu+4pmdT/so3Zit+4sJnD+Ynqre0ODBf3hEuNOf7YgO87HKuW7oy7s8zZuE0q9Yr3+cPBZbgZ9JxAGlzf2l3ON/dr+8ML60vsz0x9ATIxSg1lZgnqhsT8ozesiYjTSwRbG6o4qy9tihRaga+oZ1uOUaG4JZ73LytM8e8fs8NSLoB/o1AWXO8qfgx0d3GUtsFC9sFU9pWr+vutwabVkehCSN38ADfi+Jc3lpnOF8vw0NCBtEJIkMTPkbO2OGjmXxQZ12let39DVqkpoU7WB3awkgpC61xwmwZTneA8f6jfoJScuvSARjmlNoIrJy3yFHsnMkzBHkgfl4/UA90CvkUotAnkjmCEsjGpp62p+K+gL+vh+fDWKH6LXHvB66Q4EF7S3FDsfMC7mArj60EVz6lCQLkp4bzVc6vYVnohKPxTLGG+QBgfUvXb6wT66uviuQKfIad7LIHQdMtj9jhvlVat1NkVJFB8yczpvxbvFvlVbyIMln2nmpUcYtIyBbYNztS4+YGDsYWdg4FEwaRClsp1YrBpopvMSLIdJyfSYYaLheX1mG1oMqbcjXUamq8U2nvrKUduqZCnY4LedahN7AYmdaqz1+x8KwFR2BvfapeOl5pw60mO2c5O4z7EbTSSmXJesPaKu/aUMaBZbXYPmUSRec/NSKLQ9TOWTGnqZTXSmld1ksrsnOpyuqyTlaVwHKNnC7rpLRSRpdGGV1WyxgyCSXUzKVWXWajeG4sLor5utSFclknlFuVJVQpa/WPYQjv4g1h/+CTEndQA5hmSfyJVCzmV2F+5eFFTHb628JLyFrov8TU1LJnuMBr/1tV7FatYuOVNe05YQvp+VGxDppkbcPotw4mT30uy6A7tL79Fs1U3JtQk0MaV6uyVKlUkx51K/Wo2+jRRo/W6NHzL6dHtzZTnm6F8nQb5fmHVp7nX0B50n9lZ1hxowrJFD+FE5E78a3uV5ISUKGbnBwtcY3jVrUjhC0xi9AjvWS45WS9Z0z23JUWaXWPYM4JtjXhHS5r4X0H91XHHOg8WbqRiDofqANGKDK85cMdGE7Yy7nuK3KpDMF9znh9Debnnxh7Lnfkwsdf3KM0BMgtdbg9V1SU5N2Wchluw5F9mfVWmDg4ly7CTPJ5fzHPilgcZkgK/z900I3cKRanTXWJU3yDR7pvlEwr1YuC0o7p/L6p0l0Kgeq/KbiP4/w5myx1OuWK1y0u5TCUWGv9MM+derG/CBepCk9vf8rz0JCcT69fEfxa4BuUjrvGia9d4yVnfMHpLm3TL+4hQwQ7hjUf0VEwnfcPlum8WCxSh0uDWMvj779fRKDnySyEoFFE7p8uIvcbichae1WXETlDrZCUa/g0IVEy/nGERNyzpvtH25bRzdnm5BROy2HtAmVxJSb686V7gootWOi6jPxXMOH0K5cB/eDWbql3KQYRxSqty+krKqzgx+OnmJVsbMVPLPAVqOkFnvlqpC1djGoPjKD5SuQGsHg18Pf0ZmA6mxd3A1dAZ4kXpbjZ/OckmDIHQBbPLbzFvCIHKK53STwnSXbv2MHMm5JOQlD6g2iKV7zQPTfAJN9ubYCg0xEXkHZ+j+MZInA3zIi3jXXoRch4MTrNuTdf2oLdrDlUVn8Ye+HYufUSRysXreZnD/Iy8Wq+FKcCZUx5S2yGioFX4BLX09KDBPy2e1sIC8u/cSPJ4Aqf6D3JyBwTqXZ58VlnOr/j9ycoK6/1s4fSwL+iFzh298kMx1mor6hwBb5f4rmEbrkRutIuhjD8yRuRUN7cwVeVaPw77egD1y24/j6DfkFhqEuNLp2HGFTWz2mMkCC8/OoSOxJyfy7502QodlPyS3rbNsL1ui7UQLoz2ZgLZZhdfSQNRTZlDV7b5tJlWafXPcDBtdyILZQ4lqB2iZY4jrL69+8ZovXRTlXXj5omTsg9QlzZbGRZKItjdSfksxap/+ntxVuKIcIXHkDenj0EKH9U/Mz5+Hgi1XYdJbrpWngoDcShF/QVG+TFJIImmEhB2Au8gR15Jo0IllHQuZTnM9qSylLT8x7GdhfJiat/+16q/7BIKaNmEmeAHofNznHPJ1PbiNswLnOJSnDYNxaTKPpjY4kzSWrHerrkP1qCy4Z1rQgbhFPlyQbSuaVa0CCqPz1ZJIrsa3uXBLqBCJWgR8XoXw0kpKAOBsZ+sTZkY3tXQyqimwtlJ6ZSiUKsSKUmynLvLzA/dYgwYJCUMYN5oEAnUj3aeNIKoyjuVatqByB1vLyMlySttuA/a45QFCA9RQIWC1i60SRGVvJnGHLL6THuIQ7Gbjms3SbKZ0FsV/ElJ0oTfG0lQSJ9k2rDpCCypVuctbI4DufD/0XPHoo+srr6oG3gwQcwSqRVFUpfzpB6JcvMvaiWzR7TsLVUsRWnzCUOwPaIVSd7S5XdrgaQZmQur22YWcHYybKs45o9tGyNT0xunsgnljnnE30XxdYSq9nEAarYJJIr2cQBdDbl0eUZFtqre73xDd6uknIFUWiIOv4ypGXejdFxCimvYLzBh0rocxXkNlMM9hIvAKALVZ2SjEUVrg9NtqoBt9SV6upty/yKCR2T0r0lv1CF/19vchh7vsOLG3AgIjBcCtlom5ii96unZC4PuujFwYfVvuCQyzEW44+I6dKNdHZuf8zYgTi7dHYdr/qGoRYP8uOlNt19eqbexUto5BUCtQY/z7kaV+jPy96E9JiikAdOFXkuUfm94fJ5GTSnygPBhsNAkdk4EEjJrKfbriGFdnK7b0ji3dv2ovtyoqiV4UCVjIJkF1mWBCNQ5o5NW7gtN63miJvE+ELXl3PwcYxGza2B1E/qBZQYzf83xsezOjoSnlwwwJxu79D5PD2ZPIlbZT9G/kxTZQcrG2EbMUQgZhx5CwMV1lPE2gOdBk2RfzkacDAq04D3YWlAj3PXlacfGqKNvXVlTNwCyx9x+oJ+aIGzysTMAVT3nHTN+vINfdcNFIc20qEDCDdOUV8/thfooZf4pFcQTV+FARDzXjkULC35RDAtei/Y9exBYOJTlU6OmvpegFEfjCtCwgcg2fwVO0FyE1e46aQ86hIPB+nSOYI2gcqpNsDLvlbzFAm5LR/UxlpQO5fzUEO1hplsCSfPL6TvvGAdi9Eu31pHrmbnq9QzR4VDnRQtiyah893p9Lr7aH+53T6ZaZdEfE4NLVVOuP+2JCwFE7i04MGp8Y18z55hL8qTUfdUx4m+q0SR88kiFJUXuOskuZjfrpNjjjTPgNt51vJTokY9NYWvyOYvdwgoWuW2KIyGlAc5snhuygXRRSYIKHkS9j5tfno2z0UTinw0qOQUr0qWs7KUIi8LS5lXhvdZ6pYdJDmgrt+OpbBEHo7qFhxK7i72ICb1wOUF4NKKhB+Cin+rAr80dKoclIfOhK8GrUOWryDI2LgTR0LHYgp8K+1UOn/lFc0XumUoLfa1MKldzEHNEEz/Polnl9wyNR8jVHYH4G0n/rsluz6Dr4fTWIe/IOuTW5hh0FIpkHI5fwUMvnalbO7Ri3GtF3JRGFxXnPr+zzwHuPA/LtJsxnyAWkGVWKtf3Bmn6bvlL3TaRx8pSVJ2nt/RbWiFD3Iure4qQlevDuZWsj/XKtGyvpae1DgrXXDyeUu65iswH4UTn7G2K5qJrlmiHMo1lDehPTe2ZFWnWrPgDH2MFihdXCVbWMoSGqPvzsvGN5Lc6j2Gb0ohfqBeNMzFaobZ32Cq88FJCHUo01dKnz1UCN7Kn+MQpLlFQj6tL5VvsbL5rTGaC2B8QyeN7Ty7pI1M44GsrbSKS34L8cEKLjseqkpdlSaR1U4LtZI1g1t+gVzos3VmCT27zQmiBWh9nbeUlkvHSRyGLxWb7IEqXVMJ+JwhpaBtjciNdxvgQ642XrHkRZm90suQJ9K0nB+jLP57QO6cB0N2wBnG408QExEPhKhAuFIPvZf5OYsXKZUM5KnuQxOXH+E+U+CcvOEUXVuscv9sW0XgV2VMEzkNJ6Dz6SjrlvyxXur4jSMi3SCpzeKqAKsug85PQ17fatck5puP8pptUihldDV5bC1asdLXTDfppll6ILpiDa1URqZZL+uLoAc+1heBzaEuiJlvnlTKrmZwzZU5rcEGgqCzWnJOgGkEEAd6GlpMxBcLZTlmJposeidHYM78g/ASaLl5vCk7e8c+7w7Q02U6zq2e9c03Cstk4B0NmE29JIrVCaLGLb71wVbuu9Vg+OxYmzlutnSsVktUXZMdw+TNSKaRgo2K3qkquqqyCkdWFS31a95SP4jJeU1T/Zo3VQ4tt9UPhtm8Rhvtt/VtJdaLP7Oxfv2cxioPL49oq18f0VbF4rhdeQRkI/UVM4tA114bqpiNFMxaQqifbp0OfS+OGjxRk4r8ZXVaPhWDAE9XjteFVmSFDvQbVa9vyzfA1lNhvtkjd4Cqmsd+hQnEP0FnuSaNa+5D1itTuu7E9LOZsrLUF7PMR4rUE1XreFJxEKuUTX8XwHxDyEayendDSGiSVTE+emEG5ZYdWz4JM+9XnGKwvK0uiymowtz8evnXZOKB4Ogu0eIt6pLR3sK3F4p0hlt796bW0pd5UgbEfe0auXxqAFoD4X4CusMNp+z5/XRyRgXRQD8IXabo3NpbV7vOmbWny59S6mkFuXibTek6G5VcJbijnmA0HfWrrMep1VlbkZ11FTmvqkgQPaoinfUVMSxmyig2nwOXP5629FKeVD7onlzaMcc076+y3w9duNYLTYafa2Oeo3FIgVb8uMzZLBX2T32550uWZprLFu1luK527qVpcEtO2AMuK2VNzLSLoq4BjQ6M0oW1zFH1c0Re82d7vtx1tertQvJFo4bNr8x5wYFEjAEudxfLoCxyoF7PVL5Cb/NL9ErX6KmX4JWvzSulMxIyfbdY9cV45XuR6IMS7N0GrvzxrgmQEtwScSI9tASSw7WudjI2P1j0hF2klUd43LE3t6ugitM7tWAz6nFkbW73uof7ZFYJK1msQYS3d3TUmXNpXcF81MQMjMbxJKSHge1bJtKVsPWnjQwcqzxHoUNirfKZud3v7tsb+XfXua+r6rzIsEDaSPOldmRjq+5sWH7IS+kEtfIhg1QJhwxTsQF5S1t0/gXVQukac0z5LizNxTeU+KpaC7SyccSj9Lr35b3LJTDj4RcLnfLYBWCqmS9nunSfF2giUVlx08CKzD5U4q/dvF2CFs6Vzn4dzcUs1nXr4JTt72MSyRfrlItW5N01AarTJV0hrHR5YBrgjyMSrL7/Nangvp7/ukgIxa9KRdWWpbwty3f48zO+D/yxAM0mOilHMTvOcJ3+iSkSoVeDrVWLWmHZTUBNgPdxnL2NfeK0ujdxmsFscxKlXeGAEjcywufg9AVYzsE8Oz99kSWEpGNQAZ1kEXVuSELOT3FvId1gdbYtslznld0+P8UN8AJAe7th+/y90B+suG63C6VBhvNTU1GMDgtNEChsPg+DMWX0i3ickayTQh5vtn2eP8jEGovWmIWwwoN8wj2hl9DXMmTAwLpAw2UcR+LRBo4im/MpLfZl5akKx87IbI7KEPGQJCH+NZgdeJyhMJDYnft/ufz5bZdOzxxE2OWnjnV8rO52S5FEwIZZ8lcrLLUVu6YXFxi5xXMNKIlrmljURTSjUqXtmnb5mMbR9vnDNu642z6xtl8zp05+bQvYpOiKglmY5dHl5VbX+gHNohcsHjcKsbv2qRtru21tSzfsI8abt3/96e7HXy6Do1ff9eLbiybchJtwE27CTbgJN+Em3ISbcBNuwk24CTfhJtyEm3ATbsJNuAk34SbchJtwE27CTbgJN+Em3ISbcBNuwk24CTfhJtyEm3ATbsJNuAk34SbchJtwE358+OIsP770Gk9K4emlCV7IsdvHBHqxzhsv/VScbbr4n+9eNr/Nb/Pb/Da/zW/z2/w2v81v89v8Nr/KL51b4R0Rl1kS+CSF6dPDtteHPy5Oulz4ODzGrx58Hez2V/BdvLINcVcP2/jAIE67PDofo1e80GA4v4HvDDFgAn1gEBJ68E0in2JeDSFwX4XPVfCl5LcT68iM6Qjv4Ssy9pSMI7xT78TaM2fdozRoT6IiIRgt7tt4Re/8oMwRU1C8biSIFvEiRbyzIILIzl539+B4b+/wsHfk9o+PjnYxyVtiMYYUflUrpLI74rYT7+5NEF2M0ooMmO4tq9PHQOpraEwk/+r4gL03uLsHNblyd/dYcM+lwYNDSDnAXxo8gs/DPqSy4PERAPcA5PAQw/0ehndBEFx3n0a4GHEIMuLus4g+RPR7QIR7TFH09/DlQyyhv8sgen18+5D+wwo5wOzHPczXoxEuvpB42KOxGHG4jyRjSUc0xy5+9nfzMCI73svBscQDrPRBn0IDtj3E6LrDIcqt8jYgih/zHlRdscuEUTR3GGQk8cJtkYfKGfoktqno1YEBlrUwNhVS+0SFDCKfLKn3AwSzkOz0UzC/FpK8JyKEOK8rCt8IJr+tL8otFXWkFnW0SVFiFFhfXr9UHh15pAJhvFhX4mq4ntf/F1nWmaXCscTVcCXf6MNv74FPP7jl//4/qmiOrg==</script> <treescope-run-here><script type=\"application/octet-stream\"> const root = ( Array.from(document.getElementsByClassName( \"treescope_out_d97d5fe7ee7d4397a83e9a66e1f20973\")) .filter((elt) => !elt.dataset['step0']) )[0]; root.dataset['step0'] = 1; root.defns.insertContent( this.parentNode.querySelector('script[type=\"application/octet-stream\"]'), true ); this.parentNode.remove(); </script></treescope-run-here> </div>"
            ],
            "text/plain": [
              "<Arrayviz rendering>"
            ]
          },
          "metadata": {},
          "execution_count": 42
        }
      ]
    },
    {
      "cell_type": "markdown",
      "source": [
        "### Training the Model\n",
        "Now we will work towards training the model.\n",
        "\n",
        "* We will optimize the cross-entropy, as in Lec 1.\n",
        "* We will use a simple gradient descent algorithm.\n"
      ],
      "metadata": {
        "id": "NSwhAiLK_Dh6"
      }
    },
    {
      "cell_type": "markdown",
      "source": [
        "First, we need to define the cross-entropy. The formula for cross-entropy in our case is given by the following. If $q_{ity}$ is our prediction that next token $x_{it}$ at time $t$ in batch $i$ is equal to $y$, then we compute the cross-entropy:\n",
        "\n",
        "$$\\sum_{i \\in \\text{batch}} \\sum_{t \\in \\text{seq}} \\sum_{y \\in \\text{alphabet}}  - \\tfrac{1}{\\text{batch_size}} 1(x_{it} = y) \\log(q_{ity})$$\n",
        "\n",
        "We can compute this with our clever indexing!"
      ],
      "metadata": {
        "id": "Mt-y6G1nUtxK"
      }
    },
    {
      "cell_type": "code",
      "source": [
        "def cross_entropy(log_preds, target_tokens):\n",
        "  \"\"\"Cross entropy of the predictions\"\"\"\n",
        "  # log_preds have named axes {batch, seq, alphabet}\n",
        "  # target_tokens have named axes {batch, seq}\n",
        "\n",
        "  # Take the log_predictions along the alphabet axis for each target_token index\n",
        "  log_losses = log_preds[{\"alphabet\" : target_tokens}]\n",
        "\n",
        "  # Unwrapp the named axis functionality and reduce down a single number\n",
        "  loss = -jnp.mean(log_losses.unwrap(*log_losses.named_shape.keys()))\n",
        "  return loss"
      ],
      "metadata": {
        "id": "GUi4dUMEtLaY"
      },
      "execution_count": null,
      "outputs": []
    },
    {
      "cell_type": "markdown",
      "source": [
        "Second, we need to compute the gradient descent update.\n",
        "\n",
        "* One of the main advantages of JAX is that is provides functionality for automatically computing derivatives through pure Python functions of JAX arrays.\n",
        "\n",
        "* We will use this to imeplment gradient descent."
      ],
      "metadata": {
        "id": "loIaJvSoghNe"
      }
    },
    {
      "cell_type": "markdown",
      "source": [
        "The first step is to define, a function that computes the empirical risk on an pair of inputs and outputs."
      ],
      "metadata": {
        "id": "1dwMqDZne8Ag"
      }
    },
    {
      "cell_type": "code",
      "source": [
        "@jax.jit\n",
        "def empirical_risk(embedding_table, input_tokens, target_tokens):\n",
        "    log_preds = get_log_predictions(embedding_table, input_tokens)\n",
        "    return cross_entropy(log_preds, target_tokens)"
      ],
      "metadata": {
        "id": "waXw0I9CepQ1"
      },
      "execution_count": null,
      "outputs": []
    },
    {
      "cell_type": "markdown",
      "source": [
        "**`jax.grad` is another JAX higher-order function. It returns a function that computes the gradient of its input with respect to the first argument (by default).**"
      ],
      "metadata": {
        "id": "DtxxionVfHwn"
      }
    },
    {
      "cell_type": "code",
      "source": [
        "# INTIALIZE THE EMBEDDING TABLE AT 0\n",
        "embedding_table = jnp.zeros((ALPHABET_SIZE, ALPHABET_SIZE))\n",
        "embedding_table = wrap(embedding_table, \"alphabet\", \"alphabet_out\")\n",
        "\n",
        "# GET A BATCH OF DATA\n",
        "input_tokens, target_tokens = get_batch(batch_size, max_context_len, \"train\")\n",
        "XB = wrap(input_tokens, \"batch\", \"seq\")\n",
        "YB = wrap(target_tokens, \"batch\", \"seq\")\n",
        "\n",
        "# ergrad is a function that takes three arguments\n",
        "# (embedding_table, input_tokens, target_tokens), and returns the gradient\n",
        "# of the empirical risk with respect to the first argument, embedding table\n",
        "ergrad = jax.grad(empirical_risk)\n",
        "\n",
        "# this computes the gradient of the empirical risk w.r.t. the embedding table\n",
        "# i.e., the vector that tells us the instantaneous slope of the empirical risk\n",
        "# at embedding_table\n",
        "gradient = ergrad(embedding_table, XB, YB)\n",
        "\n",
        "# Recall that gradient descent follows the *negative* gradient, which points\n",
        "# in the direction of greatest instantaneous descent on the surface of the\n",
        "# empirical risk. Let's see what that looks like:\n",
        "-gradient\n",
        "# Notice, the little blue dots. Those are derivatives of parameters that, if increased,\n",
        "# would decrease the empirical risk. These correspond to pairs of (token, next tokens)\n",
        "# found in the batch. The red strips are derivatives of parameters that would increase\n",
        "# the empirical risk if they increased. Those correspond to (token, next tokens)\n",
        "# pairs that are NOT found in the batch."
      ],
      "metadata": {
        "colab": {
          "base_uri": "https://localhost:8080/"
        },
        "id": "c3Se9rE3gAFX",
        "outputId": "ccc89aac-32ce-475e-d32c-bce1ecfdb252"
      },
      "execution_count": null,
      "outputs": [
        {
          "output_type": "display_data",
          "data": {
            "text/html": [
              "<script> (()=>{ if (customElements.get('treescope-container') === undefined) { class TreescopeContainer extends HTMLElement { constructor() { super(); this.attachShadow({mode: \"open\"}); this.defns = {}; this.state = {}; } } customElements.define(\"treescope-container\", TreescopeContainer); } if (customElements.get('treescope-run-here') === undefined) { class RunHere extends HTMLElement { constructor() { super() } connectedCallback() { const run = child => { const fn = new Function(child.textContent); child.textContent = \"\"; fn.call(this); this.remove(); }; const child = this.querySelector(\"script\"); if (child) { run(child); } else { new MutationObserver(()=>{ run(this.querySelector(\"script\")); }).observe(this, {childList: true}); } } } customElements.define(\"treescope-run-here\", RunHere); } })(); </script> <treescope-container class=\"treescope_out_5592cb95082d4cc39ed27f21519b7901\" style=\"display:block\"></treescope-container> <treescope-run-here><script type=\"application/octet-stream\"> const root = ( Array.from(document.getElementsByClassName( \"treescope_out_5592cb95082d4cc39ed27f21519b7901\")) .filter((elt) => !elt.dataset.setup) )[0]; root.dataset.setup = 1; const msg = document.createElement(\"span\"); msg.style = \"color: #cccccc; font-family: monospace;\"; msg.textContent = \"(Loading...)\"; root.state.loadingMsg = msg; root.shadowRoot.appendChild(msg); root.state.chain = new Promise((resolve, reject) => { const observer = new IntersectionObserver((entries) => { for (const entry of entries) { if (entry.isIntersecting) { resolve(); observer.disconnect(); return; } } }, {rootMargin: \"1000px\"}); window.setTimeout(() => { observer.observe(root); }, 0); }); root.state.deferring = false; const _insertNode = (node) => { for (let oldScript of node.querySelectorAll(\"script\")) { let newScript = document.createElement(\"script\"); newScript.type = oldScript.type; newScript.textContent = oldScript.textContent; oldScript.parentNode.replaceChild(newScript, oldScript); } if (root.state.loadingMsg) { root.state.loadingMsg.remove(); root.state.loadingMsg = null; } root.shadowRoot.appendChild(node); }; root.defns.insertContent = ((contentNode, compressed) => { if (compressed) { root.state.deferring = true; } if (root.state.deferring) { root.state.chain = (async () => { await root.state.chain; if (compressed) { const encoded = contentNode.textContent; const blob = new Blob([ Uint8Array.from(atob(encoded), (m) => m.codePointAt(0)) ]); const reader = blob.stream().pipeThrough( new DecompressionStream(\"deflate\") ).pipeThrough( new TextDecoderStream(\"utf-8\") ).getReader(); const parts = []; while (true) { const step = await reader.read(); if (step.done) { break; } parts.push(step.value); } const tpl = document.createElement('template'); tpl.innerHTML = parts.join(\"\"); _insertNode(tpl.content); } else { _insertNode(contentNode.content); } })(); } else { _insertNode(contentNode.content); } }); </script></treescope-run-here><div style=\"display:none\"> <script type=\"application/octet-stream\" >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</script> <treescope-run-here><script type=\"application/octet-stream\"> const root = ( Array.from(document.getElementsByClassName( \"treescope_out_5592cb95082d4cc39ed27f21519b7901\")) .filter((elt) => !elt.dataset['step0']) )[0]; root.dataset['step0'] = 1; root.defns.insertContent( this.parentNode.querySelector('script[type=\"application/octet-stream\"]'), true ); this.parentNode.remove(); </script></treescope-run-here> </div>"
            ],
            "text/plain": [
              "<IPython.core.display.HTML object>"
            ]
          },
          "metadata": {}
        },
        {
          "output_type": "display_data",
          "data": {
            "text/html": [
              "<div style=\"display:none\"> <script type=\"application/octet-stream\" >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</script> <treescope-run-here><script type=\"application/octet-stream\"> const root = ( Array.from(document.getElementsByClassName( \"treescope_out_5592cb95082d4cc39ed27f21519b7901\")) .filter((elt) => !elt.dataset['step1']) )[0]; root.dataset['step1'] = 1; root.defns.insertContent( this.parentNode.querySelector('script[type=\"application/octet-stream\"]'), true ); this.parentNode.remove(); </script></treescope-run-here> </div>"
            ],
            "text/plain": [
              "<IPython.core.display.HTML object>"
            ]
          },
          "metadata": {}
        },
        {
          "output_type": "execute_result",
          "data": {
            "text/html": [
              "<treescope-run-here><script type=\"application/octet-stream\"> const root = ( Array.from(document.getElementsByClassName( \"treescope_out_5592cb95082d4cc39ed27f21519b7901\")) .filter((elt) => !elt.dataset.stolen) )[0]; root.dataset.stolen = 1; const temp = document.createElement(\"div\"); temp.style = \"height: 1px; width: 1px;\"; root.parentNode.insertBefore(temp, root); this.parentNode.replaceChild(root, this); temp.remove(); root.style.paddingTop = \"1px\"; </script></treescope-run-here>"
            ],
            "text/plain": [
              "<NamedArray float32(| alphabet:79, alphabet_out:79) ≈-2.2e-11 ±0.0023 [≥-0.0032, ≤0.061] zero:4_977 nonzero:1_264 (wrapping jax.Array)\n",
              "  <Arrayviz rendering>\n",
              "| Device: GPU 0>"
            ]
          },
          "metadata": {},
          "execution_count": 45
        }
      ]
    },
    {
      "cell_type": "markdown",
      "source": [
        "We can now stitch this all together into our first training script!"
      ],
      "metadata": {
        "id": "Yl4lzbRzgdyM"
      }
    },
    {
      "cell_type": "code",
      "source": [
        "# CONFIGURATION\n",
        "batch_size = 32\n",
        "max_context_len = 8\n",
        "max_iters = 5000\n",
        "learning_rate = 1e1/5\n",
        "\n",
        "# INTIALIZE THE EMBEDDING TABLE\n",
        "embedding_table = jnp.zeros((ALPHABET_SIZE, ALPHABET_SIZE))\n",
        "embedding_table = wrap(embedding_table, \"alphabet\", \"alphabet_out\")\n",
        "\n",
        "# DEFINE THE TRAINING STEP\n",
        "@jax.jit\n",
        "def train_step(params, input_tokens, target_tokens, learning_rate):\n",
        "    # Compute loss and gradients\n",
        "    loss, grads = jax.value_and_grad(empirical_risk)(params, input_tokens, target_tokens)\n",
        "    # Update parameters using gradient descent\n",
        "    params = params - learning_rate * grads\n",
        "    return params, loss\n",
        "\n",
        "train_losses = []\n",
        "val_losses = []\n",
        "for iter in tqdm(range(max_iters)):\n",
        "    # Get a batch of data\n",
        "    input_tokens, target_tokens = get_batch(batch_size, max_context_len, \"train\")\n",
        "\n",
        "    # Wrap the tokens into named arrays\n",
        "    input_tokens = wrap(input_tokens).tag(\"batch\", \"seq\")\n",
        "    target_tokens = wrap(target_tokens).tag(\"batch\", \"seq\")\n",
        "\n",
        "    # update parameters\n",
        "    embedding_table, loss = train_step(embedding_table, input_tokens, target_tokens, learning_rate)\n",
        "\n",
        "    # Track training loss\n",
        "    train_losses.append(loss)\n",
        "\n",
        "    # Measure validation loss\n",
        "    input_tokens, target_tokens = get_batch(batch_size, max_context_len, \"val\")\n",
        "    input_tokens = wrap(input_tokens).tag(\"batch\", \"seq\")\n",
        "    target_tokens = wrap(target_tokens).tag(\"batch\", \"seq\")\n",
        "    val_losses.append(empirical_risk(embedding_table, input_tokens, target_tokens))\n",
        "\n",
        "# Plot training curve\n",
        "plt.plot(train_losses, label=\"train\")\n",
        "plt.plot(val_losses, label=\"val\")\n",
        "plt.legend()\n",
        "plt.xlabel('Step')\n",
        "plt.ylabel('Loss')\n",
        "plt.title('Losses during training')\n",
        "plt.show()"
      ],
      "metadata": {
        "colab": {
          "base_uri": "https://localhost:8080/",
          "referenced_widgets": [
            "87706409227b4d94a2d303a3f6597fc8",
            "e0f5427d38e74917a3ce041c81b6c09c",
            "16bca2e0641140a4af096ac545a205a3",
            "3c67717035f0493f978b0aecf30d9f72",
            "3351b3d677e54a16b87bda1008640faf",
            "2b7a4effaffa4cc8a66c8773ab940a46",
            "7ea418f01382497e88514bf758a7fcc9",
            "964b5d6c55954377abaf3156c2a263bf",
            "4f81b2e977844c46b63dcc538dfef6d5",
            "b4da4de21877428b92da8ce04e097b9b",
            "258571937d1b44778e0b9dbdfb487ee9"
          ]
        },
        "id": "_XKbjuoIFlr1",
        "outputId": "b7307827-3825-487d-9748-693614596fd6"
      },
      "execution_count": null,
      "outputs": [
        {
          "output_type": "display_data",
          "data": {
            "text/plain": [
              "  0%|          | 0/5000 [00:00<?, ?it/s]"
            ],
            "application/vnd.jupyter.widget-view+json": {
              "version_major": 2,
              "version_minor": 0,
              "model_id": "87706409227b4d94a2d303a3f6597fc8"
            }
          },
          "metadata": {}
        },
        {
          "output_type": "display_data",
          "data": {
            "text/plain": [
              "<Figure size 640x480 with 1 Axes>"
            ],
            "image/png": "[encoded data removed]"
          },
          "metadata": {}
        }
      ]
    },
    {
      "cell_type": "code",
      "source": [
        "# Let's see inspect what we learned\n",
        "# First, get some common contexts\n",
        "input_tokens = wrap(np.array([ENCODE(\"an\"),\n",
        "                              ENCODE(\"th\")]), \"batch\", \"seq\")\n",
        "\n",
        "# Compute the prediction for the next tokens\n",
        "log_preds = get_log_predictions(embedding_table, input_tokens)\n",
        "\n",
        "# get the most likely next token under our model\n",
        "most_likely_next_tokens = log_preds.untag(\"alphabet\").argmax() # named axes {\"batch\", \"seq\"}\n",
        "\n",
        "# focus on the last time step, i.e., the most likely next token after the two\n",
        "# character context.\n",
        "\n",
        "# most likely next token after \"an\"\n",
        "y0 = itoc[most_likely_next_tokens[{\"batch\" : 0, \"seq\" : -1}].unwrap().tolist()]\n",
        "print(f\"Our model thinks `an' is most likely to be followed by {y0}\")\n",
        "\n",
        "# most likely next token after \"th\"\n",
        "y1 = itoc[most_likely_next_tokens[{\"batch\" : 1, \"seq\" : -1}].unwrap().tolist()]\n",
        "print(f\"Our model thinks `th' is most likely to be followed by {y1}\")"
      ],
      "metadata": {
        "colab": {
          "base_uri": "https://localhost:8080/"
        },
        "id": "EXC2dSjNXNr1",
        "outputId": "b447f569-1a2f-49ed-f503-562064d1a5f8"
      },
      "execution_count": null,
      "outputs": [
        {
          "output_type": "stream",
          "name": "stdout",
          "text": [
            "Our model thinks `an' is most likely to be followed by d\n",
            "Our model thinks `th' is most likely to be followed by e\n"
          ]
        }
      ]
    },
    {
      "cell_type": "markdown",
      "source": [
        "## Transformers\n",
        "\n",
        "We want our predictors to depend not just on the current token, but on the entire context window that is available to them. Transformers, introduced in their modern instantiation by [(Vaswani et al., 2017)](https://arxiv.org/abs/1706.03762), are a modern architecture that accomplishes that. Transformers are very flexible models that can represent very complex functions of the context window.\n",
        "\n",
        "We will build them up, bit by bit, focusing on their key components: attention, residual connections, layer norm, multilayer perceptrons (MLPs).\n",
        "\n",
        "At a very high-level, the Transformer uses these elements and\n",
        "* **starts with an embedding tensor with axes {\"batch\", \"seq\", \"embed\"},**\n",
        "* **and alternates:**\n",
        "  * **communicating information between token embeddings along the \"seq\" axis using attention**\n",
        "  * **transforming the embeddings independently with non-linear computations**\n"
      ],
      "metadata": {
        "id": "XinV8nmAnmKN"
      }
    },
    {
      "cell_type": "markdown",
      "source": [
        "### Transforming embeddings with non-linear computations\n",
        "\n",
        "The most common non-linear computations used in the Transformer architecture are multilayer perceptrons (a.k.a. fully-connected neural networks). The building block of MLPs is the parametric affine transformation.\n",
        "\n",
        "For $x \\in \\mathbb{R}^n$, the affine transformation is\n",
        "\n",
        "$$W x + b$$\n",
        "\n",
        "for $W \\in \\mathbb{R}^{m \\times n}$ and $b \\in \\mathbb{R}^m$."
      ],
      "metadata": {
        "id": "hhCGlNygnkU5"
      }
    },
    {
      "cell_type": "code",
      "source": [
        "# This is how you compute an affine transformation with named axes\n",
        "def affine_along(params, x, feature_axis):\n",
        "    # Unpack the parameters\n",
        "    W = params[\"W\"]\n",
        "    b = params[\"b\"]\n",
        "    # We use the convention that linear layers applied\n",
        "    # to feature_axis have named axes\n",
        "    # {feature_axis+ \"_in\", feature_axis+ \"_out\"} and\n",
        "\n",
        "    # Apply linear transformation by taking the dot of the feature axis\n",
        "    nmap_dot = nmap(jnp.dot)\n",
        "    out = nmap_dot(\n",
        "        W.untag(feature_axis+ \"_in\"),\n",
        "        x.untag(feature_axis),\n",
        "    )\n",
        "    out = out + b # add bias which we assume has named axis {feature_axis + \"_out\"}\n",
        "\n",
        "    # We use the convention that we do not rename the feature_axis\n",
        "    # of the embeddings, so we have to rename the axis on its way out\n",
        "    out = out.untag(feature_axis+\"_out\").tag(feature_axis)\n",
        "    return out"
      ],
      "metadata": {
        "id": "die5Ua0UL2Y9"
      },
      "execution_count": null,
      "outputs": []
    },
    {
      "cell_type": "code",
      "source": [
        "theta = np.pi/2 # 90 degree rotation\n",
        "params = {\n",
        "    \"W\" : wrap(jnp.array([[np.cos(theta), -np.sin(theta)],\n",
        "                          [np.sin(theta),  np.cos(theta)]]), \"n_out\", \"n_in\"),\n",
        "    \"b\" : wrap(jnp.array([1.0, 1.0]), \"n_out\") # diagonal translation\n",
        "}\n",
        "# should be [1, 2]\n",
        "x = np.array([1.0, 0.0])\n",
        "y = affine_along(params, wrap(x, \"n\"), \"n\").unwrap(\"n\")\n",
        "plt.scatter(x[0], x[1], label=\"x\")\n",
        "plt.scatter(y[0], y[1], label=\"Wx+b\")\n",
        "plt.legend()"
      ],
      "metadata": {
        "colab": {
          "base_uri": "https://localhost:8080/"
        },
        "id": "8zavcObzTOje",
        "outputId": "f29de3c3-70fa-4c2f-d88e-eec8595b2c3e"
      },
      "execution_count": null,
      "outputs": [
        {
          "output_type": "display_data",
          "data": {
            "text/html": [
              "<script> (()=>{ if (customElements.get('treescope-container') === undefined) { class TreescopeContainer extends HTMLElement { constructor() { super(); this.attachShadow({mode: \"open\"}); this.defns = {}; this.state = {}; } } customElements.define(\"treescope-container\", TreescopeContainer); } if (customElements.get('treescope-run-here') === undefined) { class RunHere extends HTMLElement { constructor() { super() } connectedCallback() { const run = child => { const fn = new Function(child.textContent); child.textContent = \"\"; fn.call(this); this.remove(); }; const child = this.querySelector(\"script\"); if (child) { run(child); } else { new MutationObserver(()=>{ run(this.querySelector(\"script\")); }).observe(this, {childList: true}); } } } customElements.define(\"treescope-run-here\", RunHere); } })(); </script> <treescope-container class=\"treescope_out_c98e85de15b44fb594892e5a672c5d1a\" style=\"display:block\"></treescope-container> <treescope-run-here><script type=\"application/octet-stream\"> const root = ( Array.from(document.getElementsByClassName( \"treescope_out_c98e85de15b44fb594892e5a672c5d1a\")) .filter((elt) => !elt.dataset.setup) )[0]; root.dataset.setup = 1; const msg = document.createElement(\"span\"); msg.style = \"color: #cccccc; font-family: monospace;\"; msg.textContent = \"(Loading...)\"; root.state.loadingMsg = msg; root.shadowRoot.appendChild(msg); root.state.chain = new Promise((resolve, reject) => { const observer = new IntersectionObserver((entries) => { for (const entry of entries) { if (entry.isIntersecting) { resolve(); observer.disconnect(); return; } } }, {rootMargin: \"1000px\"}); window.setTimeout(() => { observer.observe(root); }, 0); }); root.state.deferring = false; const _insertNode = (node) => { for (let oldScript of node.querySelectorAll(\"script\")) { let newScript = document.createElement(\"script\"); newScript.type = oldScript.type; newScript.textContent = oldScript.textContent; oldScript.parentNode.replaceChild(newScript, oldScript); } if (root.state.loadingMsg) { root.state.loadingMsg.remove(); root.state.loadingMsg = null; } root.shadowRoot.appendChild(node); }; root.defns.insertContent = ((contentNode, compressed) => { if (compressed) { root.state.deferring = true; } if (root.state.deferring) { root.state.chain = (async () => { await root.state.chain; if (compressed) { const encoded = contentNode.textContent; const blob = new Blob([ Uint8Array.from(atob(encoded), (m) => m.codePointAt(0)) ]); const reader = blob.stream().pipeThrough( new DecompressionStream(\"deflate\") ).pipeThrough( new TextDecoderStream(\"utf-8\") ).getReader(); const parts = []; while (true) { const step = await reader.read(); if (step.done) { break; } parts.push(step.value); } const tpl = document.createElement('template'); tpl.innerHTML = parts.join(\"\"); _insertNode(tpl.content); } else { _insertNode(contentNode.content); } })(); } else { _insertNode(contentNode.content); } }); </script></treescope-run-here><div style=\"display:none\"> <script type=\"application/octet-stream\" >eNqtVU2P2zYQ/SuEiiZSsNJqvdg0kD+AXIoegh6SQw9FIFDkSGKWJlVybK8b+L9nSMnOetdZFGjgg6U3w5k3jzOjhce9hlWBDsALO0DtrEX2lQ3WK1TWVMyB5qi2MGetNZi3fK30vmJra6wfuCB81yuEPL5UbHCEaOUxj6Fz3A+EGmsIbri475zdGJkLq62rxqNzNr01mhwonpLYV6xVSG4GweCcrZXJJ/ymLH+lWPYh9+pfZTo6Z50ElxM0ZwOXksBcQ4sVm4k+sDGQ96C6npCb4i7kM8gVFXeKPz3kW+VVo7RCKpFv0J58c2XQKeOVCGlhtE51HRbXo46Lk4652xjK6QjzwqkBWRBi+ZoPg1aCB2mvrUAIMjng69erNM2WK1Ke8nlkElrj2ZJhr3zRAX6ka/nTSkizorcei2in0gBZPYAJJb8XIWo49PfnS5Y/uJEayGw2Ws/HDAXR/GStITTdWXefsccc7F8EBdMZjEoEcADXWrfmRkBh7C7NYiNQgvSZheXjoQW7nWUUR7UsfcK60GA67Nlyycrg8iJ1B7hxhnRnoD18J9ZvTGD2NLTvVYuBX3QIDwf6/SBDSu1npN0VDv7ZgMf3Rq3jdf3u+BrSUZMsxJg/SzRsfD/KOL9Q4zHFcizjhSr/O4fAYrxItF2nx/Gt44hRtw4hVkBA4xWDLTX4dJOBXXwv7mEfRE9cEghNzoXQ3PsPNMVT3DQ5xazX1IbJMfkhIz2p/WOPrxbXlwZAqi2LAZfJ+Z5JGPKGKoWHZVImNLoOn7tYQxRJDEOml4bhsgJpOHOsPaFhHPddXDg1bxoH29g/cf/88vbdjJclVUU9wx3IesedofupNW9AP3JsWy5ubi84DiT619MSctPOCVtozV1Ha2SC8rK4C+j3lVjFPcVd3jkuFdFN2c3tnYTuilnHTQesZGXxVvRXDOmd1q0jpxFi8ToucCmUr1vlPNbW1CF+ZSwFLlqrJW9ILUMyVj336SqWuDq31KOm8VAlehD3ILOMvWGhV6aCxkV7rOdQ7HowNemk+eBBkp9UftB8f/wIHP5v9hcyKBNqjDmiEzwMNFM/9PkZPC6lePpVoLsyxwl43HnJ6pXGOY32oC1q1dAS7GghFB/iH7PNFxDIOF3yw29S8JmYvRONLF91GEaOgp6HPuNDvT65XNP8rb4BwGfMgg==</script> <treescope-run-here><script type=\"application/octet-stream\"> const root = ( Array.from(document.getElementsByClassName( \"treescope_out_c98e85de15b44fb594892e5a672c5d1a\")) .filter((elt) => !elt.dataset['step0']) )[0]; root.dataset['step0'] = 1; root.defns.insertContent( this.parentNode.querySelector('script[type=\"application/octet-stream\"]'), true ); this.parentNode.remove(); </script></treescope-run-here> </div>"
            ],
            "text/plain": [
              "<IPython.core.display.HTML object>"
            ]
          },
          "metadata": {}
        },
        {
          "output_type": "execute_result",
          "data": {
            "text/html": [
              "<treescope-run-here><script type=\"application/octet-stream\"> const root = ( Array.from(document.getElementsByClassName( \"treescope_out_c98e85de15b44fb594892e5a672c5d1a\")) .filter((elt) => !elt.dataset.stolen) )[0]; root.dataset.stolen = 1; const temp = document.createElement(\"div\"); temp.style = \"height: 1px; width: 1px;\"; root.parentNode.insertBefore(temp, root); this.parentNode.replaceChild(root, this); temp.remove(); root.style.paddingTop = \"1px\"; </script></treescope-run-here>"
            ],
            "text/plain": [
              "<matplotlib.legend.Legend at 0x7dca2c28cbd0>"
            ]
          },
          "metadata": {},
          "execution_count": 49
        },
        {
          "output_type": "display_data",
          "data": {
            "text/plain": [
              "<Figure size 640x480 with 1 Axes>"
            ],
            "image/png": "[encoded data removed]"
          },
          "metadata": {}
        }
      ]
    },
    {
      "cell_type": "markdown",
      "source": [
        "The MLP composes affine transformations and element-wise non-linearities.\n",
        "\n",
        "*  MLPs can approximate any continuous function of the feature axis arbitrarily well (if we make them big enough), see, *e.g.*, [this review](https://pinkus.net.technion.ac.il/files/2021/02/acta.pdf).\n",
        "* This is what we call **expressivity** and it means that we can use MLPs to compute complex functions of token embeddings, in principle\n",
        "* When applied in practice, they are applied independently over the other batch and seq axes"
      ],
      "metadata": {
        "id": "4jic3EEUQc7a"
      }
    },
    {
      "cell_type": "code",
      "source": [
        "def mlp_along(params, x, feature_axis):\n",
        "  \"\"\"Applies a two-layer feed-forward network with ReLU non-linearity along the feature axis.\"\"\"\n",
        "  x = affine_along(params[\"fc1\"], x, feature_axis)\n",
        "  nrelu = nmap(jax.nn.relu)\n",
        "  x = nrelu(x) # element-wise non-linearity called ReLU\n",
        "  x = affine_along(params[\"fc2\"], x, feature_axis)\n",
        "  return x"
      ],
      "metadata": {
        "id": "WiWFLzqGP4iP"
      },
      "execution_count": null,
      "outputs": []
    },
    {
      "cell_type": "markdown",
      "source": [
        "### Communicating information between token embeddings with attention\n",
        "\n",
        "Attention is arguably the defining feature of the Transformer architecture.\n",
        "\n",
        "* Conceptually, one way to think about attention is as a communication mechanism that allows tokens to communicate with each other\n",
        "* Mechanistically, a good way to think about attention is as a **continuous dictionary look-up**\n",
        "\n",
        "Let's build up attention step-by-step.\n"
      ],
      "metadata": {
        "id": "H5FT-AxTd3Nf"
      }
    },
    {
      "cell_type": "markdown",
      "source": [
        "#### Attention - V0\n",
        "\n",
        "What do we mean by dictionary look-up? Consider the following."
      ],
      "metadata": {
        "id": "HO4Kk1aYhw-H"
      }
    },
    {
      "cell_type": "code",
      "source": [
        "# This is a dictionary with three (key, value) pairs\n",
        "dictionary = {\n",
        "  0 : 1,\n",
        "  1 : 0,\n",
        "  3 : 1,\n",
        "}\n",
        "# Looking up a query involves finding the matching key and returning its value\n",
        "query = 1\n",
        "print(f\"query={query} matches with key={query} and has value={dictionary[query]}.\")"
      ],
      "metadata": {
        "colab": {
          "base_uri": "https://localhost:8080/"
        },
        "id": "UsHIAY_Th0-M",
        "outputId": "7c943058-4c3d-4fb7-d278-9a654d3d05f3"
      },
      "execution_count": null,
      "outputs": [
        {
          "output_type": "stream",
          "name": "stdout",
          "text": [
            "query=1 matches with key=1 and has value=0.\n"
          ]
        }
      ]
    },
    {
      "cell_type": "markdown",
      "source": [
        "The following code implements this exact same dictionary in JAX with Penzai's named axis system. This is the most rudimentary form of attention."
      ],
      "metadata": {
        "id": "V1PGBHmai-NY"
      }
    },
    {
      "cell_type": "code",
      "source": [
        "# First, let's represent integers using the standard basis\n",
        "keys = wrap(\n",
        "  np.array([[1,0,0,0],\n",
        "            [0,1,0,0],\n",
        "            [0,0,0,1]]), \"key\", \"embed\")\n",
        "\n",
        "values = wrap(\n",
        "  np.array([[0,1,0,0],\n",
        "            [1,0,0,0],\n",
        "            [0,1,0,0]]), \"key\", \"embed\")\n",
        "\n",
        "query = wrap(np.array([0, 1, 0, 0]), \"embed\")"
      ],
      "metadata": {
        "id": "vS89epSYjD9V"
      },
      "execution_count": null,
      "outputs": []
    },
    {
      "cell_type": "code",
      "source": [
        "def attention_v0(query, keys, values):\n",
        "  # The key that is aligned with the query will have an inner product of 1\n",
        "  # in embedding space. Every other inner product will be 0.\n",
        "\n",
        "  # So, we can compute the index of the corresponding key by checking\n",
        "  # the alignment of each key with the query. Let's call this index\n",
        "  nmap_dot = nmap(jnp.dot)\n",
        "  index = nmap_dot(query.untag(\"embed\"), keys.untag(\"embed\"))\n",
        "\n",
        "  # Taking the inner product along the key axis with the index\n",
        "  return nmap_dot(index.untag(\"key\"), values.untag(\"key\"))"
      ],
      "metadata": {
        "id": "qwH6o1QAoea2"
      },
      "execution_count": null,
      "outputs": []
    },
    {
      "cell_type": "code",
      "source": [
        "print(\"This is attention V0:\\n\")\n",
        "print(f\"query={query.unwrap('embed')} matches with key={query.unwrap('embed')} and has value={attention_v0(query, keys, values).unwrap('embed')}.\")\n",
        "dictdecode = lambda x: int(nmap(jnp.argmax)(x.untag(\"embed\")))\n",
        "print(\"After decoding...\")\n",
        "print(f\"query={dictdecode(query)} matches with key={dictdecode(query)} and has value={dictdecode(attention_v0(query, keys, values))}.\")\n",
        "print(\"\\nSame as the dictionary!\")"
      ],
      "metadata": {
        "colab": {
          "base_uri": "https://localhost:8080/"
        },
        "id": "mqVjyoa4oX9C",
        "outputId": "153bc265-216e-40d6-b25d-1605bac7d73b"
      },
      "execution_count": null,
      "outputs": [
        {
          "output_type": "stream",
          "name": "stdout",
          "text": [
            "This is attention V0:\n",
            "\n",
            "query=[0 1 0 0] matches with key=[0 1 0 0] and has value=[1 0 0 0].\n",
            "After decoding...\n",
            "query=1 matches with key=1 and has value=0.\n",
            "\n",
            "Same as the dictionary!\n"
          ]
        }
      ]
    },
    {
      "cell_type": "markdown",
      "source": [
        "#### Attention - V1\n",
        "\n",
        "* The lookup function we just wrote is a special case of attention! So attention generalizes dictionaries.\n",
        "* The key features of attention are:\n",
        "  * Look up for multiple queries at once, in paralell\n",
        "  * General floating-point embeddings to represent keys, values, and queries\n",
        "  * 'soft' lookups using softmax distributions, instead of the 'hard' lookup that we just\n",
        "  implemented\n",
        "* **These features allow attention to perform as a soft, learnable dictionary lookup.**\n",
        "Let's implement this."
      ],
      "metadata": {
        "id": "ECgvhi5CtcPu"
      }
    },
    {
      "cell_type": "code",
      "source": [
        "def attention_v1(queries, keys, values):\n",
        "  # queries named axes include {\"query\", \"embed\"} and it is a floating-point array\n",
        "  # keys named axes include {\"key\", \"embed\"} and it is a floating-point array\n",
        "  # values named axes include {\"key\", \"embed\"} and it is a floating-point array\n",
        "\n",
        "  # Compute scores by taking the inner product of every key with every query\n",
        "  # This checks \"alignment\".\n",
        "  nmap_dot = nmap(jnp.dot)\n",
        "  scores = nmap_dot(queries.untag(\"embed\"), keys.untag(\"embed\"))\n",
        "\n",
        "  # Compute a probability distribution over keys for each query\n",
        "  # This is the \"soft\" index, aka attention!\n",
        "  nmap_softmax = nmap(jax.nn.softmax)\n",
        "  attn_dist = nmap_softmax(scores.untag(\"key\"))\n",
        "  attn_dist = attn_dist.tag(\"key\")\n",
        "\n",
        "  # Taking the inner product along the key axis with the attention distribution\n",
        "  # returns the average value, with each key contributing in proportion to\n",
        "  # its attention weight\n",
        "  return nmap_dot(attn_dist.untag(\"key\"), values.untag(\"key\"))"
      ],
      "metadata": {
        "id": "QKO0FcDByOfE"
      },
      "execution_count": null,
      "outputs": []
    },
    {
      "cell_type": "code",
      "source": [
        "with np.printoptions(precision=2, suppress=True):\n",
        "  print(\"This is attention V1:\")\n",
        "  print(f\"query={query.unwrap('embed')} has value={np.round(attention_v1(query, keys, values).unwrap('embed'),2)}.\")"
      ],
      "metadata": {
        "colab": {
          "base_uri": "https://localhost:8080/"
        },
        "id": "cTGp2Mwmz9IZ",
        "outputId": "00ed5605-5c14-4018-a25b-ca7e0f1275e8"
      },
      "execution_count": null,
      "outputs": [
        {
          "output_type": "stream",
          "name": "stdout",
          "text": [
            "This is attention V1:\n",
            "query=[0 1 0 0] has value=[0.58 0.42 0.   0.  ].\n"
          ]
        }
      ]
    },
    {
      "cell_type": "markdown",
      "source": [
        "#### Attention - V2\n",
        "\n",
        "The softmax can very quickly saturate as the dimensionality of the keys and queries grows."
      ],
      "metadata": {
        "id": "nbe9TOWj1N43"
      }
    },
    {
      "cell_type": "code",
      "source": [
        "with np.printoptions(precision=2, suppress=True):\n",
        "  for dim in [1, 2, 4, 8, 16, 32, 64, 128, 256, 512, 1024]:\n",
        "    query = wrap(np.random.randn(dim)).tag(\"embed\")\n",
        "    keys = wrap(np.random.randn(3, dim)).tag(\"key\", \"embed\")\n",
        "    print(f\"dim={dim} value={np.round(attention_v1(query, keys, values).unwrap('embed'), 2)}\")"
      ],
      "metadata": {
        "colab": {
          "base_uri": "https://localhost:8080/"
        },
        "id": "bVK2dHlO1Nbi",
        "outputId": "70349a87-eb94-4d26-96f1-b42025abc8e1"
      },
      "execution_count": null,
      "outputs": [
        {
          "output_type": "stream",
          "name": "stdout",
          "text": [
            "dim=1 value=[0.02 0.98 0.   0.  ]\n",
            "dim=2 value=[0.32 0.68 0.   0.  ]\n",
            "dim=4 value=[0.93 0.07 0.   0.  ]\n",
            "dim=8 value=[0.79 0.21 0.   0.  ]\n",
            "dim=16 value=[0. 1. 0. 0.]\n",
            "dim=32 value=[0.07 0.93 0.   0.  ]\n",
            "dim=64 value=[0.95 0.05 0.   0.  ]\n",
            "dim=128 value=[0. 1. 0. 0.]\n",
            "dim=256 value=[0. 1. 0. 0.]\n",
            "dim=512 value=[1. 0. 0. 0.]\n",
            "dim=1024 value=[1. 0. 0. 0.]\n"
          ]
        }
      ]
    },
    {
      "cell_type": "markdown",
      "source": [
        "One way to mitigate this is to divide the queries by the square root of the dimensionality of the features"
      ],
      "metadata": {
        "id": "o8e1djwtEQNe"
      }
    },
    {
      "cell_type": "code",
      "source": [
        "with np.printoptions(precision=2, suppress=True):\n",
        "  for dim in [1, 2, 4, 8, 16, 32, 64, 128, 256, 512, 1024]:\n",
        "    query = wrap(np.random.randn(dim)/np.sqrt(dim)).tag(\"embed\")\n",
        "    keys = wrap(np.random.randn(3, dim)).tag(\"key\", \"embed\")\n",
        "    print(f\"dim={dim} value={np.round(attention_v1(query, keys, values).unwrap('embed'), 2)}\")"
      ],
      "metadata": {
        "colab": {
          "base_uri": "https://localhost:8080/"
        },
        "id": "BqRZAE0GEWiC",
        "outputId": "e4c34826-72d6-411b-85a2-4f2237ee271a"
      },
      "execution_count": null,
      "outputs": [
        {
          "output_type": "stream",
          "name": "stdout",
          "text": [
            "dim=1 value=[0.21 0.79 0.   0.  ]\n",
            "dim=2 value=[0.32 0.68 0.   0.  ]\n",
            "dim=4 value=[0.28 0.72 0.   0.  ]\n",
            "dim=8 value=[0.37 0.63 0.   0.  ]\n",
            "dim=16 value=[0.47 0.53 0.   0.  ]\n",
            "dim=32 value=[0.75 0.25 0.   0.  ]\n",
            "dim=64 value=[0.31 0.69 0.   0.  ]\n",
            "dim=128 value=[0.21 0.79 0.   0.  ]\n",
            "dim=256 value=[0.1 0.9 0.  0. ]\n",
            "dim=512 value=[0.54 0.46 0.   0.  ]\n",
            "dim=1024 value=[0.82 0.18 0.   0.  ]\n"
          ]
        }
      ]
    },
    {
      "cell_type": "markdown",
      "source": [
        "Which leads us to attention V2:"
      ],
      "metadata": {
        "id": "G1Zd0_0_Ebol"
      }
    },
    {
      "cell_type": "code",
      "source": [
        "def attention_v2(queries, keys, values):\n",
        "  # queries named axes include {\"query\", \"embed\"}\n",
        "  # keys named axes include {\"key\", \"embed\"}\n",
        "  # values named axes include {\"key\", \"embed\"}\n",
        "\n",
        "  # Compute scores by taking the inner product of every key with every query\n",
        "  # This checks \"alignment\".\n",
        "  nmap_dot = nmap(jnp.dot)\n",
        "  scores = nmap_dot(queries.untag(\"embed\"), keys.untag(\"embed\"))\n",
        "\n",
        "  # Scale the attention logits to avoid saturating the softmax\n",
        "  feature_dim = queries.named_shape[\"embed\"]\n",
        "  scores = scores / np.sqrt(feature_dim)\n",
        "\n",
        "  # Compute a probability distribution over keys for each query\n",
        "  # This is the \"soft\" index, aka attention!\n",
        "  nmap_softmax = nmap(jax.nn.softmax)\n",
        "  attn_dist = nmap_softmax(scores.untag(\"key\"))\n",
        "  attn_dist = attn_dist.tag(\"key\")\n",
        "\n",
        "  # Taking the inner product along the key axis with the attention distribution\n",
        "  # returns the average value, with each key contributing in proportion to\n",
        "  # its attention weight\n",
        "  # the output will have named axes {\"query\", \"embed\"} and is a floating-point array\n",
        "  return nmap_dot(attn_dist.untag(\"key\"), values.untag(\"key\"))"
      ],
      "metadata": {
        "id": "lfCQ2keiEeJz"
      },
      "execution_count": null,
      "outputs": []
    },
    {
      "cell_type": "markdown",
      "source": [
        "#### Self-Attention\n",
        "\n",
        "In many applications, the key and query axis are the same. In this case, we call it \"self-attention\". Transformers use self-attention!\n",
        "\n",
        "* Let's say we're training on an input sequence $X = (x_0, \\ldots, x_{T-1})$ with output sequence $Y = (x_1, \\ldots, x_{T})$\n",
        "* We want to condition on an entire context window when predicting $x_{i+1}$\n",
        "* To do this, we want to pass information between tokens in a context window\n",
        "* We do this with attention!\n",
        "* In particular, within a context window, we will let every token take on the role of both a key and a query\n",
        "* This is called *self-attention*\n",
        "* Self-attention takes the current embedding of the tokens and produces the keys, queries, and values of attention from separate linear functions\n",
        "* By some conventions, it also applies an affine map as an output\n",
        "\n",
        "Let's see what this looks like\n"
      ],
      "metadata": {
        "id": "CHzDNg8ev3GD"
      }
    },
    {
      "cell_type": "code",
      "source": [
        "def selfattention(params, emb):\n",
        "  # params[\"Wq\"] named axes are {\"embed\", \"embed\"}\n",
        "  # params[\"Wk\"] named axes are {\"embed\", \"embed\"}\n",
        "  # params[\"Wv\"] named axes are {\"embed\", \"embed\"}\n",
        "  # params[\"aff\"][\"W\"] named axes are {\"embed_in\", \"embed_out\"}\n",
        "  # params[\"aff\"][\"b\"] named axes are {\"embed_out\"}\n",
        "  # emb named axes include {\"seq\", \"embed\"}\n",
        "\n",
        "  # Apply three linear maps to the embeddings independently across \"seq\"\n",
        "  # These are now our keys and queries and values for self-attention!\n",
        "  queries = nmap(jnp.dot)(params[\"Wq\"].untag(\"embed\"), emb.untag(\"embed\"))\n",
        "  keys = nmap(jnp.dot)(params[\"Wk\"].untag(\"embed\"), emb.untag(\"embed\"))\n",
        "  values = nmap(jnp.dot)(params[\"Wv\"].untag(\"embed\"), emb.untag(\"embed\"))\n",
        "\n",
        "  # As this is SELF-attention, the queries and keys both have the same dimension \"seq\".\n",
        "  # But, we want (key, query) pairs to interact, even if the key and query index\n",
        "  # is different. To accomplish this with the named array system, we need to rename\n",
        "  # the \"seq\" axis for both.\n",
        "  queries = queries.untag(\"seq\").tag(\"query\")\n",
        "  keys = keys.untag(\"seq\").tag(\"key\")\n",
        "  values = values.untag(\"seq\").tag(\"key\")\n",
        "\n",
        "  # Compute scores by taking the inner product of every key with every query\n",
        "  # This checks \"alignment\".\n",
        "  nmap_dot = nmap(jnp.dot)\n",
        "  scores = nmap_dot(queries.untag(\"embed\"), keys.untag(\"embed\"))\n",
        "\n",
        "  # Scale the attention logits to avoid saturating the softmax\n",
        "  feature_dim = queries.named_shape[\"embed\"]\n",
        "  scores = scores / np.sqrt(feature_dim)\n",
        "\n",
        "  # Compute a probability distribution over keys for each query\n",
        "  # This is the \"soft\" index, aka attention!\n",
        "  nmap_softmax = nmap(jax.nn.softmax)\n",
        "  attn_dist = nmap_softmax(scores.untag(\"key\"))\n",
        "  attn_dist = attn_dist.tag(\"key\")\n",
        "\n",
        "  # Taking the inner product along the key axis with the attention distribution\n",
        "  # returns the average value, with each key contributing in proportion to\n",
        "  # its attention weight\n",
        "  # the output will have named axes {\"query\", \"embed\"} and is a floating-point array\n",
        "  emb = nmap_dot(attn_dist.untag(\"key\"), values.untag(\"key\"))\n",
        "\n",
        "  # We're going to rearrange the dimensions now to bring us back to convention.\n",
        "  # First, we rename \"query\", which was a holdover from our attention convention\n",
        "  emb = emb.untag(\"query\").tag(\"seq\")\n",
        "  # emb named axes should now include {\"seq\", \"embed\"}\n",
        "\n",
        "  # Final affine layer\n",
        "  emb = affine_along(params[\"aff\"], emb, \"embed\")\n",
        "  return emb"
      ],
      "metadata": {
        "id": "3s794CAUwWfy"
      },
      "execution_count": null,
      "outputs": []
    },
    {
      "cell_type": "markdown",
      "source": [
        "#### Multi-headed Self-attention\n",
        "\n",
        "* We often want to let the network model different types of interactions between tokens\n",
        "* At the moment, the interaction is computed in the embedding dimension and we only have one of those!\n",
        "* Multi-headed attention addresses this by splitting the embedding dimension into what are called \"heads\" and computing self-attention independently across heads\n",
        "\n",
        "This is very easily implemented in the named axes system by changing the shape of the parameters. Most of the code stays the same!!"
      ],
      "metadata": {
        "id": "ErXp4Y3vzEJf"
      }
    },
    {
      "cell_type": "code",
      "source": [
        "def multiheaded_selfattention(params, emb):\n",
        "  # !!------------ THIS BIT CHANGES --------------!!\n",
        "  # params[\"Wq\"] named axes are {\"embed\", \"head\", \"embed/head\"} where dim(\"head\") * dim (\"embed/head\") = dim(\"embed\")\n",
        "  # params[\"Wk\"] named axes are {\"embed\", \"head\", \"embed/head\"} where dim(\"head\") * dim (\"embed/head\") = dim(\"embed\")\n",
        "  # params[\"Wv\"] named axes are {\"embed\", \"head\", \"embed/head\"} where dim(\"head\") * dim (\"embed/head\") = dim(\"embed\")\n",
        "\n",
        "  # dim(\"head\") is the number of heads\n",
        "  # dim(\"embed/head\") is the dimensionality of the embeddings per head\n",
        "\n",
        "  # !!------------ THIS BIT DOESN'T --------------!!\n",
        "  # params[\"aff\"][\"W\"] named axes are {\"embed_in\", \"embed_out\"}\n",
        "  # params[\"aff\"][\"b\"] named axes are {\"embed_out\"}\n",
        "  # emb named axes include {\"seq\", \"embed\"}\n",
        "\n",
        "  # Apply three linear maps to the embeddings independently across \"seq\"\n",
        "  # These are now our keys and queries and values for self-attention!\n",
        "  queries = nmap(jnp.dot)(params[\"Wq\"].untag(\"embed\"), emb.untag(\"embed\"))\n",
        "  keys = nmap(jnp.dot)(params[\"Wk\"].untag(\"embed\"), emb.untag(\"embed\"))\n",
        "  values = nmap(jnp.dot)(params[\"Wv\"].untag(\"embed\"), emb.untag(\"embed\"))\n",
        "\n",
        "  # As this is SELF-attention, the queries and keys both have the same dimension \"seq\".\n",
        "  # But, we want (key, query) pairs to interact, even if the key and query index\n",
        "  # is different. To accomplish this with the named array system, we need to rename\n",
        "  # the \"seq\" axis for both.\n",
        "  queries = queries.untag(\"seq\").tag(\"query\")\n",
        "  keys = keys.untag(\"seq\").tag(\"key\")\n",
        "  values = values.untag(\"seq\").tag(\"key\")\n",
        "\n",
        "  # !!------------ THIS BIT CHANGES --------------!!\n",
        "  # Compute scores by taking the inner product of every key with every query\n",
        "  # This checks \"alignment\".\n",
        "  nmap_dot = nmap(jnp.dot)\n",
        "  scores = nmap_dot(queries.untag(\"embed/head\"), keys.untag(\"embed/head\"))\n",
        "\n",
        "  # Scale the attention logits to avoid saturating the softmax\n",
        "  feature_dim = queries.named_shape[\"embed/head\"]\n",
        "  scores = scores / np.sqrt(feature_dim)\n",
        "\n",
        "  # !!------------ THIS BIT DOESN'T --------------!!\n",
        "  # Compute a probability distribution over keys for each query\n",
        "  # This is the \"soft\" index, aka attention!\n",
        "  nmap_softmax = nmap(jax.nn.softmax)\n",
        "  attn_dist = nmap_softmax(scores.untag(\"key\"))\n",
        "  attn_dist = attn_dist.tag(\"key\")\n",
        "\n",
        "  # Taking the inner product along the key axis with the attention distribution\n",
        "  # returns the average value, with each key contributing in proportion to\n",
        "  # its attention weight\n",
        "  # the output will have named axes {\"query\", \"embed\"} and is a floating-point array\n",
        "  emb = nmap_dot(attn_dist.untag(\"key\"), values.untag(\"key\"))\n",
        "\n",
        "\n",
        "  # We're going to rearrange the dimensions now to bring us back to convention.\n",
        "  # First, we rename \"query\", which was a holdover from our attention convention\n",
        "  emb = emb.untag(\"query\").tag(\"seq\")\n",
        "\n",
        "  # !!------------ THIS BIT CHANGES --------------!!\n",
        "  # emb named axes should now include {\"seq\", \"head\", \"embed/head\"}\n",
        "  # We can concatenate \"head\" and \"embed/head\" axes by reshaping:\n",
        "  emb = emb.untag(\"head\", \"embed/head\").flatten().tag(\"embed\")\n",
        "\n",
        "  # emb named axes should now include {\"seq\", \"embed\"}\n",
        "\n",
        "  # Final affine layer\n",
        "  emb = affine_along(params[\"aff\"], emb, \"embed\")\n",
        "  return emb"
      ],
      "metadata": {
        "id": "OTUQubTU0NZh"
      },
      "execution_count": null,
      "outputs": []
    },
    {
      "cell_type": "markdown",
      "source": [
        "#### Causal Masking\n",
        "\n",
        "There's a problem, though.\n",
        "\n",
        "* The next token $y_i$ that we're trying to predict is also present in the input, except for the very last, next token $y_{T-1}$\n",
        "* If the Transformer is shown $x_{i+1}$ as part of the input, it could just copy $x_{i+1}$ in its prediction and ignore the context $x_0 \\ldots x_{i}$\n",
        "  * more formally, the probability distribution $p(x_{i+1} | x_0, \\ldots, x_T)$ has zero entropy for all $i = 0, \\ldots, T-1$\n",
        "* This is not the distribution we set out to model!\n",
        "* The way to force the transformer to learn the distribution $p(x_{i+1} | x_0, \\ldots, x_{i})$ that we want is to *mask* the input tokens appropriately\n",
        "* In particular, when predicting $x_{i+1}$, we only allow tokens $x_j$ with $j \\leq i$ to communicate via attention.\n",
        "* In practice, this is accomplished by making sure that the embedding at time $i$ can only depend on embeddings at times $j \\leq i$\n",
        "* This is called *causal masking* because it prevents predictions from \"seeing\" the future\n",
        "\n",
        "Let's see what this looks like in code"
      ],
      "metadata": {
        "id": "N90iH8N-PXIT"
      }
    },
    {
      "cell_type": "code",
      "source": [
        "def multiheaded_selfattention(params, emb, causal=True):\n",
        "  # params[\"Wq\"] named axes are {\"embed\", \"head\", \"embed/head\"} where dim(\"head\") * dim (\"embed/head\") = dim(\"embed\")\n",
        "  # params[\"Wk\"] named axes are {\"embed\", \"head\", \"embed/head\"} where dim(\"head\") * dim (\"embed/head\") = dim(\"embed\")\n",
        "  # params[\"Wv\"] named axes are {\"embed\", \"head\", \"embed/head\"} where dim(\"head\") * dim (\"embed/head\") = dim(\"embed\")\n",
        "\n",
        "  # dim(\"head\") is the number of heads\n",
        "  # dim(\"embed/head\") is the dimensionality of the embeddings per head\n",
        "\n",
        "  # params[\"aff\"][\"W\"] named axes are {\"embed_in\", \"embed_out\"}\n",
        "  # params[\"aff\"][\"b\"] named axes are {\"embed_out\"}\n",
        "  # emb named axes include {\"seq\", \"embed\"}\n",
        "\n",
        "  # Apply three linear maps to the embeddings independently across \"seq\"\n",
        "  # These are now our keys and queries and values for self-attention!\n",
        "  queries = nmap(jnp.dot)(params[\"Wq\"].untag(\"embed\"), emb.untag(\"embed\"))\n",
        "  keys = nmap(jnp.dot)(params[\"Wk\"].untag(\"embed\"), emb.untag(\"embed\"))\n",
        "  values = nmap(jnp.dot)(params[\"Wv\"].untag(\"embed\"), emb.untag(\"embed\"))\n",
        "\n",
        "  # As this is SELF-attention, the queries and keys both have the same dimension \"seq\".\n",
        "  # But, we want (key, query) pairs to interact, even if the key and query index\n",
        "  # is different. To accomplish this with the named array system, we need to rename\n",
        "  # the \"seq\" axis for both.\n",
        "  queries = queries.untag(\"seq\").tag(\"query\")\n",
        "  keys = keys.untag(\"seq\").tag(\"key\")\n",
        "  values = values.untag(\"seq\").tag(\"key\")\n",
        "\n",
        "  # Compute scores by taking the inner product of every key with every query\n",
        "  # This checks \"alignment\".\n",
        "  nmap_dot = nmap(jnp.dot)\n",
        "  scores = nmap_dot(queries.untag(\"embed/head\"), keys.untag(\"embed/head\"))\n",
        "\n",
        "  # Scale the attention logits to avoid saturating the softmax\n",
        "  feature_dim = queries.named_shape[\"embed/head\"]\n",
        "  scores = scores / np.sqrt(feature_dim)\n",
        "\n",
        "  if causal:\n",
        "    # For causal attention, we want to mask out (set to -inf) any (key, query) pair\n",
        "    # such that key's index is greater than query's index, i.e., key is in the future.\n",
        "    # This ensures the softmax will give zero probability to attending to the future.\n",
        "\n",
        "    # Get the sequence indices for the queries and keys to enable causal masking\n",
        "    query_dim = queries.named_shape[\"query\"]\n",
        "    key_dim = keys.named_shape[\"key\"]\n",
        "    k_idxs = pz.nx.arange(\"key\", key_dim)\n",
        "    q_idxs = pz.nx.arange(\"query\", query_dim)\n",
        "\n",
        "    # Set the scores to -inf where q < k\n",
        "    nmap_where = nmap(jnp.where)\n",
        "    scores = nmap_where(\n",
        "      q_idxs < k_idxs,  # Broadcasts across other dimensions\n",
        "      float('-inf'),\n",
        "      scores,\n",
        "    )\n",
        "\n",
        "  # Compute a probability distribution over keys for each query\n",
        "  # This is the \"soft\" index, aka attention!\n",
        "  nmap_softmax = nmap(jax.nn.softmax)\n",
        "  attn_dist = nmap_softmax(jax.nn.softmax)(scores.untag(\"key\"))\n",
        "  attn_dist = attn_dist.tag(\"key\")\n",
        "\n",
        "  # Taking the inner product along the key axis with the attention distribution\n",
        "  # returns the average value, with each key contributing in proportion to\n",
        "  # its attention weight\n",
        "  # the output will have named axes {\"query\", \"embed\"} and is a floating-point array\n",
        "  emb = nmap_dot(attn_dist.untag(\"key\"), values.untag(\"key\"))\n",
        "\n",
        "\n",
        "  # We're going to rearrange the dimensions now to bring us back to convention.\n",
        "  # First, we rename \"query\", which was a holdover from our attention convention\n",
        "  emb = emb.untag(\"query\").tag(\"seq\")\n",
        "\n",
        "  # emb named axes should now include {\"seq\", \"head\", \"embed/head\"}\n",
        "  # We can concatenate \"head\" and \"embed/head\" axes by reshaping:\n",
        "  emb = emb.untag(\"head\", \"embed/head\").flatten().tag(\"embed\")\n",
        "\n",
        "  # emb named axes should now include {\"seq\", \"embed\"}\n",
        "\n",
        "  # Final affine layer\n",
        "  emb = affine_along(params[\"aff\"], emb, \"embed\")\n",
        "  return emb"
      ],
      "metadata": {
        "id": "CkXqP1bhtqPu"
      },
      "execution_count": null,
      "outputs": []
    },
    {
      "cell_type": "markdown",
      "source": [
        "This is the famous multi-headed self-attention with causal masking!"
      ],
      "metadata": {
        "id": "uRsZa36ZvkRq"
      }
    },
    {
      "cell_type": "markdown",
      "source": [
        "#### Positional embeddings\n",
        "\n",
        "There's a problem, though.\n",
        "\n",
        "* Dictionaries do not have an order\n",
        "* Similarly, attention is *permutation invariant*, i.e., the embeddings that attention computs do not depend on the order of the keys\n",
        "* This is a problem because the order of tokens will very likely tell us something about the next token!\n",
        "* Positional embeddings are one way of addressing that for next-token prediction\n",
        "* This is a large area of study, but we will use the simplest approach:\n",
        "  * Create an embedding parameter for each index along the time axis\n",
        "  * Add the positional embedding for index $i$ to the input token embedding for token $x_i$\n",
        "  * Train the positional embeddings\n",
        "\n",
        "This is what that looks like"
      ],
      "metadata": {
        "id": "BwfuSZHk43FW"
      }
    },
    {
      "cell_type": "code",
      "source": [
        "tokens = wrap(np.random.randint(10, size=(1, 5)), \"batch\", \"seq\")\n",
        "\n",
        "# One embedding for every possible token 0, ..., 9\n",
        "token_embedding = wrap(np.random.randn(10, 2), \"alphabet\", \"embed\")\n",
        "\n",
        "# One embedding for every \"seq\" index 0, ..., 4\n",
        "position_embedding = wrap(np.random.randn(5, 2), \"seq\", \"embed\")\n",
        "\n",
        "# Token and position embeddings\n",
        "seq_len = tokens.named_shape[\"seq\"]\n",
        "tok_emb = token_embedding[{\"alphabet\" : tokens}] # embed tokens\n",
        "pos_emb = position_embedding[{\"seq\" : pz.nx.arange(\"seq\", seq_len)}] # embed indices\n",
        "\n",
        "# This is the embedding we will pass to the Transformer\n",
        "emb = tok_emb + pos_emb\n",
        "{\n",
        "    \"tok_emb\" : tok_emb,\n",
        "    \"pos_emb\" : pos_emb,\n",
        "    \"emb\" : emb,\n",
        "}"
      ],
      "metadata": {
        "colab": {
          "base_uri": "https://localhost:8080/"
        },
        "id": "rsZhte9y4jVI",
        "outputId": "b6687747-6c72-4510-a768-76aa073e5bb4"
      },
      "execution_count": null,
      "outputs": [
        {
          "output_type": "display_data",
          "data": {
            "text/html": [
              "<script> (()=>{ if (customElements.get('treescope-container') === undefined) { class TreescopeContainer extends HTMLElement { constructor() { super(); this.attachShadow({mode: \"open\"}); this.defns = {}; this.state = {}; } } customElements.define(\"treescope-container\", TreescopeContainer); } if (customElements.get('treescope-run-here') === undefined) { class RunHere extends HTMLElement { constructor() { super() } connectedCallback() { const run = child => { const fn = new Function(child.textContent); child.textContent = \"\"; fn.call(this); this.remove(); }; const child = this.querySelector(\"script\"); if (child) { run(child); } else { new MutationObserver(()=>{ run(this.querySelector(\"script\")); }).observe(this, {childList: true}); } } } customElements.define(\"treescope-run-here\", RunHere); } })(); </script> <treescope-container class=\"treescope_out_7d735f80eeba440496cf48743fb76493\" ></treescope-container> <treescope-run-here><script type=\"application/octet-stream\"> const root = ( Array.from(document.getElementsByClassName( \"treescope_out_7d735f80eeba440496cf48743fb76493\")) .filter((elt) => !elt.dataset.setup) )[0]; root.dataset.setup = 1; const msg = document.createElement(\"span\"); msg.style = \"color: #cccccc; font-family: monospace;\"; msg.textContent = \"(Loading...)\"; root.state.loadingMsg = msg; root.shadowRoot.appendChild(msg); root.state.chain = new Promise((resolve, reject) => { const observer = new IntersectionObserver((entries) => { for (const entry of entries) { if (entry.isIntersecting) { resolve(); observer.disconnect(); return; } } }, {rootMargin: \"1000px\"}); window.setTimeout(() => { observer.observe(root); }, 0); }); root.state.deferring = false; const _insertNode = (node) => { for (let oldScript of node.querySelectorAll(\"script\")) { let newScript = document.createElement(\"script\"); newScript.type = oldScript.type; newScript.textContent = oldScript.textContent; oldScript.parentNode.replaceChild(newScript, oldScript); } if (root.state.loadingMsg) { root.state.loadingMsg.remove(); root.state.loadingMsg = null; } root.shadowRoot.appendChild(node); }; root.defns.insertContent = ((contentNode, compressed) => { if (compressed) { root.state.deferring = true; } if (root.state.deferring) { root.state.chain = (async () => { await root.state.chain; if (compressed) { const encoded = contentNode.textContent; const blob = new Blob([ Uint8Array.from(atob(encoded), (m) => m.codePointAt(0)) ]); const reader = blob.stream().pipeThrough( new DecompressionStream(\"deflate\") ).pipeThrough( new TextDecoderStream(\"utf-8\") ).getReader(); const parts = []; while (true) { const step = await reader.read(); if (step.done) { break; } parts.push(step.value); } const tpl = document.createElement('template'); tpl.innerHTML = parts.join(\"\"); _insertNode(tpl.content); } else { _insertNode(contentNode.content); } })(); } else { _insertNode(contentNode.content); } }); </script></treescope-run-here><div style=\"display:none\"> <script type=\"application/octet-stream\" >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</script> <treescope-run-here><script type=\"application/octet-stream\"> const root = ( Array.from(document.getElementsByClassName( \"treescope_out_7d735f80eeba440496cf48743fb76493\")) .filter((elt) => !elt.dataset['step0']) )[0]; root.dataset['step0'] = 1; root.defns.insertContent( this.parentNode.querySelector('script[type=\"application/octet-stream\"]'), true ); this.parentNode.remove(); </script></treescope-run-here> </div>"
            ],
            "text/plain": [
              "<IPython.core.display.HTML object>"
            ]
          },
          "metadata": {}
        },
        {
          "output_type": "display_data",
          "data": {
            "text/html": [
              "<div style=\"display:none\"> <script type=\"application/octet-stream\" >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</script> <treescope-run-here><script type=\"application/octet-stream\"> const root = ( Array.from(document.getElementsByClassName( \"treescope_out_7d735f80eeba440496cf48743fb76493\")) .filter((elt) => !elt.dataset['step1']) )[0]; root.dataset['step1'] = 1; root.defns.insertContent( this.parentNode.querySelector('script[type=\"application/octet-stream\"]'), true ); this.parentNode.remove(); </script></treescope-run-here> </div>"
            ],
            "text/plain": [
              "<IPython.core.display.HTML object>"
            ]
          },
          "metadata": {}
        },
        {
          "output_type": "execute_result",
          "data": {
            "text/html": [
              "<treescope-run-here><script type=\"application/octet-stream\"> const root = ( Array.from(document.getElementsByClassName( \"treescope_out_7d735f80eeba440496cf48743fb76493\")) .filter((elt) => !elt.dataset.stolen) )[0]; root.dataset.stolen = 1; this.parentNode.replaceChild(root, this); </script></treescope-run-here>"
            ],
            "text/plain": [
              "{'tok_emb': <NamedArray float32(| embed:2, batch:1, seq:5) ≈0.033 ±0.94 [≥-2.0, ≤1.4] nonzero:10 (wrapping jax.Array)\n",
              "   <Arrayviz rendering>\n",
              " | Device: GPU 0>,\n",
              " 'pos_emb': <NamedArray float32(| embed:2, seq:5) ≈0.17 ±1.0 [≥-1.8, ≤1.7] nonzero:10 (wrapping jax.Array)\n",
              "   <Arrayviz rendering>\n",
              " | Device: GPU 0>,\n",
              " 'emb': <NamedArray float32(| embed:2, batch:1, seq:5) ≈0.21 ±1.2 [≥-2.0, ≤1.9] nonzero:10 (wrapping jax.Array)\n",
              "   <Arrayviz rendering>\n",
              " | Device: GPU 0>}"
            ]
          },
          "metadata": {},
          "execution_count": 63
        }
      ]
    },
    {
      "cell_type": "markdown",
      "source": [
        "### Overcoming the challenge of depth\n",
        "\n",
        "As neural networks get deeper, their non-linearities make optimization challenging. This is due to a number of reasons, but intuitively this occurs because (i) information gets lost in non-invertible functions and (ii) randomly initialized neural networks tend to be non-invertible. This is a huge topic of inquiry and Transformers use two tricks to mitigate this.\n",
        "\n",
        "* **[Layer norm](https://arxiv.org/abs/1607.06450).** Layer norm renormalizes every dimension along the \"embed\" axis independently and has a learnable scale and bias.\n",
        "\n",
        "* **[Residual connections](https://arxiv.org/abs/1512.03385).** Residual connections help stabilize learning for very deep MLPs and neural networks. They allow information to skip directly from earlier layers to later ones. They are very simple to define: if we are applying layer $f : \\mathbb{R}^d \\to \\mathbb{R}^d$ to an input $x \\in \\mathbb{R}^d$, the residual connection layer is $y = x + f(x)$. We will see this in action in the final Transformer block implementation.\n",
        "\n",
        "We don't have time to cover these in the class, so I encourage you to check out the GitHub."
      ],
      "metadata": {
        "id": "-znq3oxOQuvG"
      }
    },
    {
      "cell_type": "markdown",
      "source": [
        "# GitHub\n",
        "Debugging notebooks is very time-consuming. So, I don't want to run the full Transformer in a notebook.\n",
        "\n",
        "Let's go see the associated [GitHub](https://github.com/cmaddis/tlm) to see what this all looks like in code!\n"
      ],
      "metadata": {
        "id": "Q3DXUg9a8c-_"
      }
    }
  ]
}